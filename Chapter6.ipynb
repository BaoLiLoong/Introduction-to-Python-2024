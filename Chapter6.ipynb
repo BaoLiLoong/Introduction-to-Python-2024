{
 "cells": [
  {
   "cell_type": "markdown",
   "id": "c34f4273-5c74-4010-a816-bcc527cb8ae3",
   "metadata": {},
   "source": [
    "# 第六章 字典"
   ]
  },
  {
   "cell_type": "markdown",
   "id": "14607d43-c33c-4c93-8bb6-e1a02f439362",
   "metadata": {},
   "source": [
    "## 6.1 一个简单的字典"
   ]
  },
  {
   "cell_type": "code",
   "execution_count": 1,
   "id": "fbf73128-5ebd-4c5a-93f5-d0e47e2302a7",
   "metadata": {},
   "outputs": [
    {
     "name": "stdout",
     "output_type": "stream",
     "text": [
      "green\n",
      "5\n"
     ]
    }
   ],
   "source": [
    "alien_0 = {'color': 'green', 'points': 5}\n",
    "print(alien_0['color'])\n",
    "print(alien_0['points'])"
   ]
  },
  {
   "cell_type": "markdown",
   "id": "6ed5c9b7-4d8e-4765-ac5e-21c8a1f7d3c4",
   "metadata": {},
   "source": [
    "## 6.2 使用字典"
   ]
  },
  {
   "cell_type": "code",
   "execution_count": null,
   "id": "b6b998e1-1b26-4926-859c-5dd3dea86f9a",
   "metadata": {},
   "outputs": [],
   "source": [
    "#花括号、键值对\n",
    "alien_0 = {'color': 'green'}"
   ]
  },
  {
   "cell_type": "markdown",
   "id": "882693c6-4989-4481-80d1-0038cfa40d08",
   "metadata": {},
   "source": [
    "### 6.2.1 访问字典中的值"
   ]
  },
  {
   "cell_type": "code",
   "execution_count": 2,
   "id": "8234aaa7-8ca7-43a2-87be-bd09d909ed52",
   "metadata": {},
   "outputs": [
    {
     "name": "stdout",
     "output_type": "stream",
     "text": [
      "green\n"
     ]
    }
   ],
   "source": [
    "alien_0 = {'color': 'green'}\n",
    "print(alien_0['color'])#方括号"
   ]
  },
  {
   "cell_type": "code",
   "execution_count": 3,
   "id": "96df2ff8-e9da-4a63-8879-a1aae31b290b",
   "metadata": {},
   "outputs": [
    {
     "name": "stdout",
     "output_type": "stream",
     "text": [
      "You just earned 5 points!\n"
     ]
    }
   ],
   "source": [
    "alien_0 = {'color': 'green', 'points': 5}\n",
    "new_points = alien_0['points']\n",
    "print(f\"You just earned {new_points} points!\")"
   ]
  },
  {
   "cell_type": "markdown",
   "id": "8b0701d8-ad25-4392-87ec-8c79d41b3071",
   "metadata": {},
   "source": [
    "### 6.2.2 添加键值对"
   ]
  },
  {
   "cell_type": "code",
   "execution_count": 4,
   "id": "712e13cb-7b1b-49ed-b95c-e072515c185c",
   "metadata": {},
   "outputs": [
    {
     "name": "stdout",
     "output_type": "stream",
     "text": [
      "{'color': 'green', 'points': 5}\n",
      "{'color': 'green', 'points': 5, 'x_position': 0, 'y_position': 25}\n"
     ]
    }
   ],
   "source": [
    "alien_0 = {'color': 'green', 'points': 5}\n",
    "print(alien_0)\n",
    "alien_0['x_position'] = 0\n",
    "alien_0['y_position'] = 25\n",
    "print(alien_0)"
   ]
  },
  {
   "cell_type": "code",
   "execution_count": 2,
   "id": "603f0c41-2433-4cb0-81c4-13d94414269b",
   "metadata": {},
   "outputs": [
    {
     "name": "stdout",
     "output_type": "stream",
     "text": [
      "['green', 5]\n"
     ]
    }
   ],
   "source": [
    "alien_0 = [0, 0]\n",
    "alien_0[0] = 'green'\n",
    "alien_0[1] = 5\n",
    "print(alien_0)"
   ]
  },
  {
   "cell_type": "markdown",
   "id": "8130f866-68fc-472e-a8a3-7a536ca47fea",
   "metadata": {},
   "source": [
    "### 6.2.3 从创建一个空字典开始"
   ]
  },
  {
   "cell_type": "code",
   "execution_count": 5,
   "id": "b4fee575-187e-40c9-9fb7-bb8f6f6a2571",
   "metadata": {},
   "outputs": [
    {
     "name": "stdout",
     "output_type": "stream",
     "text": [
      "{'color': 'green', 'points': 5}\n"
     ]
    }
   ],
   "source": [
    "#空花括号\n",
    "alien_0 = {}\n",
    "\n",
    "alien_0['color'] = 'green'\n",
    "alien_0['points'] = 5\n",
    "\n",
    "print(alien_0)"
   ]
  },
  {
   "cell_type": "markdown",
   "id": "60713163-9ed5-4508-9e9d-e3219b212097",
   "metadata": {},
   "source": [
    "### 6.2.4 修改字典里的值"
   ]
  },
  {
   "cell_type": "code",
   "execution_count": 6,
   "id": "b8fd5cdb-3dd2-4e7d-a8e5-641566a27587",
   "metadata": {},
   "outputs": [
    {
     "name": "stdout",
     "output_type": "stream",
     "text": [
      "The alien is green.\n",
      "The alien is now yellow.\n"
     ]
    }
   ],
   "source": [
    "alien_0 = {'color': 'green'}\n",
    "print(f\"The alien is {alien_0['color']}.\")\n",
    "\n",
    "alien_0['color'] = 'yellow'\n",
    "print(f\"The alien is now {alien_0['color']}.\")"
   ]
  },
  {
   "cell_type": "code",
   "execution_count": 8,
   "id": "6eef1ade-6593-4447-a264-da156c4d8aa5",
   "metadata": {},
   "outputs": [
    {
     "name": "stdout",
     "output_type": "stream",
     "text": [
      "Original position: 0\n",
      "New position: 2\n"
     ]
    }
   ],
   "source": [
    "alien_0 = {'x_position': 0, 'y_position': 25, 'speed': 'medium'}\n",
    "print(f\"Original position: {alien_0['x_position']}\")\n",
    "\n",
    "# 向右移动外星人\n",
    "# 根据当前速度确定将外星人向右移动多远\n",
    "if alien_0['speed'] == 'slow':\n",
    "    x_increment = 1\n",
    "elif alien_0['speed'] == 'medium':\n",
    "    x_increment = 2\n",
    "else:\n",
    "    # 这个外星人的移动速度肯定很快\n",
    "    x_increment = 3\n",
    "\n",
    "# 新位置为旧位置加上移动距离\n",
    "alien_0['x_position'] = alien_0['x_position'] + x_increment\n",
    "\n",
    "print(f\"New position: {alien_0['x_position']}\")"
   ]
  },
  {
   "cell_type": "markdown",
   "id": "971e8fd5-dc45-4713-956f-e53e61e87bd6",
   "metadata": {},
   "source": [
    "### 6.2.5 删除键值对"
   ]
  },
  {
   "cell_type": "code",
   "execution_count": 9,
   "id": "090e652f-e1d8-4362-8994-24d8f79f3543",
   "metadata": {},
   "outputs": [
    {
     "name": "stdout",
     "output_type": "stream",
     "text": [
      "{'color': 'green', 'points': 5}\n",
      "{'color': 'green'}\n"
     ]
    }
   ],
   "source": [
    "alien_0 = {'color': 'green', 'points': 5}\n",
    "print(alien_0)\n",
    "#删除的键值对永远消失了\n",
    "del alien_0['points']\n",
    "print(alien_0)"
   ]
  },
  {
   "cell_type": "markdown",
   "id": "8359cc3b-dcac-4aa9-b64d-2c7a48710f1e",
   "metadata": {},
   "source": [
    "### 6.2.6 由类似的对象组成的字典"
   ]
  },
  {
   "cell_type": "code",
   "execution_count": 10,
   "id": "916c84f2-56e4-4d9a-b5d2-09cf9bc12d41",
   "metadata": {},
   "outputs": [
    {
     "name": "stdout",
     "output_type": "stream",
     "text": [
      "Sarah's favorite language is C.\n"
     ]
    }
   ],
   "source": [
    "favorite_languages = {\n",
    "    'jen': 'python',\n",
    "    'sarah': 'c',\n",
    "    'edward': 'rust',\n",
    "    'phil': 'python',#最后一个键值对后加，方便后续添加\n",
    "    }\n",
    "\n",
    "language = favorite_languages['sarah'].title()\n",
    "print(f\"Sarah's favorite language is {language}.\")"
   ]
  },
  {
   "cell_type": "markdown",
   "id": "4dd33c0b-0142-4bac-8dee-52832dcb0bc6",
   "metadata": {},
   "source": [
    "### 6.2.7 使用get()来访问值"
   ]
  },
  {
   "cell_type": "code",
   "execution_count": 11,
   "id": "97bd5af6-7d29-4d1c-92cb-1c9a26aa93de",
   "metadata": {},
   "outputs": [
    {
     "ename": "KeyError",
     "evalue": "'points'",
     "output_type": "error",
     "traceback": [
      "\u001b[1;31m---------------------------------------------------------------------------\u001b[0m",
      "\u001b[1;31mKeyError\u001b[0m                                  Traceback (most recent call last)",
      "Cell \u001b[1;32mIn[11], line 2\u001b[0m\n\u001b[0;32m      1\u001b[0m alien_0 \u001b[38;5;241m=\u001b[39m {\u001b[38;5;124m'\u001b[39m\u001b[38;5;124mcolor\u001b[39m\u001b[38;5;124m'\u001b[39m: \u001b[38;5;124m'\u001b[39m\u001b[38;5;124mgreen\u001b[39m\u001b[38;5;124m'\u001b[39m, \u001b[38;5;124m'\u001b[39m\u001b[38;5;124mspeed\u001b[39m\u001b[38;5;124m'\u001b[39m: \u001b[38;5;124m'\u001b[39m\u001b[38;5;124mslow\u001b[39m\u001b[38;5;124m'\u001b[39m}\n\u001b[1;32m----> 2\u001b[0m \u001b[38;5;28mprint\u001b[39m(alien_0[\u001b[38;5;124m'\u001b[39m\u001b[38;5;124mpoints\u001b[39m\u001b[38;5;124m'\u001b[39m])\n",
      "\u001b[1;31mKeyError\u001b[0m: 'points'"
     ]
    }
   ],
   "source": [
    "alien_0 = {'color': 'green', 'speed': 'slow'}\n",
    "print(alien_0['points'])"
   ]
  },
  {
   "cell_type": "code",
   "execution_count": 12,
   "id": "3c3764b8-e158-4f6a-a31e-51ffd16a0433",
   "metadata": {},
   "outputs": [
    {
     "name": "stdout",
     "output_type": "stream",
     "text": [
      "No point value assigned.\n"
     ]
    }
   ],
   "source": [
    "alien_0 = {'color': 'green', 'speed': 'slow'}\n",
    "#get()方法的第一个参数用于指定键，是必不可少的；第二个参数为当指定的键不存在时要返回的值，是可选的\n",
    "point_value = alien_0.get('points', 'No point value assigned.')\n",
    "print(point_value)"
   ]
  },
  {
   "cell_type": "markdown",
   "id": "de29f7cb-f6ac-46b2-9d0e-749a4711830f",
   "metadata": {},
   "source": [
    "## 6.3 遍历字典"
   ]
  },
  {
   "cell_type": "markdown",
   "id": "eddc1933-9a81-46ab-a1a9-c2f56f654d0b",
   "metadata": {},
   "source": [
    "### 6.3.1 遍历所有键值对"
   ]
  },
  {
   "cell_type": "code",
   "execution_count": 13,
   "id": "869f5eb9-9dae-4ba2-b47e-177ea189208c",
   "metadata": {},
   "outputs": [
    {
     "name": "stdout",
     "output_type": "stream",
     "text": [
      "\n",
      "Key: username\n",
      "Value: efermi\n",
      "\n",
      "Key: first\n",
      "Value: enrico\n",
      "\n",
      "Key: last\n",
      "Value: fermi\n"
     ]
    }
   ],
   "source": [
    "user_0 = {\n",
    "    'username': 'efermi',\n",
    "    'first': 'enrico',\n",
    "    'last': 'fermi',\n",
    "    }\n",
    "#for k, v in user_0.items()\n",
    "for key, value in user_0.items():\n",
    "    print(f\"\\nKey: {key}\")\n",
    "    print(f\"Value: {value}\")"
   ]
  },
  {
   "cell_type": "code",
   "execution_count": 16,
   "id": "4096ad9f-b7f1-413a-94a9-08b7e03a78c1",
   "metadata": {},
   "outputs": [
    {
     "name": "stdout",
     "output_type": "stream",
     "text": [
      "Jen's favorite language is Python.\n",
      "\n",
      "Sarah's favorite language is C.\n",
      "\n",
      "Edward's favorite language is Rust.\n",
      "\n",
      "Phil's favorite language is Python.\n",
      "\n"
     ]
    }
   ],
   "source": [
    "favorite_languages = {\n",
    "    'jen': 'python',\n",
    "    'sarah': 'c',\n",
    "    'edward': 'rust',\n",
    "    'phil': 'python',\n",
    "    }\n",
    "\n",
    "for name, language in favorite_languages.items():\n",
    "    print(f\"{name.title()}'s favorite language is {language.title()}.\\n\")"
   ]
  },
  {
   "cell_type": "markdown",
   "id": "8edf130d-a6f4-40f8-a867-1514c7d70a8e",
   "metadata": {},
   "source": [
    "### 6.3.2 遍历字典中的所有键"
   ]
  },
  {
   "cell_type": "code",
   "execution_count": 17,
   "id": "cc4ce88a-74f2-450b-bd86-bf179400035a",
   "metadata": {},
   "outputs": [
    {
     "name": "stdout",
     "output_type": "stream",
     "text": [
      "Jen\n",
      "Sarah\n",
      "Edward\n",
      "Phil\n"
     ]
    }
   ],
   "source": [
    "favorite_languages = {\n",
    "    'jen': 'python',\n",
    "    'sarah': 'c',\n",
    "    'edward': 'rust',\n",
    "    'phil': 'python',\n",
    "    }\n",
    "\n",
    "for name in favorite_languages.keys():\n",
    "    print(name.title())"
   ]
  },
  {
   "cell_type": "code",
   "execution_count": 18,
   "id": "56be2f4c-4955-4149-968b-57dd0333ca66",
   "metadata": {},
   "outputs": [
    {
     "name": "stdout",
     "output_type": "stream",
     "text": [
      "Jen\n",
      "Sarah\n",
      "Edward\n",
      "Phil\n"
     ]
    }
   ],
   "source": [
    "favorite_languages = {\n",
    "    'jen': 'python',\n",
    "    'sarah': 'c',\n",
    "    'edward': 'rust',\n",
    "    'phil': 'python',\n",
    "    }\n",
    "\n",
    "for name in favorite_languages:#key.()方法让代码更容易理解\n",
    "    print(name.title())"
   ]
  },
  {
   "cell_type": "code",
   "execution_count": 3,
   "id": "ff9d1bdc-b3ce-45f4-815a-01c2d2dfe2b5",
   "metadata": {},
   "outputs": [
    {
     "name": "stdout",
     "output_type": "stream",
     "text": [
      "Hi Jen.\n",
      "Hi Sarah.\n",
      "Hi Edward.\n",
      "Hi Phil.\n",
      "\tPhil, I see you love Python!\n"
     ]
    }
   ],
   "source": [
    "favorite_languages = {\n",
    "    'jen': 'python',\n",
    "    'sarah': 'c',\n",
    "    'edward': 'rust',\n",
    "    'phil': 'python',\n",
    "    }\n",
    "\n",
    "friends = ['phil', 'sarah']\n",
    "for name in favorite_languages.keys():\n",
    "    print(f\"Hi {name.title()}.\")\n",
    "\n",
    "if name in friends:\n",
    "    language = favorite_languages[name].title()\n",
    "    print(f\"\\t{name.title()}, I see you love {language}!\")"
   ]
  },
  {
   "cell_type": "code",
   "execution_count": 11,
   "id": "6f7cacd8-4690-453a-abc8-ab889a7ebf9f",
   "metadata": {},
   "outputs": [
    {
     "name": "stdout",
     "output_type": "stream",
     "text": [
      "Hi Jen.\n",
      "Hi Sarah.\n",
      "\tSarah, I see you love C!\n",
      "Hi Edward.\n",
      "Hi Phil.\n",
      "\tPhil, I see you love Python!\n"
     ]
    }
   ],
   "source": [
    "favorite_languages = {\n",
    "    'jen': 'python',\n",
    "    'sarah': 'c',\n",
    "    'edward': 'rust',\n",
    "    'phil': 'python',\n",
    "    }\n",
    "\n",
    "friends = ['phil', 'sarah']\n",
    "for name in favorite_languages.keys():\n",
    "    print(f\"Hi {name.title()}.\")\n",
    "\n",
    "    if name in friends:\n",
    "        language = favorite_languages[name].title()\n",
    "        print(f\"\\t{name.title()}, I see you love {language}!\")"
   ]
  },
  {
   "cell_type": "code",
   "execution_count": 12,
   "id": "03614f16-90ab-47c3-a279-5066f8ef041f",
   "metadata": {},
   "outputs": [
    {
     "name": "stdout",
     "output_type": "stream",
     "text": [
      "Erin, please take our poll!\n"
     ]
    }
   ],
   "source": [
    "favorite_languages = {\n",
    "    'jen': 'python',\n",
    "    'sarah': 'c',\n",
    "    'edward': 'rust',\n",
    "    'phil': 'python',\n",
    "     }\n",
    "\n",
    "if 'erin' not in favorite_languages.keys():\n",
    "    print(\"Erin, please take our poll!\")"
   ]
  },
  {
   "cell_type": "markdown",
   "id": "f0a0a08b-4720-4966-bbe5-cdad4ceee783",
   "metadata": {},
   "source": [
    "### 6.3.4 遍历字典中的所有值"
   ]
  },
  {
   "cell_type": "code",
   "execution_count": 13,
   "id": "aee9345d-4dec-417b-beb7-18a96661975a",
   "metadata": {},
   "outputs": [
    {
     "name": "stdout",
     "output_type": "stream",
     "text": [
      "The following languages have been mentioned:\n",
      "Python\n",
      "C\n",
      "Rust\n",
      "Python\n"
     ]
    }
   ],
   "source": [
    "favorite_languages = {\n",
    "    'jen': 'python',\n",
    "    'sarah': 'c',\n",
    "    'edward': 'rust',\n",
    "    'phil': 'python',\n",
    "    }\n",
    "\n",
    "print(\"The following languages have been mentioned:\")\n",
    "for language in favorite_languages.values():\n",
    "    print(language.title())"
   ]
  },
  {
   "cell_type": "code",
   "execution_count": 14,
   "id": "a27e70d1-d3af-4564-b592-d2447f5ae8fd",
   "metadata": {},
   "outputs": [
    {
     "name": "stdout",
     "output_type": "stream",
     "text": [
      "The following languages have been mentioned:\n",
      "Python\n",
      "Rust\n",
      "C\n"
     ]
    }
   ],
   "source": [
    "favorite_languages = {\n",
    "    'jen': 'python',\n",
    "    'sarah': 'c',\n",
    "    'edward': 'rust',\n",
    "    'phil': 'python',\n",
    "     }\n",
    "\n",
    "print(\"The following languages have been mentioned:\")\n",
    "for language in set(favorite_languages.values()):#为剔除重复项，可使用集合（set）\n",
    "    print(language.title())"
   ]
  },
  {
   "cell_type": "code",
   "execution_count": 16,
   "id": "71107826-3677-4ad1-a1ae-dfab43b347a3",
   "metadata": {},
   "outputs": [
    {
     "data": {
      "text/plain": [
       "{'c', 'python', 'rust'}"
      ]
     },
     "execution_count": 16,
     "metadata": {},
     "output_type": "execute_result"
    }
   ],
   "source": [
    "#可以用花括号直接创建集合\n",
    "languages = {'python', 'rust', 'python', 'c'}\n",
    "languages"
   ]
  },
  {
   "cell_type": "markdown",
   "id": "1bbced37-cb03-443c-af6e-1c2841d323d4",
   "metadata": {},
   "source": [
    "## 6.4 嵌套"
   ]
  },
  {
   "cell_type": "markdown",
   "id": "a9c33c30-68aa-4569-b584-0c146b5eef6a",
   "metadata": {},
   "source": [
    "### 6.4.1 字典列表"
   ]
  },
  {
   "cell_type": "code",
   "execution_count": 17,
   "id": "a28c31fd-b4b2-49f0-a97d-343c374bf180",
   "metadata": {},
   "outputs": [
    {
     "name": "stdout",
     "output_type": "stream",
     "text": [
      "{'color': 'green', 'points': 5}\n",
      "{'color': 'yellow', 'points': 10}\n",
      "{'color': 'red', 'points': 15}\n"
     ]
    }
   ],
   "source": [
    "alien_0 = {'color': 'green', 'points': 5}\n",
    "alien_1 = {'color': 'yellow', 'points': 10}\n",
    "alien_2 = {'color': 'red', 'points': 15}\n",
    "\n",
    "aliens = [alien_0, alien_1, alien_2]\n",
    "\n",
    "for alien in aliens:\n",
    "    print(alien)"
   ]
  },
  {
   "cell_type": "code",
   "execution_count": 19,
   "id": "e6af5064-b3e9-42cd-b184-3eccb370f3e1",
   "metadata": {},
   "outputs": [
    {
     "name": "stdout",
     "output_type": "stream",
     "text": [
      "{'color': 'green', 'points': 5, 'speed': 'slow'}\n",
      "{'color': 'green', 'points': 5, 'speed': 'slow'}\n",
      "{'color': 'green', 'points': 5, 'speed': 'slow'}\n",
      "{'color': 'green', 'points': 5, 'speed': 'slow'}\n",
      "{'color': 'green', 'points': 5, 'speed': 'slow'}\n",
      "...\n",
      "Total number of aliens: 30\n"
     ]
    }
   ],
   "source": [
    "# 创建一个用于存储外星人的空列表\n",
    "aliens = []\n",
    "\n",
    "# 创建 30 个绿色的外星人\n",
    "for alien_number in range(30):#每循环一次创建一个外星人\n",
    "    new_alien = {'color': 'green', 'points': 5, 'speed': 'slow'}\n",
    "    aliens.append(new_alien)\n",
    "\n",
    "# 显示前 5 个外星人\n",
    "for alien in aliens[:5]:\n",
    "    print(alien)\n",
    "print(\"...\")\n",
    "\n",
    "# 显示创建了多少个外星人\n",
    "print(f\"Total number of aliens: {len(aliens)}\")"
   ]
  },
  {
   "cell_type": "code",
   "execution_count": 22,
   "id": "e0751c5f-8607-4866-ba0a-4ec21b0fc147",
   "metadata": {},
   "outputs": [
    {
     "name": "stdout",
     "output_type": "stream",
     "text": [
      "{'color': 'yellow', 'points': 10, 'speed': 'medium'}\n",
      "{'color': 'yellow', 'points': 10, 'speed': 'medium'}\n",
      "{'color': 'yellow', 'points': 10, 'speed': 'medium'}\n",
      "{'color': 'green', 'points': 5, 'speed': 'slow'}\n",
      "{'color': 'green', 'points': 5, 'speed': 'slow'}\n",
      "...\n"
     ]
    }
   ],
   "source": [
    "# 创建一个用于存储外星人的空列表\n",
    "aliens = []\n",
    "\n",
    "# 创建 30 个绿色的外星人\n",
    "for alien_number in range(30):#每循环一次创建一个外星人\n",
    "    new_alien = {'color': 'green', 'points': 5, 'speed': 'slow'}\n",
    "    aliens.append(new_alien)\n",
    "\n",
    "for alien in aliens[:3]:\n",
    "    if alien['color'] == 'green':\n",
    "       alien['color'] = 'yellow'\n",
    "       alien['speed'] = 'medium'\n",
    "       alien['points'] = 10\n",
    "    \n",
    "# 显示前 5 个外星人\n",
    "for alien in aliens[:5]:\n",
    "    print(alien)\n",
    "print(\"...\")"
   ]
  },
  {
   "cell_type": "code",
   "execution_count": 26,
   "id": "0a4b9910-ed97-46ec-8432-ccfd404176b4",
   "metadata": {},
   "outputs": [
    {
     "name": "stdout",
     "output_type": "stream",
     "text": [
      "{'color': 'yellow', 'points': 10, 'speed': 'medium'}\n",
      "{'color': 'yellow', 'points': 10, 'speed': 'medium'}\n",
      "{'color': 'yellow', 'points': 10, 'speed': 'medium'}\n",
      "{'color': 'green', 'points': 5, 'speed': 'slow'}\n",
      "{'color': 'green', 'points': 5, 'speed': 'slow'}\n",
      "...\n"
     ]
    }
   ],
   "source": [
    "# 创建一个用于存储外星人的空列表\n",
    "aliens = []\n",
    "\n",
    "# 创建 30 个绿色的外星人\n",
    "for alien_number in range(30):#每循环一次创建一个外星人\n",
    "    new_alien = {'color': 'green', 'points': 5, 'speed': 'slow'}\n",
    "    aliens.append(new_alien)\n",
    "\n",
    "for alien in aliens[0:3]:\n",
    "    if alien['color'] == 'green':\n",
    "        alien['color'] = 'yellow'\n",
    "        alien['speed'] = 'medium'\n",
    "        alien['points'] = 10\n",
    "    elif alien['color'] == 'yellow':\n",
    "        alien['color'] = 'red'\n",
    "        alien['speed'] = 'fast'\n",
    "        alien['points'] = 15    \n",
    "\n",
    "# 显示前 5 个外星人\n",
    "for alien in aliens[:5]:\n",
    "    print(alien)\n",
    "print(\"...\")"
   ]
  },
  {
   "cell_type": "markdown",
   "id": "732f9d37-8539-4358-9325-9f237670d8b5",
   "metadata": {},
   "source": [
    "### 6.4.2 在字典中存储列表"
   ]
  },
  {
   "cell_type": "code",
   "execution_count": 27,
   "id": "c9750d52-5efc-47a2-a79f-34414af04b4a",
   "metadata": {},
   "outputs": [
    {
     "name": "stdout",
     "output_type": "stream",
     "text": [
      "You ordered a thick-crust pizza with the following toppings:\n",
      "\tmushrooms\n",
      "\textra cheese\n"
     ]
    }
   ],
   "source": [
    "# 存储顾客所点比萨的信息\n",
    "pizza = {\n",
    "    'crust': 'thick',\n",
    "    'toppings': ['mushrooms', 'extra cheese'],\n",
    "    }\n",
    "\n",
    "# 概述顾客点的比萨\n",
    "print(f\"You ordered a {pizza['crust']}-crust pizza \"\n",
    "      \"with the following toppings:\")\n",
    "\n",
    "for topping in pizza['toppings']:\n",
    "    print(f\"\\t{topping}\")"
   ]
  },
  {
   "cell_type": "code",
   "execution_count": 28,
   "id": "908d0db1-df47-4dc8-a692-2aec724749de",
   "metadata": {},
   "outputs": [
    {
     "name": "stdout",
     "output_type": "stream",
     "text": [
      "\n",
      "Jen's favorite languages are:\n",
      "\tPython\n",
      "\tRust\n",
      "\n",
      "Sarah's favorite languages are:\n",
      "\tC\n",
      "\n",
      "Edward's favorite languages are:\n",
      "\tRust\n",
      "\tGo\n",
      "\n",
      "Phil's favorite languages are:\n",
      "\tPython\n",
      "\tHaskell\n"
     ]
    }
   ],
   "source": [
    "favorite_languages = {\n",
    "    'jen': ['python', 'rust'],\n",
    "    'sarah': ['c'],\n",
    "    'edward': ['rust', 'go'],\n",
    "    'phil': ['python', 'haskell'],\n",
    "    }\n",
    "\n",
    "for name, languages in favorite_languages.items():\n",
    "    print(f\"\\n{name.title()}'s favorite languages are:\")\n",
    "    for language in languages:\n",
    "        print(f\"\\t{language.title()}\")"
   ]
  },
  {
   "cell_type": "markdown",
   "id": "36829edf-03e6-4b0b-b712-4e5ea571151c",
   "metadata": {},
   "source": [
    "### 6.4.3 在字典中存储字典"
   ]
  },
  {
   "cell_type": "code",
   "execution_count": 29,
   "id": "21421600-17c9-4d71-afa8-d566297a3fc5",
   "metadata": {},
   "outputs": [
    {
     "name": "stdout",
     "output_type": "stream",
     "text": [
      "\n",
      "Username: aeinstein\n",
      "\tFull name: Albert Einstein\n",
      "\tLocation: Princeton\n",
      "\n",
      "Username: mcurie\n",
      "\tFull name: Marie Curie\n",
      "\tLocation: Paris\n"
     ]
    }
   ],
   "source": [
    "users = {\n",
    "    'aeinstein': {\n",
    "        'first': 'albert',\n",
    "        'last': 'einstein',\n",
    "        'location': 'princeton',\n",
    "        },\n",
    "    'mcurie': {\n",
    "        'first': 'marie',\n",
    "        'last': 'curie',\n",
    "        'location': 'paris',\n",
    "        },\n",
    "        }\n",
    "for username, user_info in users.items():\n",
    "    print(f\"\\nUsername: {username}\")\n",
    "    full_name = f\"{user_info['first']} {user_info['last']}\"\n",
    "    location = user_info['location']\n",
    "    \n",
    "    print(f\"\\tFull name: {full_name.title()}\")\n",
    "    print(f\"\\tLocation: {location.title()}\")"
   ]
  },
  {
   "cell_type": "markdown",
   "id": "ed27c623-6440-4bae-911f-97a5392bf644",
   "metadata": {},
   "source": [
    "# 练习"
   ]
  },
  {
   "cell_type": "code",
   "execution_count": 1,
   "id": "1c9cb0d4-1ce6-461b-868d-f108ef09ed30",
   "metadata": {},
   "outputs": [
    {
     "name": "stdout",
     "output_type": "stream",
     "text": [
      "{'first_name': 'Jerry', 'last_name': 'Wang', 'age': 20, 'city': 'NanJing'}\n"
     ]
    }
   ],
   "source": [
    "#6.1 人\n",
    "person = {\n",
    "    'first_name': 'Jerry',\n",
    "    'last_name': 'Wang',\n",
    "    'age': 20,\n",
    "    'city': 'NanJing',\n",
    "    }\n",
    "print(person)    "
   ]
  },
  {
   "cell_type": "code",
   "execution_count": 3,
   "id": "50077387-cd2d-4f86-9d31-0ade671218d6",
   "metadata": {},
   "outputs": [
    {
     "name": "stdout",
     "output_type": "stream",
     "text": [
      "{'Counti': 7, 'Troye': 15, 'Jerry': 1, 'Amber': 4, 'Shimmer': 5}\n"
     ]
    }
   ],
   "source": [
    "#6.2 喜欢的数1\n",
    "number = {\n",
    "    'Counti': 7,\n",
    "    'Troye': 15,\n",
    "    'Jerry': 1,\n",
    "    'Amber': 4,\n",
    "    'Shimmer': 5,\n",
    "    }\n",
    "print(number)"
   ]
  },
  {
   "cell_type": "code",
   "execution_count": 1,
   "id": "93e6266a-f14c-4cff-90d7-63d1144d1cd2",
   "metadata": {},
   "outputs": [
    {
     "name": "stdout",
     "output_type": "stream",
     "text": [
      "变量: 程序中用于存储数据的标识符，其值可以改变。\n",
      "函数: 执行特定任务的代码块，可以接收输入参数并返回结果。\n",
      "循环: 允许程序多次执行一段代码，直到满足某个条件为止。\n",
      "条件语句: 根据条件（真或假）来执行不同代码块的语句。\n",
      "对象: 包含数据和方法的复合数据类型，是面向对象编程的基础。\n"
     ]
    }
   ],
   "source": [
    "#6.3 词汇表1\n",
    "# 创建词汇表字典  \n",
    "vocabulary = {  \n",
    "    \"变量\": \"程序中用于存储数据的标识符，其值可以改变。\",  \n",
    "    \"函数\": \"执行特定任务的代码块，可以接收输入参数并返回结果。\",  \n",
    "    \"循环\": \"允许程序多次执行一段代码，直到满足某个条件为止。\",  \n",
    "    \"条件语句\": \"根据条件（真或假）来执行不同代码块的语句。\",  \n",
    "    \"对象\": \"包含数据和方法的复合数据类型，是面向对象编程的基础。\"  \n",
    "    }  \n",
    "  \n",
    "# 以整洁的方式打印每个术语及其含义  \n",
    "for term, definition in vocabulary.items():  \n",
    "    print(f\"{term}: {definition}\")"
   ]
  },
  {
   "cell_type": "code",
   "execution_count": 2,
   "id": "93e06973-d59b-4ca7-ab70-79f7188359c6",
   "metadata": {},
   "outputs": [
    {
     "name": "stdout",
     "output_type": "stream",
     "text": [
      "变量:\n",
      "    程序中用于存储数据的标识符，其值可以改变。\n",
      "\n",
      "函数:\n",
      "    执行特定任务的代码块，可以接收输入参数并返回结果。\n",
      "\n",
      "循环:\n",
      "    允许程序多次执行一段代码，直到满足某个条件为止。\n",
      "\n",
      "条件语句:\n",
      "    根据条件（真或假）来执行不同代码块的语句。\n",
      "\n",
      "对象:\n",
      "    包含数据和方法的复合数据类型，是面向对象编程的基础。\n",
      "\n",
      "列表:\n",
      "    可以包含多个元素的有序集合\n",
      "\n",
      "元组:\n",
      "    与列表类似，但元素不可变的有序集合\n",
      "\n",
      "字典:\n",
      "    键值对的无序集合\n",
      "\n",
      "模块:\n",
      "    包含Python代码的文件，可被其他程序导入\n",
      "\n",
      "异常:\n",
      "    程序执行期间发生的问题，通常导致程序中断\n",
      "\n"
     ]
    }
   ],
   "source": [
    "#6.4 词汇表2\n",
    "vocabulary.update({  \n",
    "    \"列表\": \"可以包含多个元素的有序集合\",  \n",
    "    \"元组\": \"与列表类似，但元素不可变的有序集合\",  \n",
    "    \"字典\": \"键值对的无序集合\",  \n",
    "    \"模块\": \"包含Python代码的文件，可被其他程序导入\",  \n",
    "    \"异常\": \"程序执行期间发生的问题，通常导致程序中断\"  \n",
    "    })  \n",
    "for term, definition in vocabulary.items():  \n",
    "    print(f\"{term}:\")  \n",
    "    print(f\"    {definition}\")  \n",
    "    print() "
   ]
  },
  {
   "cell_type": "code",
   "execution_count": 7,
   "id": "0aec2a98-7be5-4c0e-8487-b0e052f98a38",
   "metadata": {},
   "outputs": [
    {
     "name": "stdout",
     "output_type": "stream",
     "text": [
      "The Chang Jiang runs through China.\n",
      "The Heng He runs through India.\n",
      "The Mississippi runs through America.\n",
      "Chang Jiang\n",
      "Heng He\n",
      "Mississippi\n",
      "China\n",
      "India\n",
      "America\n"
     ]
    }
   ],
   "source": [
    "#6.5 河流\n",
    "rivers = {\n",
    "    'Chang Jiang' : 'China',\n",
    "    'Heng He' : 'India',\n",
    "    'Mississippi' : 'America',\n",
    "    }\n",
    "for river, nation in rivers.items():\n",
    "    print(f\"The {river} runs through {nation}.\")\n",
    "\n",
    "for river in rivers.keys():\n",
    "    print(river)\n",
    "\n",
    "for nation in rivers.values():\n",
    "    print(nation)"
   ]
  },
  {
   "cell_type": "code",
   "execution_count": 11,
   "id": "a2a221f8-593b-4808-88ca-a6bea5665acf",
   "metadata": {},
   "outputs": [
    {
     "name": "stdout",
     "output_type": "stream",
     "text": [
      "Thank you, phil, for sharing your favorite language!\n",
      "Hello, Eve! Please take our survey and tell us your favorite language!\n",
      "Hello, Bob! Please take our survey and tell us your favorite language!\n",
      "Hello, Frank! Please take our survey and tell us your favorite language!\n",
      "Hello, Charlie! Please take our survey and tell us your favorite language!\n"
     ]
    }
   ],
   "source": [
    "#6.6调查\n",
    "favorite_languages = {\n",
    "    'jen': 'python',\n",
    "    'sarah': 'c',\n",
    "    'edward': 'rust',\n",
    "    'phil': 'python',\n",
    "     }\n",
    "\n",
    "people_to_survey = ['phil', 'Eve', 'Bob', 'Frank', 'Charlie']  \n",
    "  \n",
    "for person in people_to_survey:  \n",
    "    if person in favorite_languages:  \n",
    "        print(f\"Thank you, {person}, for sharing your favorite language!\")  \n",
    "    else:  \n",
    "        print(f\"Hello, {person}! Please take our survey and tell us your favorite language!\")"
   ]
  },
  {
   "cell_type": "code",
   "execution_count": 13,
   "id": "8eeba3fc-cc22-447a-9221-1d331aeadad5",
   "metadata": {},
   "outputs": [
    {
     "name": "stdout",
     "output_type": "stream",
     "text": [
      "first_name: Jerry\n",
      "last_name: Wang\n",
      "age: 20\n",
      "city: NanJing\n",
      "\n",
      "first_name: Counti\n",
      "last_name: Zhang\n",
      "age: 19\n",
      "city: SuQian\n",
      "\n",
      "first_name: Billie\n",
      "last_name: Eilish\n",
      "age: 22\n",
      "city: LA\n",
      "\n"
     ]
    }
   ],
   "source": [
    "#6.7人们\n",
    "person = {\n",
    "    'first_name': 'Jerry',\n",
    "    'last_name': 'Wang',\n",
    "    'age': 20,\n",
    "    'city': 'NanJing',\n",
    "    }\n",
    "\n",
    "person2 = {  \n",
    "    'first_name': 'Counti',  \n",
    "    'last_name': 'Zhang',  \n",
    "    'age': 19,  \n",
    "    'city': 'SuQian'  \n",
    "    }  \n",
    "  \n",
    "person3 = {  \n",
    "    'first_name': 'Billie',  \n",
    "    'last_name': 'Eilish',  \n",
    "    'age': 22,  \n",
    "    'city': 'LA'  \n",
    "    }  \n",
    "\n",
    "people = [person, person2, person3]  \n",
    "  \n",
    "for person_info in people:  \n",
    "    for key, value in person_info.items():  \n",
    "        print(f\"{key}: {value}\")  \n",
    "    print() "
   ]
  },
  {
   "cell_type": "code",
   "execution_count": 14,
   "id": "74d8204b-809c-4756-b9b2-ead9f34de688",
   "metadata": {},
   "outputs": [
    {
     "name": "stdout",
     "output_type": "stream",
     "text": [
      "type: dog, owner: Jerry\n",
      "type: cat, owner: Yuki\n",
      "type: bird, owner: Amber\n"
     ]
    }
   ],
   "source": [
    "#6.8宠物\n",
    "pets = [  \n",
    "    {'type': 'dog', 'owner': 'Jerry'},  \n",
    "    {'type': 'cat', 'owner': 'Yuki'},  \n",
    "    {'type': 'bird', 'owner': 'Amber'},  \n",
    "    ]  \n",
    "\n",
    "for pet in pets:  \n",
    "    print(f\"type: {pet['type']}, owner: {pet['owner']}\")"
   ]
  },
  {
   "cell_type": "code",
   "execution_count": 16,
   "id": "5de0f428-c858-4860-971d-fae6e00d08a7",
   "metadata": {},
   "outputs": [
    {
     "name": "stdout",
     "output_type": "stream",
     "text": [
      "Jerry favorite places: ['park', 'library', 'sea']\n",
      "Amber favorite places: ['cinema', 'museum']\n",
      "Counti favorite places: ['hill', 'river']\n"
     ]
    }
   ],
   "source": [
    "#6.9喜欢的地方\n",
    "favorite_places = {  \n",
    "    'Jerry': ['park', 'library', 'sea'],  \n",
    "    'Amber': ['cinema', 'museum'],  \n",
    "    'Counti': ['hill', 'river'],  \n",
    "    }  \n",
    "\n",
    "for name, places in favorite_places.items():  \n",
    "    print(f\"{name} favorite places: {places}\")"
   ]
  },
  {
   "cell_type": "code",
   "execution_count": 18,
   "id": "af8038b8-9f55-4870-a5a8-a93e6fc49cb0",
   "metadata": {},
   "outputs": [
    {
     "name": "stdout",
     "output_type": "stream",
     "text": [
      "Counti favorite numbers: [7, 17]\n",
      "Troye favorite numbers: [15, 30]\n",
      "Jerry favorite numbers: [1, 2]\n",
      "Amber favorite numbers: [4, 6]\n",
      "Shimmer favorite numbers: [5, 9]\n"
     ]
    }
   ],
   "source": [
    "#6.10喜欢的数2\n",
    "numbers = {\n",
    "    'Counti':[7,17],\n",
    "    'Troye': [15,30],\n",
    "    'Jerry': [1,2],\n",
    "    'Amber': [4,6],\n",
    "    'Shimmer':[5,9],\n",
    "    }\n",
    "for name, numbers in numbers.items():  \n",
    "    print(f\"{name} favorite numbers: {numbers}\")"
   ]
  },
  {
   "cell_type": "code",
   "execution_count": 19,
   "id": "bae977fe-06b3-41b4-bfec-77c4168f53a3",
   "metadata": {},
   "outputs": [
    {
     "name": "stdout",
     "output_type": "stream",
     "text": [
      "city: BeiJing\n",
      "    country: China\n",
      "    population: 2,100,000\n",
      "    fact: capital\n",
      "\n",
      "city: New York\n",
      "    country: America\n",
      "    population: 8,500,000\n",
      "    fact: economic\n",
      "\n",
      "city: London\n",
      "    country: The UK\n",
      "    population: 9,000,000\n",
      "    fact: history\n",
      "\n"
     ]
    }
   ],
   "source": [
    "#6.11城市\n",
    "cities = {  \n",
    "    'BeiJing': {  \n",
    "        'country': 'China',  \n",
    "        'population': '2,100,000',  \n",
    "        'fact': 'capital'  \n",
    "    },  \n",
    "    'New York': {  \n",
    "        'country': 'America',  \n",
    "        'population': '8,500,000',  \n",
    "        'fact': 'economic'  \n",
    "    },  \n",
    "    'London': {  \n",
    "        'country': 'The UK',  \n",
    "        'population': '9,000,000',  \n",
    "        'fact': 'history'  \n",
    "    },  \n",
    "    }  \n",
    "    \n",
    "for city, info in cities.items():  \n",
    "    print(f\"city: {city}\")  \n",
    "    for key, value in info.items():  \n",
    "        print(f\"    {key}: {value}\")  \n",
    "    print() "
   ]
  }
 ],
 "metadata": {
  "kernelspec": {
   "display_name": "Python 3 (ipykernel)",
   "language": "python",
   "name": "python3"
  },
  "language_info": {
   "codemirror_mode": {
    "name": "ipython",
    "version": 3
   },
   "file_extension": ".py",
   "mimetype": "text/x-python",
   "name": "python",
   "nbconvert_exporter": "python",
   "pygments_lexer": "ipython3",
   "version": "3.11.7"
  }
 },
 "nbformat": 4,
 "nbformat_minor": 5
}
