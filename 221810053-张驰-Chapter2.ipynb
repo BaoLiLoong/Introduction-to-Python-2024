{
 "cells": [
  {
   "cell_type": "markdown",
   "id": "9f6aabc4-947b-4f33-a713-6cdb940226a7",
   "metadata": {},
   "source": [
    "# 第二章 变量与简单的数据类型"
   ]
  },
  {
   "cell_type": "markdown",
   "id": "1ee2ec95-84ef-407e-8649-02285541af5f",
   "metadata": {},
   "source": [
    "## 2.2 变量"
   ]
  },
  {
   "cell_type": "code",
   "execution_count": 3,
   "id": "98e42f20-7b32-4506-a071-2490e6c87c06",
   "metadata": {},
   "outputs": [
    {
     "name": "stdout",
     "output_type": "stream",
     "text": [
      "hello python world\n"
     ]
    }
   ],
   "source": [
    "print(\"hello python world\")"
   ]
  },
  {
   "cell_type": "code",
   "execution_count": 1,
   "id": "5167e8f1-23fb-4bc7-9496-a69253cd375b",
   "metadata": {},
   "outputs": [
    {
     "name": "stdout",
     "output_type": "stream",
     "text": [
      "Hello Python World!\n"
     ]
    }
   ],
   "source": [
    "message = \"Hello Python World!\"\n",
    "print(message)"
   ]
  },
  {
   "cell_type": "code",
   "execution_count": 5,
   "id": "463b5be9-ebeb-49ff-adb6-5dc7ca506ae2",
   "metadata": {},
   "outputs": [
    {
     "name": "stdout",
     "output_type": "stream",
     "text": [
      "Hello The World\n"
     ]
    }
   ],
   "source": [
    "message=\"hello the world\"\n",
    "message=message.title()\n",
    "print(message)"
   ]
  },
  {
   "cell_type": "code",
   "execution_count": 2,
   "id": "30bfba3f-97da-4e4f-998d-29c9b1f6d07f",
   "metadata": {},
   "outputs": [
    {
     "name": "stdout",
     "output_type": "stream",
     "text": [
      "Hello Python World!\n",
      "Hello Python Crash Course world!\n"
     ]
    }
   ],
   "source": [
    "message=\"Hello Python World!\"\n",
    "print(message)\n",
    "\n",
    "message=\"Hello Python Crash Course world!\"\n",
    "print(message)"
   ]
  },
  {
   "cell_type": "code",
   "execution_count": 4,
   "id": "1a0b3789-c6c5-48e0-95ce-24a7be23d948",
   "metadata": {},
   "outputs": [
    {
     "name": "stdout",
     "output_type": "stream",
     "text": [
      "Hello Python Crash Course reader!\n"
     ]
    }
   ],
   "source": [
    "mesage=\"Hello Python Crash Course reader!\"\n",
    "print(mesage)"
   ]
  },
  {
   "cell_type": "markdown",
   "id": "feeb1769-fadd-4ec9-bcf9-ea9524546f0f",
   "metadata": {},
   "source": [
    "## 2.3 字符串"
   ]
  },
  {
   "cell_type": "code",
   "execution_count": null,
   "id": "460072e1-e176-4cd9-9740-e92f1b939373",
   "metadata": {},
   "outputs": [],
   "source": [
    "#字符串（string）就是一系列字符。在 Python 中，用引号引起的都是字符串，其中的引号可以是单引号，也可以是双引号\n",
    "'I told my friend, \"Python is my favorite language!\"'\n",
    "\"The language 'Python' is named after Monty Python, not the snake.\"\n",
    "\"One of Python's strengths is its diverse and supportive community.\""
   ]
  },
  {
   "cell_type": "code",
   "execution_count": 2,
   "id": "4eff2799-6b1a-4e25-9e8b-cd1a34f37c1c",
   "metadata": {},
   "outputs": [
    {
     "name": "stdout",
     "output_type": "stream",
     "text": [
      "Hello Python world!\n",
      "Hello ituring!\n"
     ]
    }
   ],
   "source": [
    "#三个引号就可以换行了\n",
    "message=\"\"\"Hello Python world!\n",
    "Hello ituring!\"\"\"\n",
    "print(message)"
   ]
  },
  {
   "cell_type": "markdown",
   "id": "a53f5beb-09e8-46ba-acfd-ac5e7824aea4",
   "metadata": {},
   "source": [
    "### 2.3.1 修改字符串大小写"
   ]
  },
  {
   "cell_type": "code",
   "execution_count": 5,
   "id": "a6d0648d-5e4c-447f-a972-218cfd03f83a",
   "metadata": {},
   "outputs": [
    {
     "name": "stdout",
     "output_type": "stream",
     "text": [
      "Ada Lovelace\n"
     ]
    }
   ],
   "source": [
    "name=\"ada lovelace\"\n",
    "print(name.title())"
   ]
  },
  {
   "cell_type": "code",
   "execution_count": 6,
   "id": "e194b6bb-ef3a-42ae-b534-613aa6cf12d3",
   "metadata": {},
   "outputs": [
    {
     "name": "stdout",
     "output_type": "stream",
     "text": [
      "ADA LOVELACE\n",
      "ada lovelace\n"
     ]
    }
   ],
   "source": [
    "name=\"Ada Lovelace\"\n",
    "print(name.upper())\n",
    "print(name.lower())"
   ]
  },
  {
   "cell_type": "markdown",
   "id": "36889985-5e82-4858-89a2-432d2b2c9ec1",
   "metadata": {},
   "source": [
    "### 2.3.2 在字符串中使用变量"
   ]
  },
  {
   "cell_type": "code",
   "execution_count": null,
   "id": "3305235c-ff72-4e0f-9554-f4e7a1230e67",
   "metadata": {},
   "outputs": [],
   "source": [
    "#在字符串中插入变量的值，可先在左引号前加上字母 f，再将要插入的变量放在花括号内。Python 在显示字符串时，将把每个变量都替换为其值。\n",
    "#这种字符串称为 f 字符串。f 是 format（设置格式）的简写，因为 Python 通过把花括号内的变量替换为其值来设置字符串的格式。"
   ]
  },
  {
   "cell_type": "code",
   "execution_count": 8,
   "id": "664a2564-954a-4b47-87e4-6283feb7e722",
   "metadata": {},
   "outputs": [
    {
     "name": "stdout",
     "output_type": "stream",
     "text": [
      "ada lovelace\n"
     ]
    }
   ],
   "source": [
    "first_name=\"ada\"\n",
    "last_name=\"lovelace\"\n",
    "full_name=f\"{first_name} {last_name}\"\n",
    "print(full_name)"
   ]
  },
  {
   "cell_type": "code",
   "execution_count": 10,
   "id": "f13631bd-d25a-4e62-8fa2-57ed2f4bd317",
   "metadata": {},
   "outputs": [
    {
     "name": "stdout",
     "output_type": "stream",
     "text": [
      "Hello, Ada Lovelace!\n"
     ]
    }
   ],
   "source": [
    "first_name=\"ada\"\n",
    "last_name=\"lovelace\"\n",
    "full_name=f\"{first_name} {last_name}\"\n",
    "print(f\"Hello, {full_name.title()}!\")"
   ]
  },
  {
   "cell_type": "code",
   "execution_count": 12,
   "id": "cf156c5a-d15b-46ac-aa0d-96d72f7db518",
   "metadata": {},
   "outputs": [
    {
     "name": "stdout",
     "output_type": "stream",
     "text": [
      "Hello, Ada Lovelace!\n"
     ]
    }
   ],
   "source": [
    "first_name=\"ada\"\n",
    "last_name=\"lovelace\"\n",
    "full_name=f\"{first_name} {last_name}\"\n",
    "message=f\"Hello, {full_name.title()}!\"\n",
    "print(message)"
   ]
  },
  {
   "cell_type": "markdown",
   "id": "5ca4f79f-5b56-467b-b2cd-61a949dd1949",
   "metadata": {},
   "source": [
    "### 2.3.3 使用制表符或换行符来添加空白"
   ]
  },
  {
   "cell_type": "code",
   "execution_count": 3,
   "id": "43cbdb11-e65c-4d98-8715-f8abed93090d",
   "metadata": {},
   "outputs": [
    {
     "name": "stdout",
     "output_type": "stream",
     "text": [
      "Python\n",
      "\tPython\n"
     ]
    }
   ],
   "source": [
    "#制表符可使用字符组合\\t，还可以直接使用空格键\n",
    "print(\"Python\")\n",
    "print(\"\\tPython\")"
   ]
  },
  {
   "cell_type": "code",
   "execution_count": 14,
   "id": "691f38f5-dcc7-4a04-8807-004004a0f755",
   "metadata": {},
   "outputs": [
    {
     "name": "stdout",
     "output_type": "stream",
     "text": [
      "Languages:\n",
      "Python\n",
      "C\n",
      "JavaScript\n"
     ]
    }
   ],
   "source": [
    "#换行符用\\n\n",
    "print(\"Languages:\\nPython\\nC\\nJavaScript\")"
   ]
  },
  {
   "cell_type": "code",
   "execution_count": 15,
   "id": "88d20ef0-79db-448d-b869-1044f9b6188c",
   "metadata": {},
   "outputs": [
    {
     "name": "stdout",
     "output_type": "stream",
     "text": [
      "Languages:\n",
      "\tPython\n",
      "\tC\n",
      "\tJavaScript\n"
     ]
    }
   ],
   "source": [
    "print(\"Languages:\\n\\tPython\\n\\tC\\n\\tJavaScript\")"
   ]
  },
  {
   "cell_type": "markdown",
   "id": "0acd89e8-97ec-44b3-8781-769d756fa56d",
   "metadata": {},
   "source": [
    "### 2.3.4 字符串删除空白"
   ]
  },
  {
   "cell_type": "code",
   "execution_count": 16,
   "id": "3c2b07af-07c0-4feb-903c-1008337ef6a5",
   "metadata": {},
   "outputs": [
    {
     "data": {
      "text/plain": [
       "'python'"
      ]
     },
     "execution_count": 16,
     "metadata": {},
     "output_type": "execute_result"
    }
   ],
   "source": [
    "#永久删除：将删除操作的相关结果关联到变量\n",
    "favorite_language=\"python \"\n",
    "favorite_language=favorite_language.rstrip()\n",
    "favorite_language"
   ]
  },
  {
   "cell_type": "code",
   "execution_count": 20,
   "id": "54a020f3-1dfb-424e-9f44-2d3920453028",
   "metadata": {},
   "outputs": [
    {
     "data": {
      "text/plain": [
       "'python '"
      ]
     },
     "execution_count": 20,
     "metadata": {},
     "output_type": "execute_result"
    }
   ],
   "source": [
    "#暂时删除\n",
    "favorite_language=\"python \"\n",
    "favorite_language\n",
    "favorite_language.rstrip()\n",
    "favorite_language"
   ]
  },
  {
   "cell_type": "code",
   "execution_count": 21,
   "id": "6daea52c-21e4-47c0-8824-4b720f68dedb",
   "metadata": {},
   "outputs": [
    {
     "data": {
      "text/plain": [
       "' python'"
      ]
     },
     "execution_count": 21,
     "metadata": {},
     "output_type": "execute_result"
    }
   ],
   "source": [
    "favorite_language=\" python \"\n",
    "favorite_language.rstrip()"
   ]
  },
  {
   "cell_type": "code",
   "execution_count": 22,
   "id": "81d51932-fec4-432d-9f67-91e53b9954fc",
   "metadata": {},
   "outputs": [
    {
     "data": {
      "text/plain": [
       "'python '"
      ]
     },
     "execution_count": 22,
     "metadata": {},
     "output_type": "execute_result"
    }
   ],
   "source": [
    "favorite_language=\" python \"\n",
    "favorite_language.lstrip()"
   ]
  },
  {
   "cell_type": "code",
   "execution_count": 23,
   "id": "556007d5-5b84-43c7-aa33-f2f5c8e1a67f",
   "metadata": {},
   "outputs": [
    {
     "data": {
      "text/plain": [
       "'python'"
      ]
     },
     "execution_count": 23,
     "metadata": {},
     "output_type": "execute_result"
    }
   ],
   "source": [
    "favorite_language=\" python \"\n",
    "favorite_language.strip()"
   ]
  },
  {
   "cell_type": "markdown",
   "id": "cf905cac-a0f0-4a71-838b-4a5ee8d0d919",
   "metadata": {},
   "source": [
    "### 2.3.5 删除前缀"
   ]
  },
  {
   "cell_type": "code",
   "execution_count": 24,
   "id": "b2d0d00f-6163-4810-9897-cc1956c2fdc3",
   "metadata": {},
   "outputs": [
    {
     "data": {
      "text/plain": [
       "'nostarch.com'"
      ]
     },
     "execution_count": 24,
     "metadata": {},
     "output_type": "execute_result"
    }
   ],
   "source": [
    "nostarch_url='https://nostarch.com'\n",
    "nostarch_url.removeprefix('https://')"
   ]
  },
  {
   "cell_type": "code",
   "execution_count": 9,
   "id": "cf9e5b96-baa7-4f13-bafd-e913230db8a8",
   "metadata": {},
   "outputs": [
    {
     "name": "stdout",
     "output_type": "stream",
     "text": [
      "www.ituring.com.cn\n"
     ]
    }
   ],
   "source": [
    "url='https://www.ituring.com.cn'\n",
    "url=url.replace(\"https://\",\"\")\n",
    "print(url)"
   ]
  },
  {
   "cell_type": "code",
   "execution_count": 8,
   "id": "b054620f-f195-4e69-8d53-ff0b581a437d",
   "metadata": {},
   "outputs": [
    {
     "name": "stdout",
     "output_type": "stream",
     "text": [
      "hTTps://www.iTuring.com.cn\n"
     ]
    }
   ],
   "source": [
    "url='https://www.ituring.com.cn'\n",
    "url=url.replace(\"t\",\"T\")\n",
    "print(url)"
   ]
  },
  {
   "cell_type": "markdown",
   "id": "e72711e3-fb07-47ad-b810-f3ce58701d03",
   "metadata": {},
   "source": [
    "### 2.3.6 字符串：避免语法错误"
   ]
  },
  {
   "cell_type": "code",
   "execution_count": 5,
   "id": "23921ba7-1d15-49ef-b97c-8f0b17d668fb",
   "metadata": {},
   "outputs": [
    {
     "ename": "SyntaxError",
     "evalue": "invalid syntax (1967371691.py, line 1)",
     "output_type": "error",
     "traceback": [
      "\u001b[1;36m  Cell \u001b[1;32mIn[5], line 1\u001b[1;36m\u001b[0m\n\u001b[1;33m    message='Life's pathetic, let's pythonic.'\u001b[0m\n\u001b[1;37m                  ^\u001b[0m\n\u001b[1;31mSyntaxError\u001b[0m\u001b[1;31m:\u001b[0m invalid syntax\n"
     ]
    }
   ],
   "source": [
    "#错误示范\n",
    "message='Life's pathetic, let's pythonic.'\n",
    "print(message)"
   ]
  },
  {
   "cell_type": "code",
   "execution_count": 6,
   "id": "8591a229-5e19-42c3-b7a8-8ef48aa9d3e4",
   "metadata": {},
   "outputs": [
    {
     "name": "stdout",
     "output_type": "stream",
     "text": [
      "Life's pathetic, let's pythonic.\n"
     ]
    }
   ],
   "source": [
    "message=\"Life's pathetic, let's pythonic.\"\n",
    "print(message)"
   ]
  },
  {
   "cell_type": "code",
   "execution_count": 7,
   "id": "710ee6a5-fc77-4a7f-b92b-7db1f563d1d2",
   "metadata": {},
   "outputs": [
    {
     "name": "stdout",
     "output_type": "stream",
     "text": [
      "Life's pathetic, let's pythonic.\n"
     ]
    }
   ],
   "source": [
    "#转义字符\\ 可以忽略后面的'\n",
    "message='Life\\'s pathetic, let\\'s pythonic.'\n",
    "print(message)"
   ]
  },
  {
   "cell_type": "markdown",
   "id": "cdb2537c-7766-49e4-9973-a1d126baeea1",
   "metadata": {},
   "source": [
    "### 2.3.7 简易字符拼接"
   ]
  },
  {
   "cell_type": "code",
   "execution_count": 9,
   "id": "d9f8939a-459e-4071-b79d-f3bac17737bd",
   "metadata": {},
   "outputs": [
    {
     "data": {
      "text/plain": [
       "'Hello iTuring'"
      ]
     },
     "execution_count": 9,
     "metadata": {},
     "output_type": "execute_result"
    }
   ],
   "source": [
    "\"Hello\"+\" iTuring\""
   ]
  },
  {
   "cell_type": "code",
   "execution_count": 10,
   "id": "5147ee6b-2628-46ca-972e-29a5e60073be",
   "metadata": {},
   "outputs": [
    {
     "data": {
      "text/plain": [
       "'Hello Hello '"
      ]
     },
     "execution_count": 10,
     "metadata": {},
     "output_type": "execute_result"
    }
   ],
   "source": [
    "\"Hello \"*2"
   ]
  },
  {
   "cell_type": "code",
   "execution_count": 11,
   "id": "d8ec81e9-f6cd-42de-9218-ba8e7ea6b999",
   "metadata": {},
   "outputs": [
    {
     "data": {
      "text/plain": [
       "'Hello iTuring'"
      ]
     },
     "execution_count": 11,
     "metadata": {},
     "output_type": "execute_result"
    }
   ],
   "source": [
    "\"Hello\"+\" \"+\"iTuring\""
   ]
  },
  {
   "cell_type": "markdown",
   "id": "c79e605c-aae4-4af5-9b4f-4bb94521889b",
   "metadata": {},
   "source": [
    "### 书本习题"
   ]
  },
  {
   "cell_type": "code",
   "execution_count": 6,
   "id": "5eabe266-7aeb-4c40-b9de-62269a71f91a",
   "metadata": {},
   "outputs": [
    {
     "name": "stdout",
     "output_type": "stream",
     "text": [
      "Hello Eric, would you like to learn some Python today?\n"
     ]
    }
   ],
   "source": [
    "name=\"Eric\"\n",
    "message=f\"Hello {name}, would you like to learn some Python today?\"\n",
    "print(message)"
   ]
  },
  {
   "cell_type": "code",
   "execution_count": 8,
   "id": "3c5ddd98-369a-4b5f-9317-f0ac7e7bfce2",
   "metadata": {},
   "outputs": [
    {
     "name": "stdout",
     "output_type": "stream",
     "text": [
      "Amber\n",
      "amber\n",
      "AMBER\n"
     ]
    }
   ],
   "source": [
    "name=\"amber\"\n",
    "print(name.title())\n",
    "print(name.lower())\n",
    "print(name.upper())"
   ]
  },
  {
   "cell_type": "code",
   "execution_count": 11,
   "id": "d5b228c7-52f0-4538-be0b-aee47227806f",
   "metadata": {},
   "outputs": [
    {
     "name": "stdout",
     "output_type": "stream",
     "text": [
      "Jorge Luis Borges once said, \"how can I hold you with?\"\n"
     ]
    }
   ],
   "source": [
    "message='Jorge Luis Borges once said, \"how can I hold you with?\"'\n",
    "print(message)"
   ]
  },
  {
   "cell_type": "code",
   "execution_count": 12,
   "id": "746ce935-d9dc-45f4-bbc4-34e704be6e68",
   "metadata": {},
   "outputs": [
    {
     "name": "stdout",
     "output_type": "stream",
     "text": [
      "Jorge Luis Borges once said, \"how can I hold you with\"\n"
     ]
    }
   ],
   "source": [
    "famous_person=\"Jorge Luis Borges\"\n",
    "message=f'{famous_person} once said, \"how can I hold you with\"'\n",
    "print(message)"
   ]
  },
  {
   "cell_type": "code",
   "execution_count": 14,
   "id": "63a2978e-2059-4aaf-b01b-f7ff3e2d59d7",
   "metadata": {},
   "outputs": [
    {
     "name": "stdout",
     "output_type": "stream",
     "text": [
      "name:\n",
      "\tJorge Luis Borges\n"
     ]
    }
   ],
   "source": [
    "name=\"  Jorge Luis Borges  \"\n",
    "message=f\"name:\\n\\t{name.strip()}\"\n",
    "print(message)"
   ]
  },
  {
   "cell_type": "code",
   "execution_count": 15,
   "id": "de50aa6f-ff86-4f30-b5e8-ee04f4724d4a",
   "metadata": {},
   "outputs": [
    {
     "data": {
      "text/plain": [
       "'python_notes'"
      ]
     },
     "execution_count": 15,
     "metadata": {},
     "output_type": "execute_result"
    }
   ],
   "source": [
    "filename='python_notes.txt'\n",
    "filename.removesuffix('.txt')"
   ]
  },
  {
   "cell_type": "markdown",
   "id": "8d5d51a3-9cb7-40c3-8cc4-8d0bbe96847d",
   "metadata": {},
   "source": [
    "## 2.4 数:整数和浮点数"
   ]
  },
  {
   "cell_type": "code",
   "execution_count": 12,
   "id": "72e54700-b76e-4b16-8bd8-9443287ec213",
   "metadata": {},
   "outputs": [
    {
     "name": "stdout",
     "output_type": "stream",
     "text": [
      "100000000.5\n"
     ]
    }
   ],
   "source": [
    "print(100_000_000.5)"
   ]
  },
  {
   "cell_type": "code",
   "execution_count": 18,
   "id": "093b09df-50a3-4270-9165-f0f02dfc2b82",
   "metadata": {},
   "outputs": [
    {
     "data": {
      "text/plain": [
       "1000000"
      ]
     },
     "execution_count": 18,
     "metadata": {},
     "output_type": "execute_result"
    }
   ],
   "source": [
    "#**表示乘方运算\n",
    "10**6"
   ]
  },
  {
   "cell_type": "code",
   "execution_count": 19,
   "id": "95af1e70-1682-4589-a0d6-f23f321a3197",
   "metadata": {},
   "outputs": [
    {
     "data": {
      "text/plain": [
       "0.30000000000000004"
      ]
     },
     "execution_count": 19,
     "metadata": {},
     "output_type": "execute_result"
    }
   ],
   "source": [
    "0.2+0.1"
   ]
  },
  {
   "cell_type": "code",
   "execution_count": 1,
   "id": "b2030f28-4bba-4003-aef5-6cb1b7e20e9b",
   "metadata": {},
   "outputs": [
    {
     "name": "stdout",
     "output_type": "stream",
     "text": [
      "8\n",
      "8\n",
      "8\n",
      "8.0\n"
     ]
    }
   ],
   "source": [
    "print(2+6)\n",
    "print(10-2)\n",
    "print(4*2)\n",
    "print(48/6)"
   ]
  },
  {
   "cell_type": "code",
   "execution_count": 13,
   "id": "e60ea37b-2e47-49a6-b996-6ffd917b653e",
   "metadata": {},
   "outputs": [
    {
     "name": "stdout",
     "output_type": "stream",
     "text": [
      "1\n",
      "1.0\n",
      "0\n",
      "1.0\n"
     ]
    }
   ],
   "source": [
    "#双斜杠//表示整数除法\n",
    "print(3//3)\n",
    "print(2.5//2)\n",
    "print(1//2)\n",
    "print(1.5//1.5)"
   ]
  },
  {
   "cell_type": "code",
   "execution_count": 3,
   "id": "f6d3e1f6-1fbc-4520-8436-7b6d4255222c",
   "metadata": {},
   "outputs": [
    {
     "name": "stdout",
     "output_type": "stream",
     "text": [
      "my favorite number is 7\n"
     ]
    }
   ],
   "source": [
    "# Honestly, I don't know what is my favorite number.\n",
    "number=\"7\"\n",
    "message=f\"my favorite number is {number}\"\n",
    "print(message)"
   ]
  },
  {
   "cell_type": "markdown",
   "id": "20a3243e-1367-4527-bffb-8f62125c9b87",
   "metadata": {},
   "source": [
    "### 补充：布尔值（BOOLEAN）"
   ]
  },
  {
   "cell_type": "code",
   "execution_count": 14,
   "id": "116ca8a8-3e85-4083-bceb-d042c59c7984",
   "metadata": {},
   "outputs": [
    {
     "name": "stdout",
     "output_type": "stream",
     "text": [
      "True\n",
      "False\n"
     ]
    }
   ],
   "source": [
    "print(True)\n",
    "print(False)"
   ]
  },
  {
   "cell_type": "code",
   "execution_count": 15,
   "id": "fa37be62-fa08-40a9-a716-a28e799de785",
   "metadata": {},
   "outputs": [
    {
     "data": {
      "text/plain": [
       "True"
      ]
     },
     "execution_count": 15,
     "metadata": {},
     "output_type": "execute_result"
    }
   ],
   "source": [
    "True==1"
   ]
  },
  {
   "cell_type": "code",
   "execution_count": 16,
   "id": "32ef239e-e5bd-416f-9023-3fce7094c2d2",
   "metadata": {},
   "outputs": [
    {
     "data": {
      "text/plain": [
       "True"
      ]
     },
     "execution_count": 16,
     "metadata": {},
     "output_type": "execute_result"
    }
   ],
   "source": [
    "False==0"
   ]
  },
  {
   "cell_type": "code",
   "execution_count": 17,
   "id": "27cadb15-52fa-4dde-992b-08b04c14220a",
   "metadata": {},
   "outputs": [
    {
     "data": {
      "text/plain": [
       "False"
      ]
     },
     "execution_count": 17,
     "metadata": {},
     "output_type": "execute_result"
    }
   ],
   "source": [
    "True==0"
   ]
  },
  {
   "cell_type": "markdown",
   "id": "f9a21a4e-6a30-4c23-9e81-a54cf91e1bbd",
   "metadata": {},
   "source": [
    "### 同时给多个变量赋值"
   ]
  },
  {
   "cell_type": "code",
   "execution_count": 18,
   "id": "0924982d-b017-4451-a29f-4ff1890bf019",
   "metadata": {},
   "outputs": [
    {
     "name": "stdout",
     "output_type": "stream",
     "text": [
      "0 0 0\n"
     ]
    }
   ],
   "source": [
    "x,y,z=0,0,0\n",
    "print(x,y,z)"
   ]
  },
  {
   "cell_type": "markdown",
   "id": "6295905d-aefc-4150-8a32-ad20c58f0248",
   "metadata": {},
   "source": [
    "# 练习"
   ]
  },
  {
   "cell_type": "code",
   "execution_count": 2,
   "id": "5bb42ef9-6460-4400-8311-3d95237b78e0",
   "metadata": {},
   "outputs": [
    {
     "name": "stdout",
     "output_type": "stream",
     "text": [
      "Billie Eilish's new album is coming soon!\n"
     ]
    }
   ],
   "source": [
    "#2.1简单消息\n",
    "simple_message = \"Billie Eilish's new album is coming soon!\"\n",
    "print(simple_message)"
   ]
  },
  {
   "cell_type": "code",
   "execution_count": 3,
   "id": "ac71baa3-5cae-4c70-8c31-845138078959",
   "metadata": {},
   "outputs": [
    {
     "name": "stdout",
     "output_type": "stream",
     "text": [
      "Hit Me!\n",
      "Hard and Soft\n"
     ]
    }
   ],
   "source": [
    "#2.2多条简单消息\n",
    "simple_message = \"Hit Me!\"\n",
    "print(simple_message)\n",
    "\n",
    "simple_message = \"Hard and Soft\"\n",
    "print(simple_message)"
   ]
  },
  {
   "cell_type": "code",
   "execution_count": 4,
   "id": "805c768e-c748-45f7-a2ad-0bd4139c2fe3",
   "metadata": {},
   "outputs": [
    {
     "name": "stdout",
     "output_type": "stream",
     "text": [
      "Hello Billie Eilish, when will you born your new album?\n"
     ]
    }
   ],
   "source": [
    "#2.3个性化消息\n",
    "name = \"Billie Eilish\"\n",
    "message = f\"Hello {name}, when will you born your new album?\"\n",
    "print(message)"
   ]
  },
  {
   "cell_type": "code",
   "execution_count": 6,
   "id": "51b864a9-63e3-45c9-844a-32d1848d35a3",
   "metadata": {},
   "outputs": [
    {
     "name": "stdout",
     "output_type": "stream",
     "text": [
      "billie eilish\n",
      "BILLIE EILISH\n",
      "Billie Eilish\n"
     ]
    }
   ],
   "source": [
    "#2.4调整名字大小写\n",
    "name = \"billie eilish\"\n",
    "print(name.lower())\n",
    "print(name.upper())\n",
    "print(name.title())"
   ]
  },
  {
   "cell_type": "code",
   "execution_count": 7,
   "id": "0d80ef1d-455d-4af4-9c68-3d93e383dffa",
   "metadata": {},
   "outputs": [
    {
     "name": "stdout",
     "output_type": "stream",
     "text": [
      "Albert Einstein once said, “A person who never made a mistake never tried anything new.”\n"
     ]
    }
   ],
   "source": [
    "#2.5人名1\n",
    "print(\"Albert Einstein once said, “A person who never made a mistake never tried anything new.”\")"
   ]
  },
  {
   "cell_type": "code",
   "execution_count": 8,
   "id": "6347a2a3-35f9-429b-8858-c7f1e7d5d209",
   "metadata": {},
   "outputs": [
    {
     "name": "stdout",
     "output_type": "stream",
     "text": [
      "Albert Einstein once said, “A person who never made a mistake never tried anything new.”\n"
     ]
    }
   ],
   "source": [
    "#2.6人名2\n",
    "famous_person = \"Albert Einstein\"  \n",
    "message = f\"{famous_person} once said, “A person who never made a mistake never tried anything new.”\"  \n",
    "print(message)"
   ]
  },
  {
   "cell_type": "code",
   "execution_count": 10,
   "id": "65f5d4dc-819e-439f-a042-7e865b77e9c0",
   "metadata": {},
   "outputs": [
    {
     "name": "stdout",
     "output_type": "stream",
     "text": [
      "Original name with whitespace: \tBillie Eilish \n",
      "\n",
      "Name after lstrip(): Billie Eilish \n",
      "\n",
      "Name after rstrip(): \tBillie Eilish\n",
      "Name after strip(): Billie Eilish\n"
     ]
    }
   ],
   "source": [
    "#2.7删除人名中的空白\n",
    "name_with_whitespace = \"\\tBillie Eilish \\n\"  \n",
    "print(\"Original name with whitespace:\", name_with_whitespace)  \n",
    "  \n",
    "name_lstripped = name_with_whitespace.lstrip()  # 去除左侧空白  \n",
    "name_rstripped = name_with_whitespace.rstrip()  # 去除右侧空白  \n",
    "name_stripped = name_with_whitespace.strip()   # 去除两侧空白  \n",
    "  \n",
    "print(\"Name after lstrip():\", name_lstripped)  \n",
    "print(\"Name after rstrip():\", name_rstripped)  \n",
    "print(\"Name after strip():\", name_stripped)"
   ]
  },
  {
   "cell_type": "code",
   "execution_count": 11,
   "id": "18a23ea5-999f-417e-87d7-b2134eaa8479",
   "metadata": {},
   "outputs": [
    {
     "name": "stdout",
     "output_type": "stream",
     "text": [
      "Filename without extension: python_notes\n"
     ]
    }
   ],
   "source": [
    "#2.8文件扩展名\n",
    "# 使用 removesuffix() 方法去除文件扩展名  \n",
    "filename = \"python_notes.txt\"  \n",
    "filename_without_extension = filename.removesuffix(\".txt\")  \n",
    "print(\"Filename without extension:\", filename_without_extension)"
   ]
  },
  {
   "cell_type": "code",
   "execution_count": 12,
   "id": "6f7656bb-b584-4690-ac7c-820591303cb1",
   "metadata": {},
   "outputs": [
    {
     "name": "stdout",
     "output_type": "stream",
     "text": [
      "8\n",
      "8\n",
      "8\n",
      "8\n"
     ]
    }
   ],
   "source": [
    "#2.9数字8\n",
    "# 使用加法得到 8  \n",
    "print((1 + 7))  \n",
    "  \n",
    "# 使用减法得到 8  \n",
    "print((10 - 2))  \n",
    "  \n",
    "# 使用乘法得到 8  \n",
    "print((2 * 4))  \n",
    "  \n",
    "# 使用除法得到 8 (注意：这里我们假设可以使用浮点数结果，并四舍五入到整数)  \n",
    "print(round(16 / 2))"
   ]
  },
  {
   "cell_type": "code",
   "execution_count": 13,
   "id": "642e45bd-b6df-4a98-87e9-fd498ac51295",
   "metadata": {},
   "outputs": [
    {
     "name": "stdout",
     "output_type": "stream",
     "text": [
      "My favorite number is 7.\n"
     ]
    }
   ],
   "source": [
    "#2.10喜欢的数\n",
    "favorite_number = 7\n",
    "message = f\"My favorite number is {favorite_number}.\"  \n",
    "print(message)"
   ]
  }
 ],
 "metadata": {
  "kernelspec": {
   "display_name": "Python 3 (ipykernel)",
   "language": "python",
   "name": "python3"
  },
  "language_info": {
   "codemirror_mode": {
    "name": "ipython",
    "version": 3
   },
   "file_extension": ".py",
   "mimetype": "text/x-python",
   "name": "python",
   "nbconvert_exporter": "python",
   "pygments_lexer": "ipython3",
   "version": "3.11.7"
  }
 },
 "nbformat": 4,
 "nbformat_minor": 5
}
