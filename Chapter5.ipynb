{
 "cells": [
  {
   "cell_type": "markdown",
   "id": "fabf63fb-c4bc-4f54-81c1-1e36a013dc99",
   "metadata": {},
   "source": [
    "# 第五章 if语句"
   ]
  },
  {
   "cell_type": "markdown",
   "id": "d3784ff5-aa29-48da-b511-65d6956a33a9",
   "metadata": {},
   "source": [
    "## 5.1 一个简单的示例"
   ]
  },
  {
   "cell_type": "code",
   "execution_count": 2,
   "id": "0513d0dc-d972-4c1b-88ef-6fd2fdf01ab7",
   "metadata": {},
   "outputs": [
    {
     "name": "stdout",
     "output_type": "stream",
     "text": [
      "Audi\n",
      "BMW\n",
      "Subaru\n",
      "Toyota\n"
     ]
    }
   ],
   "source": [
    "cars = ['audi','bmw','subaru','toyota']\n",
    "\n",
    "for car in cars:\n",
    "    if car == 'bmw':\n",
    "        print(car.upper())\n",
    "    else:\n",
    "        print(car.title())"
   ]
  },
  {
   "cell_type": "markdown",
   "id": "2a335e63-c4db-41d8-8bf3-8483561d4773",
   "metadata": {},
   "source": [
    "## 5.2 条件测试"
   ]
  },
  {
   "cell_type": "markdown",
   "id": "2b613b5b-5cf5-4a6e-b7f2-0e50b9d38cc0",
   "metadata": {},
   "source": [
    "### 5.2.1 检查是否相等"
   ]
  },
  {
   "cell_type": "code",
   "execution_count": 3,
   "id": "3d0149fd-6769-48c0-b820-821ed422cf5e",
   "metadata": {},
   "outputs": [
    {
     "data": {
      "text/plain": [
       "True"
      ]
     },
     "execution_count": 3,
     "metadata": {},
     "output_type": "execute_result"
    }
   ],
   "source": [
    "car = 'bmw'#一个=是赋值\n",
    "car == 'bmw'#两个=是判断"
   ]
  },
  {
   "cell_type": "code",
   "execution_count": 4,
   "id": "f057c562-69ee-4882-a597-3e4c5f1051e0",
   "metadata": {},
   "outputs": [
    {
     "data": {
      "text/plain": [
       "False"
      ]
     },
     "execution_count": 4,
     "metadata": {},
     "output_type": "execute_result"
    }
   ],
   "source": [
    "car == 'auai'"
   ]
  },
  {
   "cell_type": "markdown",
   "id": "cc4be572-13ad-452f-9002-03e6f9b4db8b",
   "metadata": {},
   "source": [
    "### 5.2.2 如何检查是否相等时忽略大小写"
   ]
  },
  {
   "cell_type": "code",
   "execution_count": 5,
   "id": "7adcbfda-019b-4b18-9be3-ae32dbace965",
   "metadata": {},
   "outputs": [
    {
     "data": {
      "text/plain": [
       "False"
      ]
     },
     "execution_count": 5,
     "metadata": {},
     "output_type": "execute_result"
    }
   ],
   "source": [
    "car = 'Audi'\n",
    "car == 'audi'"
   ]
  },
  {
   "cell_type": "code",
   "execution_count": 6,
   "id": "4e1077d6-22d4-49fd-afff-3c117f757204",
   "metadata": {},
   "outputs": [
    {
     "data": {
      "text/plain": [
       "True"
      ]
     },
     "execution_count": 6,
     "metadata": {},
     "output_type": "execute_result"
    }
   ],
   "source": [
    "car = 'Audi'\n",
    "car.lower() == 'audi'"
   ]
  },
  {
   "cell_type": "code",
   "execution_count": 1,
   "id": "79256b1e-2c2a-4c8d-820a-80a665430444",
   "metadata": {},
   "outputs": [
    {
     "data": {
      "text/plain": [
       "True"
      ]
     },
     "execution_count": 1,
     "metadata": {},
     "output_type": "execute_result"
    }
   ],
   "source": [
    "True|False #或"
   ]
  },
  {
   "cell_type": "code",
   "execution_count": 3,
   "id": "2c7aa0c6-f447-47fc-a3a6-ed90fe0f900f",
   "metadata": {},
   "outputs": [
    {
     "data": {
      "text/plain": [
       "0.0"
      ]
     },
     "execution_count": 3,
     "metadata": {},
     "output_type": "execute_result"
    }
   ],
   "source": [
    "False/True"
   ]
  },
  {
   "cell_type": "markdown",
   "id": "359b94ea-f220-49c0-868a-824b5edb048a",
   "metadata": {},
   "source": [
    "### 5.2.3 检查是否不等"
   ]
  },
  {
   "cell_type": "code",
   "execution_count": 7,
   "id": "7886db08-d231-4607-8788-94aadbfb8ea2",
   "metadata": {},
   "outputs": [
    {
     "name": "stdout",
     "output_type": "stream",
     "text": [
      "Hold the anchovies!\n"
     ]
    }
   ],
   "source": [
    "requested_topping = 'mushrooms'\n",
    "\n",
    "if requested_topping != 'anchovies':\n",
    "    print(\"Hold the anchovies!\")"
   ]
  },
  {
   "cell_type": "markdown",
   "id": "f5dca7a4-b778-41b8-9d9e-deb4a2e3021f",
   "metadata": {},
   "source": [
    "### 5.2.4 数值比较"
   ]
  },
  {
   "cell_type": "code",
   "execution_count": 8,
   "id": "5200dee2-2bce-4bff-b785-a5d5e0834c1b",
   "metadata": {},
   "outputs": [
    {
     "data": {
      "text/plain": [
       "True"
      ]
     },
     "execution_count": 8,
     "metadata": {},
     "output_type": "execute_result"
    }
   ],
   "source": [
    "age = 18\n",
    "age == 18"
   ]
  },
  {
   "cell_type": "code",
   "execution_count": 9,
   "id": "8cc15bb1-22e4-40cd-be68-a02b197a9a25",
   "metadata": {},
   "outputs": [
    {
     "name": "stdout",
     "output_type": "stream",
     "text": [
      "That is not the correct answer. Please try again!\n"
     ]
    }
   ],
   "source": [
    "answer = 17\n",
    "if answer != 42:\n",
    "    print(\"That is not the correct answer. Please try again!\")"
   ]
  },
  {
   "cell_type": "code",
   "execution_count": 10,
   "id": "2935697e-5ea8-40e7-9627-632122279648",
   "metadata": {},
   "outputs": [
    {
     "data": {
      "text/plain": [
       "True"
      ]
     },
     "execution_count": 10,
     "metadata": {},
     "output_type": "execute_result"
    }
   ],
   "source": [
    "age = 19\n",
    "age < 21"
   ]
  },
  {
   "cell_type": "code",
   "execution_count": 11,
   "id": "419ba7fb-56ec-4d91-ab08-a374ab00fc19",
   "metadata": {},
   "outputs": [
    {
     "data": {
      "text/plain": [
       "True"
      ]
     },
     "execution_count": 11,
     "metadata": {},
     "output_type": "execute_result"
    }
   ],
   "source": [
    "age = 19\n",
    "age <= 21"
   ]
  },
  {
   "cell_type": "code",
   "execution_count": 12,
   "id": "97bfc9ab-2ff7-4bf0-84f9-cda6aad5e977",
   "metadata": {},
   "outputs": [
    {
     "data": {
      "text/plain": [
       "False"
      ]
     },
     "execution_count": 12,
     "metadata": {},
     "output_type": "execute_result"
    }
   ],
   "source": [
    "age = 19\n",
    "age > 21"
   ]
  },
  {
   "cell_type": "markdown",
   "id": "e47d25f5-5ec2-48f1-a026-c6de63c0673f",
   "metadata": {},
   "source": [
    "### 5.2.5 检查多个条件"
   ]
  },
  {
   "cell_type": "code",
   "execution_count": 17,
   "id": "bac6081a-2970-4150-93ef-9397d92947b4",
   "metadata": {},
   "outputs": [
    {
     "data": {
      "text/plain": [
       "False"
      ]
     },
     "execution_count": 17,
     "metadata": {},
     "output_type": "execute_result"
    }
   ],
   "source": [
    "#使用and检查\n",
    "age_0 = 22\n",
    "age_1 = 18\n",
    "age_0 >= 21 and age_1 >= 21"
   ]
  },
  {
   "cell_type": "code",
   "execution_count": 16,
   "id": "402e129b-fe11-4544-853b-54f09d45fe61",
   "metadata": {},
   "outputs": [
    {
     "data": {
      "text/plain": [
       "True"
      ]
     },
     "execution_count": 16,
     "metadata": {},
     "output_type": "execute_result"
    }
   ],
   "source": [
    "age_1 = 22\n",
    "(age_0 >= 21) and (age_1 >= 21)"
   ]
  },
  {
   "cell_type": "code",
   "execution_count": 18,
   "id": "70f51edb-587f-49af-8907-c27f6c22947a",
   "metadata": {},
   "outputs": [
    {
     "data": {
      "text/plain": [
       "True"
      ]
     },
     "execution_count": 18,
     "metadata": {},
     "output_type": "execute_result"
    }
   ],
   "source": [
    "#使用or检查\n",
    "age_0 = 22\n",
    "age_1 = 18\n",
    "age_0 >= 21 or age_1 >= 21"
   ]
  },
  {
   "cell_type": "code",
   "execution_count": 19,
   "id": "8ca8ac27-4b13-4372-a446-b021dc65ab13",
   "metadata": {},
   "outputs": [
    {
     "data": {
      "text/plain": [
       "False"
      ]
     },
     "execution_count": 19,
     "metadata": {},
     "output_type": "execute_result"
    }
   ],
   "source": [
    "age_0 = 18\n",
    "(age_0 >= 21) or (age_1 >= 21)"
   ]
  },
  {
   "cell_type": "markdown",
   "id": "e4041c4f-8a5c-49ec-8d72-06d0dc5450fb",
   "metadata": {},
   "source": [
    "### 5.2.6 检查特定值是否在列表中"
   ]
  },
  {
   "cell_type": "code",
   "execution_count": 1,
   "id": "82435429-ea11-4fdd-8dd6-704b4613c5a5",
   "metadata": {},
   "outputs": [
    {
     "data": {
      "text/plain": [
       "True"
      ]
     },
     "execution_count": 1,
     "metadata": {},
     "output_type": "execute_result"
    }
   ],
   "source": [
    "requested_toppings = ['mushrooms', 'onions', 'pineapple']\n",
    "'mushrooms' in requested_toppings"
   ]
  },
  {
   "cell_type": "code",
   "execution_count": 2,
   "id": "2461f0db-ccd0-4795-ab1b-016ce58891b6",
   "metadata": {},
   "outputs": [
    {
     "data": {
      "text/plain": [
       "False"
      ]
     },
     "execution_count": 2,
     "metadata": {},
     "output_type": "execute_result"
    }
   ],
   "source": [
    "'pepperoni' in requested_toppings"
   ]
  },
  {
   "cell_type": "markdown",
   "id": "7cda96cc-47ad-4180-a4eb-1d4653cc2809",
   "metadata": {},
   "source": [
    "### 5.2.7 检查特定值是否不在列表中"
   ]
  },
  {
   "cell_type": "code",
   "execution_count": 3,
   "id": "ee01930c-6355-400a-b7c9-dd3e3cf50e86",
   "metadata": {},
   "outputs": [
    {
     "name": "stdout",
     "output_type": "stream",
     "text": [
      "Marie, you can post a response if you wish.\n"
     ]
    }
   ],
   "source": [
    "banned_users = ['andrew', 'carolina', 'david'] \n",
    "user = 'marie' \n",
    "if user not in banned_users: \n",
    "    print(f\"{user.title()}, you can post a response if you wish.\")"
   ]
  },
  {
   "cell_type": "markdown",
   "id": "6c8a8544-9677-492b-b410-713ed58f05fe",
   "metadata": {},
   "source": [
    "### 5.2.8 布尔表达式"
   ]
  },
  {
   "cell_type": "code",
   "execution_count": 4,
   "id": "c59b556b-ff6b-4750-9dfb-931072ba922c",
   "metadata": {},
   "outputs": [],
   "source": [
    "#布尔值通常用于记录条件\n",
    "game_active = True \n",
    "can_edit = False"
   ]
  },
  {
   "cell_type": "markdown",
   "id": "f54c9d85-8917-4b6d-8ddc-f72d32d54d67",
   "metadata": {},
   "source": [
    "## 5.3 if语句"
   ]
  },
  {
   "cell_type": "markdown",
   "id": "82efda2d-963f-48d7-9788-d8c4cbd32d67",
   "metadata": {},
   "source": [
    "### 5.3.1 简单的if语句"
   ]
  },
  {
   "cell_type": "code",
   "execution_count": 6,
   "id": "020f9093-687b-4ce3-93e9-9c8dfd3b5c01",
   "metadata": {},
   "outputs": [
    {
     "ename": "SyntaxError",
     "evalue": "invalid syntax (3508882878.py, line 2)",
     "output_type": "error",
     "traceback": [
      "\u001b[1;36m  Cell \u001b[1;32mIn[6], line 2\u001b[1;36m\u001b[0m\n\u001b[1;33m    do something\u001b[0m\n\u001b[1;37m       ^\u001b[0m\n\u001b[1;31mSyntaxError\u001b[0m\u001b[1;31m:\u001b[0m invalid syntax\n"
     ]
    }
   ],
   "source": [
    "if conditional_test: \n",
    "    do something"
   ]
  },
  {
   "cell_type": "code",
   "execution_count": 8,
   "id": "80e25117-894b-44fc-bf1b-ee650a74765c",
   "metadata": {},
   "outputs": [
    {
     "name": "stdout",
     "output_type": "stream",
     "text": [
      "You are old enough to vote!\n",
      "Have you registered to vote yet?\n"
     ]
    }
   ],
   "source": [
    "age = 19 \n",
    "if age >= 18: \n",
    "    print(\"You are old enough to vote!\")\n",
    "    print(\"Have you registered to vote yet?\")"
   ]
  },
  {
   "cell_type": "markdown",
   "id": "082a33ce-bdcd-402f-8e39-a32cfe21be3b",
   "metadata": {},
   "source": [
    "### 5.3.2 if-else语句"
   ]
  },
  {
   "cell_type": "code",
   "execution_count": 9,
   "id": "6136d8fb-772a-4967-853e-a880f13783ed",
   "metadata": {},
   "outputs": [
    {
     "name": "stdout",
     "output_type": "stream",
     "text": [
      "Sorry, you are too young to vote.\n",
      "Please register to vote as soon as you turn 18!\n"
     ]
    }
   ],
   "source": [
    "age = 17 \n",
    "if age >= 18: \n",
    "    print(\"You are old enough to vote!\") \n",
    "    print(\"Have you registered to vote yet?\") \n",
    "else: \n",
    "    print(\"Sorry, you are too young to vote.\") \n",
    "    print(\"Please register to vote as soon as you turn 18!\")"
   ]
  },
  {
   "cell_type": "markdown",
   "id": "f5e7a435-2847-4880-9be4-b01ddbe54986",
   "metadata": {},
   "source": [
    "### 5.3.3 if-elif-else语句"
   ]
  },
  {
   "cell_type": "code",
   "execution_count": 10,
   "id": "6b8e81ec-75cb-4a97-a730-9a1fa57238e4",
   "metadata": {},
   "outputs": [
    {
     "name": "stdout",
     "output_type": "stream",
     "text": [
      "Your admission cost is $25.\n"
     ]
    }
   ],
   "source": [
    "age = 12 \n",
    "if age < 4: \n",
    "    print(\"Your admission cost is $0.\") \n",
    "elif age < 18: \n",
    "    print(\"Your admission cost is $25.\") \n",
    "else: \n",
    "    print(\"Your admission cost is $40.\")"
   ]
  },
  {
   "cell_type": "code",
   "execution_count": 11,
   "id": "fdfcbfc2-c1a9-454b-b721-a4a7cf648b64",
   "metadata": {},
   "outputs": [
    {
     "name": "stdout",
     "output_type": "stream",
     "text": [
      "Your admission cost is $25.\n"
     ]
    }
   ],
   "source": [
    "age = 12 \n",
    "if age < 4: \n",
    "    price = 0 \n",
    "elif age < 18: \n",
    "    price = 25 \n",
    "else: \n",
    "    price = 40 \n",
    "    \n",
    "print(f\"Your admission cost is ${price}.\")"
   ]
  },
  {
   "cell_type": "markdown",
   "id": "a60ca4f2-9982-426c-88db-831a19ae236e",
   "metadata": {},
   "source": [
    "### 5.3.4 使用多个elif代码块"
   ]
  },
  {
   "cell_type": "code",
   "execution_count": 12,
   "id": "bad56b05-16b1-4eec-9414-e1afd4ec0d5c",
   "metadata": {},
   "outputs": [
    {
     "name": "stdout",
     "output_type": "stream",
     "text": [
      "Your admission cost is $25.\n"
     ]
    }
   ],
   "source": [
    "age = 12 \n",
    "if age < 4: \n",
    "    price = 0 \n",
    "elif age < 18: \n",
    "    price = 25 \n",
    "elif age < 65: \n",
    "    price = 40\n",
    "else: \n",
    "    price = 20 \n",
    "\n",
    "print(f\"Your admission cost is ${price}.\")"
   ]
  },
  {
   "cell_type": "markdown",
   "id": "c7cee69b-8644-4caa-b46b-42c4defc9096",
   "metadata": {},
   "source": [
    "### 5.3.5 省略else代码块"
   ]
  },
  {
   "cell_type": "code",
   "execution_count": 13,
   "id": "2aa88037-8706-4562-90b5-517f59d93e0f",
   "metadata": {},
   "outputs": [
    {
     "name": "stdout",
     "output_type": "stream",
     "text": [
      "Your admission cost is $25.\n"
     ]
    }
   ],
   "source": [
    "age = 12 \n",
    "if age < 4: \n",
    "    price = 0 \n",
    "elif age < 18: \n",
    "    price = 25 \n",
    "elif age < 65: \n",
    "    price = 40 \n",
    "elif age >= 65: \n",
    "    price = 20 \n",
    "\n",
    "print(f\"Your admission cost is ${price}.\")"
   ]
  },
  {
   "cell_type": "markdown",
   "id": "995b761a-7df1-4b3a-8e56-e45dd265926c",
   "metadata": {},
   "source": [
    "### 5.3.6 测试多个条件"
   ]
  },
  {
   "cell_type": "code",
   "execution_count": 14,
   "id": "56e83d60-a95d-4949-9e63-8c4ee76bbc94",
   "metadata": {},
   "outputs": [
    {
     "name": "stdout",
     "output_type": "stream",
     "text": [
      "Adding mushrooms.\n",
      "Adding extra cheese.\n",
      "\n",
      "Finished making your pizza!\n"
     ]
    }
   ],
   "source": [
    "requested_toppings = ['mushrooms', 'extra cheese'] \n",
    "if 'mushrooms' in requested_toppings: \n",
    "    print(\"Adding mushrooms.\") \n",
    "if 'pepperoni' in requested_toppings: \n",
    "    print(\"Adding pepperoni.\") \n",
    "if 'extra cheese' in requested_toppings: \n",
    "    print(\"Adding extra cheese.\") \n",
    "\n",
    "print(\"\\nFinished making your pizza!\")"
   ]
  },
  {
   "cell_type": "code",
   "execution_count": 15,
   "id": "99fe5c73-2c7a-49d5-9c43-03690f4e35e1",
   "metadata": {},
   "outputs": [
    {
     "name": "stdout",
     "output_type": "stream",
     "text": [
      "Adding mushrooms.\n",
      "\n",
      "Finished making your pizza!\n"
     ]
    }
   ],
   "source": [
    "requested_toppings = ['mushrooms', 'extra cheese'] \n",
    "if 'mushrooms' in requested_toppings: \n",
    "    print(\"Adding mushrooms.\") \n",
    "elif 'pepperoni' in requested_toppings: \n",
    "    print(\"Adding pepperoni.\") \n",
    "elif 'extra cheese' in requested_toppings: \n",
    "    print(\"Adding extra cheese.\") \n",
    "\n",
    "print(\"\\nFinished making your pizza!\")"
   ]
  },
  {
   "cell_type": "markdown",
   "id": "eb4f3dfd-13f6-4106-83c5-140b0bc8b5cd",
   "metadata": {},
   "source": [
    "## 5.4 使用if语句处理列表"
   ]
  },
  {
   "cell_type": "markdown",
   "id": "374b70ee-66b1-4dcb-8e01-7f0bc0763854",
   "metadata": {},
   "source": [
    "### 5.4.1 检查特殊元素"
   ]
  },
  {
   "cell_type": "code",
   "execution_count": 16,
   "id": "f98f7765-d2fa-4c18-8bc5-833d2e719cb7",
   "metadata": {},
   "outputs": [
    {
     "name": "stdout",
     "output_type": "stream",
     "text": [
      "Adding mushrooms.\n",
      "Adding green peppers.\n",
      "Adding extra cheese.\n",
      "\n",
      "Finished making your pizza!\n"
     ]
    }
   ],
   "source": [
    "requested_toppings = ['mushrooms', 'green peppers', 'extra cheese'] \n",
    "\n",
    "for requested_topping in requested_toppings: \n",
    "    print(f\"Adding {requested_topping}.\") \n",
    "\n",
    "print(\"\\nFinished making your pizza!\")"
   ]
  },
  {
   "cell_type": "code",
   "execution_count": 17,
   "id": "4fbddc08-72ce-4323-b73a-de3068999909",
   "metadata": {},
   "outputs": [
    {
     "name": "stdout",
     "output_type": "stream",
     "text": [
      "Adding mushrooms.\n",
      "Sorry, we are out of green peppers right now.\n",
      "Adding extra cheese.\n",
      "\n",
      "Finished making your pizza!\n"
     ]
    }
   ],
   "source": [
    "requested_toppings = ['mushrooms', 'green peppers', 'extra cheese'] \n",
    "\n",
    "for requested_topping in requested_toppings: \n",
    "    if requested_topping == 'green peppers': \n",
    "        print(\"Sorry, we are out of green peppers right now.\") \n",
    "    else: \n",
    "        print(f\"Adding {requested_topping}.\") \n",
    "\n",
    "print(\"\\nFinished making your pizza!\")"
   ]
  },
  {
   "cell_type": "markdown",
   "id": "f48ec982-1471-4603-b14b-a13af0448ef1",
   "metadata": {},
   "source": [
    "### 5.4.2 确定列表非空"
   ]
  },
  {
   "cell_type": "code",
   "execution_count": 18,
   "id": "c722ad55-313f-4759-8ef1-0f8375bc3bf7",
   "metadata": {},
   "outputs": [
    {
     "name": "stdout",
     "output_type": "stream",
     "text": [
      "Are you sure you want a plain pizza?\n"
     ]
    }
   ],
   "source": [
    "requested_toppings = [] \n",
    "\n",
    "if requested_toppings: \n",
    "    for requested_topping in requested_toppings: \n",
    "        print(f\"Adding {requested_topping}.\") \n",
    "    print(\"\\nFinished making your pizza!\") \n",
    "else: \n",
    "    print(\"Are you sure you want a plain pizza?\")"
   ]
  },
  {
   "cell_type": "markdown",
   "id": "2110950d-97d6-4641-8672-3dfa44530b89",
   "metadata": {},
   "source": [
    "### 5.4.3 使用多个列表"
   ]
  },
  {
   "cell_type": "code",
   "execution_count": 19,
   "id": "26f9fc31-ecee-49e7-b160-4361fa7c3a31",
   "metadata": {},
   "outputs": [
    {
     "name": "stdout",
     "output_type": "stream",
     "text": [
      "Adding mushrooms.\n",
      "Sorry, we don't have french fries.\n",
      "Adding extra cheese.\n",
      "\n",
      "Finished making your pizza!\n"
     ]
    }
   ],
   "source": [
    "available_toppings = ['mushrooms', 'olives', 'green peppers', 'pepperoni', 'pineapple', 'extra cheese'] \n",
    "\n",
    "requested_toppings = ['mushrooms', 'french fries', 'extra cheese'] \n",
    "\n",
    "for requested_topping in requested_toppings: \n",
    "    if requested_topping in available_toppings: \n",
    "        print(f\"Adding {requested_topping}.\") \n",
    "    else: \n",
    "        print(f\"Sorry, we don't have {requested_topping}.\") \n",
    "\n",
    "print(\"\\nFinished making your pizza!\")"
   ]
  },
  {
   "cell_type": "markdown",
   "id": "7d3750a1-6652-4ea5-b258-15feb4eb71ee",
   "metadata": {},
   "source": [
    "## 5.5 设置if语句的格式"
   ]
  },
  {
   "cell_type": "code",
   "execution_count": null,
   "id": "10b05597-11a5-4a22-8b17-ce30dd434fcc",
   "metadata": {},
   "outputs": [],
   "source": [
    "#加空格\n",
    "if age < 4"
   ]
  },
  {
   "cell_type": "markdown",
   "id": "554ba54c-d428-485e-be03-2572402f2728",
   "metadata": {},
   "source": [
    "## 练习"
   ]
  },
  {
   "cell_type": "code",
   "execution_count": 9,
   "id": "18b4a86e-dfc2-488d-81f1-e86f28026694",
   "metadata": {},
   "outputs": [
    {
     "name": "stdout",
     "output_type": "stream",
     "text": [
      "Is car == 'subaru'? I predict True.\n",
      "True\n",
      "\n",
      "Is car == 'audi'? I predict False.\n",
      "False\n",
      "\n",
      "Is car == 'BMW'? I predict False.\n",
      "False\n",
      "\n",
      "Is singer == 'Billie Eilish'? I predict True.\n",
      "True\n",
      "\n",
      "Is singer == 'Troye Sivan'? I predict False.\n",
      "False\n",
      "\n",
      "Is singer == 'Lorde'? I predict True.\n",
      "False\n"
     ]
    }
   ],
   "source": [
    "#5.1条件测试\n",
    "car = 'subaru'\n",
    "print(\"Is car == 'subaru'? I predict True.\")\n",
    "print(car == 'subaru')\n",
    "\n",
    "print(\"\\nIs car == 'audi'? I predict False.\")\n",
    "print(car == 'audi')\n",
    "\n",
    "print(\"\\nIs car == 'BMW'? I predict False.\")\n",
    "print(car == 'BMW')\n",
    "\n",
    "singer = 'Billie Eilish'\n",
    "print(\"\\nIs singer == 'Billie Eilish'? I predict True.\")\n",
    "print(singer == 'Billie Eilish')\n",
    "\n",
    "print(\"\\nIs singer == 'Troye Sivan'? I predict False.\")\n",
    "print(singer == 'Troye Sivan')\n",
    "\n",
    "print(\"\\nIs singer == 'Lorde'? I predict True.\")\n",
    "print(singer == 'Lorde')"
   ]
  },
  {
   "cell_type": "code",
   "execution_count": 26,
   "id": "768726af-d985-42a7-a509-5f71263d0403",
   "metadata": {},
   "outputs": [
    {
     "name": "stdout",
     "output_type": "stream",
     "text": [
      "False\n",
      "True\n",
      "\n",
      "False\n",
      "True\n",
      "\n",
      "False\n",
      "True\n",
      "False\n",
      "\n",
      "Where is your new album? Billie!\n",
      "Lady Gaga, you're not invited.\n"
     ]
    }
   ],
   "source": [
    "#5.2更多条件测试\n",
    "singer = 'Billie Eilish'\n",
    "print(singer == 'Justin Bieber')\n",
    "print(singer == 'Billie Eilish')\n",
    "print(\"\")\n",
    "\n",
    "singer = 'Billie Eilish'\n",
    "print(singer == 'billie eilish')\n",
    "print(singer.lower() == 'billie eilish')\n",
    "print(\"\")\n",
    "\n",
    "#and和or\n",
    "singer_0 = 'Billie Eilish'\n",
    "singer_1 = 'Troye Sivan'\n",
    "print(singer_0 == 'Doja Cat' and singer_1 == 'Troye Sivan')\n",
    "print(singer_0 == 'Doja Cat' or singer_1 == 'Troye Sivan')\n",
    "print(singer_0 == 'Doja Cat' or singer_1 == 'Lorde')\n",
    "print(\"\")\n",
    "\n",
    "favorite_singers = ['Billie Eilish','Troye Sivan','Lorde','Charli XCX','Doja Cat','Caroline Polachek']\n",
    "if 'Billie Eilish' in favorite_singers:\n",
    "    print(\"Where is your new album? Billie!\")\n",
    "    \n",
    "singer = 'Lady Gaga'\n",
    "if singer not in favorite_singers:\n",
    "    print(f\"{singer}, you're not invited.\")"
   ]
  },
  {
   "cell_type": "code",
   "execution_count": 33,
   "id": "a9f280be-2374-4772-9ea0-686bf8235497",
   "metadata": {},
   "outputs": [
    {
     "name": "stdout",
     "output_type": "stream",
     "text": [
      "You've got 5 points.\n"
     ]
    }
   ],
   "source": [
    "#5.3外星人颜色1\n",
    "alien_color = 'green'\n",
    "if alien_color == 'green':\n",
    "    print(\"You've got 5 points.\")\n",
    "if alien_color == 'red':\n",
    "    print(\"You've got 10 points.\")"
   ]
  },
  {
   "cell_type": "code",
   "execution_count": 34,
   "id": "4e4990e8-e2fa-48cf-ba63-305ea3161495",
   "metadata": {},
   "outputs": [
    {
     "name": "stdout",
     "output_type": "stream",
     "text": [
      "You've got 5 points.\n"
     ]
    }
   ],
   "source": [
    "#5.4外星人颜色2\n",
    "alien_color = 'green'\n",
    "if alien_color == 'green':\n",
    "    print(\"You've got 5 points.\")\n",
    "else:\n",
    "    print(\"You've got 10 points.\")"
   ]
  },
  {
   "cell_type": "code",
   "execution_count": 37,
   "id": "a9faafd1-cb4f-4557-82f8-1423f0772b8e",
   "metadata": {},
   "outputs": [
    {
     "name": "stdout",
     "output_type": "stream",
     "text": [
      "You've got 5 points.\n",
      "You've got 10 points.\n",
      "You've got 15 points.\n"
     ]
    }
   ],
   "source": [
    "#5.5外星人颜色3\n",
    "alien_color = 'green'\n",
    "if alien_color == 'green':\n",
    "    print(\"You've got 5 points.\")\n",
    "elif alien_color == 'yellow':\n",
    "    print(\"You've got 10 points.\")\n",
    "else:\n",
    "    print(\"You've got 15 points.\")\n",
    "\n",
    "alien_color = 'yellow'\n",
    "if alien_color == 'green':\n",
    "    print(\"You've got 5 points.\")\n",
    "elif alien_color == 'yellow':\n",
    "    print(\"You've got 10 points.\")\n",
    "else:\n",
    "    print(\"You've got 15 points.\")\n",
    "    \n",
    "alien_color = 'red'\n",
    "if alien_color == 'green':\n",
    "    print(\"You've got 5 points.\")\n",
    "elif alien_color == 'yellow':\n",
    "    print(\"You've got 10 points.\")\n",
    "else:\n",
    "    print(\"You've got 15 points.\")"
   ]
  },
  {
   "cell_type": "code",
   "execution_count": 38,
   "id": "09843110-2b6a-4570-ad55-e8e945cbccdb",
   "metadata": {},
   "outputs": [
    {
     "name": "stdout",
     "output_type": "stream",
     "text": [
      "You're an adult.\n"
     ]
    }
   ],
   "source": [
    "#5.6人生的不同阶段\n",
    "age=20\n",
    "if age < 2:\n",
    "    print(\"You're an infant.\")\n",
    "elif age < 4:\n",
    "    print(\"You're a baby.\")\n",
    "elif age < 13:\n",
    "    print(\"You're a child.\")\n",
    "elif age < 18:\n",
    "    print(\"You're a teenager.\")\n",
    "elif age < 65:\n",
    "    print(\"You're an adult.\")\n",
    "else:\n",
    "    print(\"You're the elder.\")"
   ]
  },
  {
   "cell_type": "code",
   "execution_count": 40,
   "id": "a8d563c5-bd4c-493f-8e43-461d4a77d7a2",
   "metadata": {},
   "outputs": [
    {
     "name": "stdout",
     "output_type": "stream",
     "text": [
      "You really like apples!\n",
      "You really like mangoes!\n"
     ]
    }
   ],
   "source": [
    "#5.7喜欢的水果\n",
    "favorite_fruits = ['avocado','mango','apple']\n",
    "if 'banana' in favorite_fruits:\n",
    "    print(\"You really like bananas!\")\n",
    "if 'apple' in favorite_fruits:\n",
    "    print(\"You really like apples!\")\n",
    "if 'grape' in favorite_fruits:\n",
    "    print(\"You really like grapes!\")\n",
    "if 'mango' in favorite_fruits:\n",
    "    print(\"You really like mangoes!\")"
   ]
  },
  {
   "cell_type": "code",
   "execution_count": 1,
   "id": "77fdddae-a4a7-4279-afb7-d6b27f11dbbb",
   "metadata": {},
   "outputs": [
    {
     "name": "stdout",
     "output_type": "stream",
     "text": [
      "Hello amber, thank you for logging in again.\n",
      "Hello admin, would you like to see a status report?\n",
      "Hello alice, thank you for logging in again.\n",
      "Hello counti, thank you for logging in again.\n",
      "Hello jerry, thank you for logging in again.\n"
     ]
    }
   ],
   "source": [
    "#5.8以特殊方式跟管理员打招呼\n",
    "usernames = ['amber','admin','alice','counti','jerry']\n",
    "\"\"\"遍历\"\"\"\n",
    "for username in usernames:  \n",
    "    # 检查用户名是否为'admin'  \n",
    "    if username == 'admin':  \n",
    "        # 如果是'admin'，打印特殊的问候消息  \n",
    "        print(f\"Hello {username}, would you like to see a status report?\")  \n",
    "    else:  \n",
    "        # 否则，打印普通的问候消息  \n",
    "        print(f\"Hello {username}, thank you for logging in again.\")"
   ]
  },
  {
   "cell_type": "code",
   "execution_count": 3,
   "id": "f160915b-1a1b-47e3-8422-b4aa8556b35d",
   "metadata": {},
   "outputs": [
    {
     "name": "stdout",
     "output_type": "stream",
     "text": [
      "We need to find some users!\n",
      "We need to find some users!\n"
     ]
    }
   ],
   "source": [
    "#5.9处理没有用户的情形\n",
    "# 创建一个用户名列表，可能为空  \n",
    "usernames = []  # 故意让列表为空  \n",
    "  \n",
    "# 检查用户名列表是否为空  \n",
    "if not usernames:  \n",
    "    print(\"We need to find some users!\")  \n",
    "else:  \n",
    "    # 如果列表不为空，则遍历并打印问候消息  \n",
    "    for username in usernames:  \n",
    "        if username == 'admin':  \n",
    "            print(\"Hello admin, would you like to see a status report?\")  \n",
    "        else:  \n",
    "            print(f\"Hello {username}, thank you for logging in again.\")\n",
    "\n",
    "\n",
    "usernames = [] \n",
    " \n",
    "if usernames: \n",
    "    for username in usernames:  \n",
    "        if username == 'admin':  \n",
    "            print(\"Hello admin, would you like to see a status report?\")  \n",
    "        else:  \n",
    "            print(f\"Hello {username}, thank you for logging in again.\")\n",
    "     \n",
    "else:  \n",
    "    print(\"We need to find some users!\")   "
   ]
  },
  {
   "cell_type": "code",
   "execution_count": 4,
   "id": "902dac65-f8fc-4d6f-bca9-ebb62aa52f8d",
   "metadata": {},
   "outputs": [
    {
     "name": "stdout",
     "output_type": "stream",
     "text": [
      "用户名 'yohsi' 未被使用。\n",
      "用户名 'via' 未被使用。\n",
      "用户名 'rescue' 未被使用。\n",
      "用户名 'crispy' 未被使用。\n",
      "用户名 'Counti' 已被使用，请输入别的用户名。\n"
     ]
    }
   ],
   "source": [
    "#5.10检查用户名\n",
    "current_users = ['amber','admin','alice','counti','jerry']\n",
    "new_users = ['yohsi','via','rescue','crispy','Counti']\n",
    "current_users_lower = [user.lower() for user in current_users]\n",
    "\n",
    "for new_user in new_users:  \n",
    "    new_user_lower = new_user.lower()  \n",
    "      \n",
    "    if new_user_lower in current_users_lower:  \n",
    "        print(f\"用户名 '{new_user}' 已被使用，请输入别的用户名。\")  \n",
    "    else:  \n",
    "        print(f\"用户名 '{new_user}' 未被使用。\")"
   ]
  },
  {
   "cell_type": "code",
   "execution_count": 5,
   "id": "16e0d90f-6758-452b-84ed-1328cc3cbd25",
   "metadata": {},
   "outputs": [
    {
     "name": "stdout",
     "output_type": "stream",
     "text": [
      "1st\n",
      "2nd\n",
      "3rd\n",
      "4th\n",
      "5th\n",
      "6th\n",
      "7th\n",
      "8th\n",
      "9th\n",
      "1st\n",
      "2nd\n",
      "3rd\n",
      "4th\n",
      "5th\n",
      "6th\n",
      "7th\n",
      "8th\n",
      "9th\n"
     ]
    }
   ],
   "source": [
    "#5.11序数\n",
    "numbers = [1,2,3,4,5,6,7,8,9]\n",
    "\n",
    "for num in numbers:   \n",
    "    if num == 1:  \n",
    "        print(\"1st\")  \n",
    "    elif num == 2:  \n",
    "        print(\"2nd\")  \n",
    "    elif num == 3:  \n",
    "        print(\"3rd\")  \n",
    "    else:   \n",
    "        print(f\"{num}th\")\n",
    "\n",
    "def ordinal(n):  \n",
    "    if 10 <= n % 100 < 20:  \n",
    "        return f\"{n}th\"  \n",
    "    else:  \n",
    "        ord_end = \"th\"  \n",
    "        if n % 10 == 1:  \n",
    "            ord_end = \"st\"  \n",
    "        elif n % 10 == 2:  \n",
    "            ord_end = \"nd\"  \n",
    "        elif n % 10 == 3:  \n",
    "            ord_end = \"rd\"  \n",
    "        return f\"{n}{ord_end}\"  \n",
    "  \n",
    "# 使用这个函数打印1到9的序数形式  \n",
    "for i in range(1, 10):  \n",
    "    print(ordinal(i))"
   ]
  }
 ],
 "metadata": {
  "kernelspec": {
   "display_name": "Python 3 (ipykernel)",
   "language": "python",
   "name": "python3"
  },
  "language_info": {
   "codemirror_mode": {
    "name": "ipython",
    "version": 3
   },
   "file_extension": ".py",
   "mimetype": "text/x-python",
   "name": "python",
   "nbconvert_exporter": "python",
   "pygments_lexer": "ipython3",
   "version": "3.11.7"
  }
 },
 "nbformat": 4,
 "nbformat_minor": 5
}
