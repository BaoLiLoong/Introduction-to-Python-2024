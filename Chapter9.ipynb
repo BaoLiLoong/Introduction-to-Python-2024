{
 "cells": [
  {
   "cell_type": "markdown",
   "id": "bce7a0c7-aa22-498a-b6a9-d7bb2dd780f6",
   "metadata": {},
   "source": [
    "# 第九章 类"
   ]
  },
  {
   "cell_type": "markdown",
   "id": "0a06fcf9-28d4-4653-87cc-97570f0915d5",
   "metadata": {},
   "source": [
    "## 9.1 创建和使用类"
   ]
  },
  {
   "cell_type": "markdown",
   "id": "713ab0cf-5be2-4a60-b142-b3be18d458c2",
   "metadata": {},
   "source": [
    "### 9.1.1 创建 Dog 类"
   ]
  },
  {
   "cell_type": "code",
   "execution_count": 1,
   "id": "0d1bd05b-c68a-4d10-bd58-65cdf3948225",
   "metadata": {},
   "outputs": [],
   "source": [
    "class Dog:#class关键字：定义类，类名大写字母开头\n",
    "    \"\"\"一次模拟小狗的简单尝试\"\"\"#文档字符串：对类的功能进行描述\n",
    "\n",
    "    def __init__(self, name, age):\n",
    "        \"\"\"初始化属性 name 和 age\"\"\"\n",
    "        self.name = name\n",
    "        self.age = age\n",
    "\n",
    "    def sit(self):\n",
    "        \"\"\"模拟小狗收到命令时坐下\"\"\"\n",
    "        print(f\"{self.name} is now sitting.\")\n",
    "\n",
    "    def roll_over(self):\n",
    "        \"\"\"模拟小狗收到命令时打滚\"\"\"\n",
    "        print(f\"{self.name} rolled over!\")"
   ]
  },
  {
   "cell_type": "markdown",
   "id": "20b8d349-1c49-4c3b-ab98-973d0bef42b3",
   "metadata": {},
   "source": [
    "#### _init_()方法"
   ]
  },
  {
   "cell_type": "code",
   "execution_count": null,
   "id": "738873e6-7351-440e-9e5e-04c857839edb",
   "metadata": {},
   "outputs": [],
   "source": [
    "#initialize（初始化）的简写\n",
    "#类中的函数称为方法\n",
    "# __init__() 方法定义成包含三个形参：self、name 和 age。形参 self 必不可少，而且必须位于其他形参的前面。\n",
    "#为何必须在方法定义中包含形参 self 呢？因为当 Python 调用这个方法来创建 Dog 实例时，将自动传入实参 self。\n",
    "#每个与实例相关联的方法调用都会自动传递实参 self，该实参是一个指向实例本身的引用，让实例能够访问类中的属性和方法。\n",
    "#每当我们根据 Dog 类创建实例时，都只需给最后两个形参（name 和 age）提供值。"
   ]
  },
  {
   "cell_type": "markdown",
   "id": "0479ef40-df39-46be-9c81-f4d4764bbd67",
   "metadata": {},
   "source": [
    "### 9.1.2 根据类创建实例"
   ]
  },
  {
   "cell_type": "code",
   "execution_count": 3,
   "id": "7304d784-d09e-4630-98d2-41dc6ac72d67",
   "metadata": {},
   "outputs": [
    {
     "name": "stdout",
     "output_type": "stream",
     "text": [
      "My dog's name is Willie.\n",
      "My dog is 6 years old.\n"
     ]
    }
   ],
   "source": [
    "class Dog:\n",
    "    \"\"\"一次模拟小狗的简单尝试\"\"\"\n",
    "\n",
    "    def __init__(self, name, age):\n",
    "        \"\"\"初始化属性 name 和 age\"\"\"\n",
    "        self.name = name\n",
    "        self.age = age\n",
    "\n",
    "    def sit(self):\n",
    "        \"\"\"模拟小狗收到命令时坐下\"\"\"\n",
    "        print(f\"{self.name} is now sitting.\")\n",
    "\n",
    "    def roll_over(self):\n",
    "        \"\"\"模拟小狗收到命令时打滚\"\"\"\n",
    "        print(f\"{self.name} rolled over!\")\n",
    "\n",
    "my_dog = Dog('Willie', 6)#创建小狗的实例\n",
    "\n",
    "print(f\"My dog's name is {my_dog.name}.\")\n",
    "print(f\"My dog is {my_dog.age} years old.\")"
   ]
  },
  {
   "cell_type": "markdown",
   "id": "2956ea1a-4a52-48ea-8dc6-d616e321abd6",
   "metadata": {},
   "source": [
    "#### 01访问属性"
   ]
  },
  {
   "cell_type": "code",
   "execution_count": 4,
   "id": "73964eb5-89cf-4e53-920d-43899ee908e4",
   "metadata": {},
   "outputs": [
    {
     "data": {
      "text/plain": [
       "'Willie'"
      ]
     },
     "execution_count": 4,
     "metadata": {},
     "output_type": "execute_result"
    }
   ],
   "source": [
    "my_dog.name"
   ]
  },
  {
   "cell_type": "markdown",
   "id": "3576fe42-0152-4f28-b601-3abd8524b433",
   "metadata": {},
   "source": [
    "#### 02调用方法"
   ]
  },
  {
   "cell_type": "code",
   "execution_count": 5,
   "id": "914b23c5-2637-436e-8a40-f640902b0765",
   "metadata": {},
   "outputs": [
    {
     "name": "stdout",
     "output_type": "stream",
     "text": [
      "Willie is now sitting.\n",
      "Willie rolled over!\n"
     ]
    }
   ],
   "source": [
    "class Dog:\n",
    "    \"\"\"一次模拟小狗的简单尝试\"\"\"\n",
    "\n",
    "    def __init__(self, name, age):\n",
    "        \"\"\"初始化属性 name 和 age\"\"\"\n",
    "        self.name = name\n",
    "        self.age = age\n",
    "\n",
    "    def sit(self):\n",
    "        \"\"\"模拟小狗收到命令时坐下\"\"\"\n",
    "        print(f\"{self.name} is now sitting.\")\n",
    "\n",
    "    def roll_over(self):\n",
    "        \"\"\"模拟小狗收到命令时打滚\"\"\"\n",
    "        print(f\"{self.name} rolled over!\")\n",
    "\n",
    "my_dog = Dog('Willie', 6)\n",
    "my_dog.sit()#调用函数后面要加括号\n",
    "my_dog.roll_over()"
   ]
  },
  {
   "cell_type": "markdown",
   "id": "cd601681-d869-4f7d-882a-9be9a4858079",
   "metadata": {},
   "source": [
    "#### 03创建多个实例"
   ]
  },
  {
   "cell_type": "code",
   "execution_count": 6,
   "id": "1ea543e0-1df4-4ac4-b1f6-8e05dbf8af1e",
   "metadata": {},
   "outputs": [
    {
     "name": "stdout",
     "output_type": "stream",
     "text": [
      "My dog's name is Willie.\n",
      "My dog is 6 years old.\n",
      "Willie is now sitting.\n",
      "\n",
      "Your dog's is Lucy.\n",
      "Your dog is 3 years old.\n",
      "Lucy is now sitting.\n"
     ]
    }
   ],
   "source": [
    "class Dog:\n",
    "    \"\"\"一次模拟小狗的简单尝试\"\"\"\n",
    "\n",
    "    def __init__(self, name, age):\n",
    "        \"\"\"初始化属性 name 和 age\"\"\"\n",
    "        self.name = name\n",
    "        self.age = age\n",
    "\n",
    "    def sit(self):\n",
    "        \"\"\"模拟小狗收到命令时坐下\"\"\"\n",
    "        print(f\"{self.name} is now sitting.\")\n",
    "\n",
    "    def roll_over(self):\n",
    "        \"\"\"模拟小狗收到命令时打滚\"\"\"\n",
    "        print(f\"{self.name} rolled over!\")\n",
    "\n",
    "my_dog = Dog('Willie', 6)\n",
    "your_dog = Dog('Lucy', 3)\n",
    "\n",
    "print(f\"My dog's name is {my_dog.name}.\")\n",
    "print(f\"My dog is {my_dog.age} years old.\")\n",
    "my_dog.sit()\n",
    "\n",
    "print(f\"\\nYour dog's is {your_dog.name}.\")\n",
    "print(f\"Your dog is {your_dog.age} years old.\")\n",
    "your_dog.sit()"
   ]
  },
  {
   "cell_type": "markdown",
   "id": "80894abb-0223-42b2-9f2e-25f47e06c2d3",
   "metadata": {},
   "source": [
    "## 9.2 使用类和实例"
   ]
  },
  {
   "cell_type": "markdown",
   "id": "420382ee-6d3e-42f2-a087-000da0537f65",
   "metadata": {},
   "source": [
    "### 9.2.1 Car 类"
   ]
  },
  {
   "cell_type": "code",
   "execution_count": 7,
   "id": "3026c0ca-4826-4d0c-ae6c-fd241f8b3309",
   "metadata": {},
   "outputs": [
    {
     "name": "stdout",
     "output_type": "stream",
     "text": [
      "2024 Audi A4\n"
     ]
    }
   ],
   "source": [
    "class Car:\n",
    "    \"\"\"一次模拟汽车的简单尝试\"\"\"\n",
    "   \n",
    "    def __init__(self, make, model, year):\n",
    "        \"\"\"初始化描述汽车的属性\"\"\"\n",
    "        self.make = make\n",
    "        self.model = model\n",
    "        self.year = year\n",
    "   \n",
    "    def get_descriptive_name(self):\n",
    "        \"\"\"返回格式规范的描述性信息\"\"\"\n",
    "        long_name = f\"{self.year} {self.make} {self.model}\"\n",
    "        return long_name.title()\n",
    "\n",
    "my_new_car = Car('audi', 'a4', 2024)\n",
    "print(my_new_car.get_descriptive_name())"
   ]
  },
  {
   "cell_type": "markdown",
   "id": "82e24305-931d-4436-8ac4-b6e64d422aba",
   "metadata": {},
   "source": [
    "### 9.2.2 给属性指定默认值"
   ]
  },
  {
   "cell_type": "code",
   "execution_count": 8,
   "id": "5eddf6f0-d2c0-4dfc-9fd6-9bd19214be86",
   "metadata": {},
   "outputs": [
    {
     "name": "stdout",
     "output_type": "stream",
     "text": [
      "2024 Audi A4\n",
      "This car has 0 miles on it.\n"
     ]
    }
   ],
   "source": [
    "class Car:\n",
    "    \n",
    "    def __init__(self, make, model, year):\n",
    "        \"\"\"初始化描述汽车的属性\"\"\"\n",
    "        self.make = make\n",
    "        self.model = model\n",
    "        self.year = year\n",
    "        self.odometer_reading = 0\n",
    "    \n",
    "    def get_descriptive_name(self):\n",
    "        \"\"\"返回格式规范的描述性信息\"\"\"\n",
    "        long_name = f\"{self.year} {self.make} {self.model}\"\n",
    "        return long_name.title()\n",
    "\n",
    "    def read_odometer(self):\n",
    "        \"\"\"打印一条指出汽车行驶里程的消息\"\"\"\n",
    "        print(f\"This car has {self.odometer_reading} miles on it.\")\n",
    "\n",
    "my_new_car = Car('audi', 'a4', 2024)\n",
    "print(my_new_car.get_descriptive_name())\n",
    "my_new_car.read_odometer()"
   ]
  },
  {
   "cell_type": "markdown",
   "id": "a8b30461-18ad-41f9-af12-f42bad08b34f",
   "metadata": {},
   "source": [
    "### 9.2.3 修改属性的值"
   ]
  },
  {
   "cell_type": "markdown",
   "id": "195ffff3-b5a5-4246-867f-0f1bf67977a3",
   "metadata": {},
   "source": [
    "#### 01直接修改属性的值"
   ]
  },
  {
   "cell_type": "code",
   "execution_count": 9,
   "id": "d3b43c78-5818-4a5d-8b02-00681dbe20b4",
   "metadata": {},
   "outputs": [
    {
     "name": "stdout",
     "output_type": "stream",
     "text": [
      "2024 Audi A4\n",
      "This car has 23 miles on it.\n"
     ]
    }
   ],
   "source": [
    "class Car:\n",
    "    \n",
    "    def __init__(self, make, model, year):\n",
    "        \"\"\"初始化描述汽车的属性\"\"\"\n",
    "        self.make = make\n",
    "        self.model = model\n",
    "        self.year = year\n",
    "        self.odometer_reading = 0\n",
    "    \n",
    "    def get_descriptive_name(self):\n",
    "        \"\"\"返回格式规范的描述性信息\"\"\"\n",
    "        long_name = f\"{self.year} {self.make} {self.model}\"\n",
    "        return long_name.title()\n",
    "\n",
    "    def read_odometer(self):\n",
    "        \"\"\"打印一条指出汽车行驶里程的消息\"\"\"\n",
    "        print(f\"This car has {self.odometer_reading} miles on it.\")\n",
    "\n",
    "my_new_car = Car('audi', 'a4', 2024)\n",
    "print(my_new_car.get_descriptive_name())\n",
    "\n",
    "my_new_car.odometer_reading = 23\n",
    "my_new_car.read_odometer()"
   ]
  },
  {
   "cell_type": "markdown",
   "id": "71dde075-fc17-42e5-8586-da062b784e9b",
   "metadata": {},
   "source": [
    "#### 02通过方法修改属性的值"
   ]
  },
  {
   "cell_type": "code",
   "execution_count": 11,
   "id": "82c6fb2d-182e-444b-88d9-6d12d9022c34",
   "metadata": {},
   "outputs": [
    {
     "name": "stdout",
     "output_type": "stream",
     "text": [
      "2024 Audi A4\n",
      "This car has 23 miles on it.\n"
     ]
    }
   ],
   "source": [
    "class Car:\n",
    "    \n",
    "    def __init__(self, make, model, year):\n",
    "        \"\"\"初始化描述汽车的属性\"\"\"\n",
    "        self.make = make\n",
    "        self.model = model\n",
    "        self.year = year\n",
    "        self.odometer_reading = 0\n",
    "    \n",
    "    def get_descriptive_name(self):\n",
    "        \"\"\"返回格式规范的描述性信息\"\"\"\n",
    "        long_name = f\"{self.year} {self.make} {self.model}\"\n",
    "        return long_name.title()\n",
    "\n",
    "    def read_odometer(self):\n",
    "        \"\"\"打印一条指出汽车行驶里程的消息\"\"\"\n",
    "        print(f\"This car has {self.odometer_reading} miles on it.\")\n",
    "\n",
    "    def update_odometer(self, mileage):\n",
    "        \"\"\"将里程表读数设置为指定的值\"\"\"\n",
    "        self.odometer_reading = mileage    \n",
    "\n",
    "my_new_car = Car('audi', 'a4', 2024)\n",
    "print(my_new_car.get_descriptive_name())\n",
    "\n",
    "my_new_car.update_odometer(23)\n",
    "my_new_car.read_odometer()"
   ]
  },
  {
   "cell_type": "code",
   "execution_count": 12,
   "id": "0d7b6b8b-fdce-40f2-89c1-fe85ce13d46b",
   "metadata": {},
   "outputs": [
    {
     "name": "stdout",
     "output_type": "stream",
     "text": [
      "2024 Audi A4\n",
      "This car has 23 miles on it.\n"
     ]
    }
   ],
   "source": [
    "class Car:\n",
    "    \n",
    "    def __init__(self, make, model, year):\n",
    "        \"\"\"初始化描述汽车的属性\"\"\"\n",
    "        self.make = make\n",
    "        self.model = model\n",
    "        self.year = year\n",
    "        self.odometer_reading = 0\n",
    "    \n",
    "    def get_descriptive_name(self):\n",
    "        \"\"\"返回格式规范的描述性信息\"\"\"\n",
    "        long_name = f\"{self.year} {self.make} {self.model}\"\n",
    "        return long_name.title()\n",
    "\n",
    "    def read_odometer(self):\n",
    "        \"\"\"打印一条指出汽车行驶里程的消息\"\"\"\n",
    "        print(f\"This car has {self.odometer_reading} miles on it.\")\n",
    "\n",
    "    def update_odometer(self, mileage):\n",
    "        \"\"\"\n",
    "        将里程表读数设置为指定的值\n",
    "        禁止将里程表读数往回调\n",
    "        \"\"\"\n",
    "        if mileage >= self.odometer_reading:\n",
    "            self.odometer_reading = mileage    \n",
    "        else:\n",
    "            print(\"You can't roll back an odometer!\")\n",
    "            \n",
    "my_new_car = Car('audi', 'a4', 2024)\n",
    "print(my_new_car.get_descriptive_name())\n",
    "\n",
    "my_new_car.update_odometer(23)\n",
    "my_new_car.read_odometer()"
   ]
  },
  {
   "cell_type": "markdown",
   "id": "451f8939-aa09-4582-85a4-0cbf033a8d43",
   "metadata": {},
   "source": [
    "#### 03通过方法让属性的值递增"
   ]
  },
  {
   "cell_type": "code",
   "execution_count": 13,
   "id": "ee5a0485-223d-4139-8d68-bb10b0e5e5ee",
   "metadata": {},
   "outputs": [
    {
     "name": "stdout",
     "output_type": "stream",
     "text": [
      "2019 Subaru Outback\n",
      "This car has 23500 miles on it.\n",
      "This car has 23600 miles on it.\n"
     ]
    }
   ],
   "source": [
    "class Car:\n",
    "    \n",
    "    def __init__(self, make, model, year):\n",
    "        \"\"\"初始化描述汽车的属性\"\"\"\n",
    "        self.make = make\n",
    "        self.model = model\n",
    "        self.year = year\n",
    "        self.odometer_reading = 0\n",
    "    \n",
    "    def get_descriptive_name(self):\n",
    "        \"\"\"返回格式规范的描述性信息\"\"\"\n",
    "        long_name = f\"{self.year} {self.make} {self.model}\"\n",
    "        return long_name.title()\n",
    "\n",
    "    def read_odometer(self):\n",
    "        \"\"\"打印一条指出汽车行驶里程的消息\"\"\"\n",
    "        print(f\"This car has {self.odometer_reading} miles on it.\")\n",
    "\n",
    "    def update_odometer(self, mileage):\n",
    "        \"\"\"\n",
    "        将里程表读数设置为指定的值\n",
    "        禁止将里程表读数往回调\n",
    "        \"\"\"\n",
    "        if mileage >= self.odometer_reading:\n",
    "            self.odometer_reading = mileage    \n",
    "        else:\n",
    "            print(\"You can't roll back an odometer!\")\n",
    "            \n",
    "    def increment_odometer(self, miles):\n",
    "        \"\"\"让里程表读数增加指定的量\"\"\"\n",
    "        self.odometer_reading += miles\n",
    "\n",
    "my_used_car = Car('subaru', 'outback', 2019)\n",
    "print(my_used_car.get_descriptive_name())\n",
    "\n",
    "my_used_car.update_odometer(23_500)\n",
    "my_used_car.read_odometer()\n",
    "\n",
    "my_used_car.increment_odometer(100)\n",
    "my_used_car.read_odometer()"
   ]
  },
  {
   "cell_type": "markdown",
   "id": "d2ab2f9d-4d7f-42b8-8501-93770d8f3edc",
   "metadata": {},
   "source": [
    "## 9.3 继承"
   ]
  },
  {
   "cell_type": "markdown",
   "id": "4cbf0fbd-2f0f-4894-9b26-91ebcc7c0883",
   "metadata": {},
   "source": [
    "### 9.3.1 子类的 __init__() 方法"
   ]
  },
  {
   "cell_type": "code",
   "execution_count": 14,
   "id": "e3340bef-291a-4a71-8b94-9ef127c5a372",
   "metadata": {},
   "outputs": [
    {
     "name": "stdout",
     "output_type": "stream",
     "text": [
      "2024 Nissan Leaf\n"
     ]
    }
   ],
   "source": [
    "class Car:\n",
    "    \"\"\"一次模拟汽车的简单尝试\"\"\"\n",
    "    \n",
    "    def __init__(self, make, model, year):\n",
    "        \"\"\"初始化描述汽车的属性\"\"\"\n",
    "        self.make = make\n",
    "        self.model = model\n",
    "        self.year = year\n",
    "        self.odometer_reading = 0\n",
    "    \n",
    "    def get_descriptive_name(self):\n",
    "        \"\"\"返回格式规范的描述性名称\"\"\"\n",
    "        long_name = f\"{self.year} {self.make} {self.model}\"\n",
    "        return long_name.title()\n",
    "    \n",
    "    def read_odometer(self):\n",
    "        \"\"\"打印一个句子，指出汽车的行驶里程\"\"\"\n",
    "        print(f\"This car has {self.odometer_reading} miles on it.\")\n",
    "\n",
    "    def update_odometer(self, mileage):\n",
    "        \"\"\"将里程表读数设置为给定的值\"\"\"\n",
    "        if mileage >= self.odometer_reading:\n",
    "            self.odometer_reading = mileage\n",
    "        else:\n",
    "            print(\"You can't roll back an odometer!\")\n",
    "\n",
    "    def increment_odometer(self, miles):\n",
    "        \"\"\"让里程表读数增加给定的量\"\"\"\n",
    "        self.odometer_reading += miles\n",
    "\n",
    "class ElectricCar(Car):\n",
    "    \"\"\"电动汽车的独特之处\"\"\"\n",
    "    \n",
    "    def __init__(self, make, model, year):\n",
    "        \"\"\"初始化父类的属性\"\"\"\n",
    "        super().__init__(make, model, year)#super()函数调用父类\n",
    "        \n",
    "my_leaf = ElectricCar('nissan', 'leaf', 2024)\n",
    "print(my_leaf.get_descriptive_name())"
   ]
  },
  {
   "cell_type": "markdown",
   "id": "96c0ecf4-2347-46ce-bcfb-7d17c2bb6e07",
   "metadata": {},
   "source": [
    "### 9.3.2 给子类定义属性和方法"
   ]
  },
  {
   "cell_type": "code",
   "execution_count": 15,
   "id": "1366624c-4583-4f5d-85c4-9af18ed4f469",
   "metadata": {},
   "outputs": [
    {
     "name": "stdout",
     "output_type": "stream",
     "text": [
      "2024 Nissan Leaf\n",
      "This car has a 40-kWh battery.\n"
     ]
    }
   ],
   "source": [
    "class Car:\n",
    "    \"\"\"一次模拟汽车的简单尝试\"\"\"\n",
    "    \n",
    "    def __init__(self, make, model, year):\n",
    "        \"\"\"初始化描述汽车的属性\"\"\"\n",
    "        self.make = make\n",
    "        self.model = model\n",
    "        self.year = year\n",
    "        self.odometer_reading = 0\n",
    "    \n",
    "    def get_descriptive_name(self):\n",
    "        \"\"\"返回格式规范的描述性名称\"\"\"\n",
    "        long_name = f\"{self.year} {self.make} {self.model}\"\n",
    "        return long_name.title()\n",
    "    \n",
    "    def read_odometer(self):\n",
    "        \"\"\"打印一个句子，指出汽车的行驶里程\"\"\"\n",
    "        print(f\"This car has {self.odometer_reading} miles on it.\")\n",
    "\n",
    "    def update_odometer(self, mileage):\n",
    "        \"\"\"将里程表读数设置为给定的值\"\"\"\n",
    "        if mileage >= self.odometer_reading:\n",
    "            self.odometer_reading = mileage\n",
    "        else:\n",
    "            print(\"You can't roll back an odometer!\")\n",
    "\n",
    "    def increment_odometer(self, miles):\n",
    "        \"\"\"让里程表读数增加给定的量\"\"\"\n",
    "        self.odometer_reading += miles\n",
    "\n",
    "class ElectricCar(Car):\n",
    "    \"\"\"电动汽车的独特之处\"\"\"\n",
    "    \n",
    "    def __init__(self, make, model, year):\n",
    "        \"\"\"先初始化父类的属性，再初始化电动汽车特有的属性\"\"\"\n",
    "        super().__init__(make, model, year)\n",
    "        self.battery_size = 40\n",
    "    \n",
    "    def describe_battery(self):\n",
    "        \"\"\"打印一条描述电池容量的消息\"\"\"\n",
    "        print(f\"This car has a {self.battery_size}-kWh battery.\")     \n",
    "\n",
    "my_leaf = ElectricCar('nissan', 'leaf', 2024)\n",
    "print(my_leaf.get_descriptive_name())\n",
    "my_leaf.describe_battery()"
   ]
  },
  {
   "cell_type": "markdown",
   "id": "c4d1bf4f-d05e-4849-bf12-78f82b7360b0",
   "metadata": {},
   "source": [
    "### 9.3.3 重写父类中的方法"
   ]
  },
  {
   "cell_type": "code",
   "execution_count": 17,
   "id": "c854d781-2048-49fc-b299-90fcc95fca17",
   "metadata": {},
   "outputs": [],
   "source": [
    "class ElectricCar(Car):\n",
    "    \"\"\"电动汽车的独特之处\"\"\"\n",
    "    \n",
    "    def __init__(self, make, model, year):\n",
    "        \"\"\"先初始化父类的属性，再初始化电动汽车特有的属性\"\"\"\n",
    "        super().__init__(make, model, year)\n",
    "        self.battery_size = 40\n",
    "    \n",
    "    def describe_battery(self):\n",
    "        \"\"\"打印一条描述电池容量的消息\"\"\"\n",
    "        print(f\"This car has a {self.battery_size}-kWh battery.\")\n",
    "    \n",
    "    def fill_gas_tank(self):\n",
    "        \"\"\"电动汽车没有油箱\"\"\"\n",
    "        print(\"This car doesn't have a gas tank!\")"
   ]
  },
  {
   "cell_type": "markdown",
   "id": "6ff395d0-ba60-431d-814f-26acb0061b21",
   "metadata": {},
   "source": [
    "### 9.3.4 将实例用作属性"
   ]
  },
  {
   "cell_type": "code",
   "execution_count": 1,
   "id": "fd3ca27b-15bd-4484-a8d6-16a9f314a95d",
   "metadata": {},
   "outputs": [
    {
     "name": "stdout",
     "output_type": "stream",
     "text": [
      "2024 Nissan Leaf\n",
      "This car has a 40-kWh battery.\n"
     ]
    }
   ],
   "source": [
    "class Car:\n",
    "    \"\"\"一次模拟汽车的简单尝试\"\"\"\n",
    "    \n",
    "    def __init__(self, make, model, year):\n",
    "        \"\"\"初始化描述汽车的属性\"\"\"\n",
    "        self.make = make\n",
    "        self.model = model\n",
    "        self.year = year\n",
    "        self.odometer_reading = 0\n",
    "    \n",
    "    def get_descriptive_name(self):\n",
    "        \"\"\"返回格式规范的描述性名称\"\"\"\n",
    "        long_name = f\"{self.year} {self.make} {self.model}\"\n",
    "        return long_name.title()\n",
    "    \n",
    "    def read_odometer(self):\n",
    "        \"\"\"打印一个句子，指出汽车的行驶里程\"\"\"\n",
    "        print(f\"This car has {self.odometer_reading} miles on it.\")\n",
    "\n",
    "    def update_odometer(self, mileage):\n",
    "        \"\"\"将里程表读数设置为给定的值\"\"\"\n",
    "        if mileage >= self.odometer_reading:\n",
    "            self.odometer_reading = mileage\n",
    "        else:\n",
    "            print(\"You can't roll back an odometer!\")\n",
    "\n",
    "    def increment_odometer(self, miles):\n",
    "        \"\"\"让里程表读数增加给定的量\"\"\"\n",
    "        self.odometer_reading += miles\n",
    "\n",
    "class Battery:\n",
    "    \"\"\"一次模拟电动汽车电池的简单尝试\"\"\"\n",
    "    \n",
    "    def __init__(self, battery_size=40):\n",
    "        \"\"\"初始化电池的属性\"\"\"\n",
    "        self.battery_size = battery_size\n",
    "        \n",
    "    def describe_battery(self):\n",
    "        \"\"\"打印一条描述电池容量的消息\"\"\"\n",
    "        print(f\"This car has a {self.battery_size}-kWh battery.\")\n",
    "        \n",
    "class ElectricCar(Car):\n",
    "    \"\"\"电动汽车的独特之处\"\"\"\n",
    "    def __init__(self, make, model, year):\n",
    "        \"\"\"\n",
    "        先初始化父类的属性，再初始化电动汽车特有的属性\n",
    "        \"\"\"\n",
    "        super().__init__(make, model, year)\n",
    "        self.battery = Battery()\n",
    "\n",
    "my_leaf = ElectricCar('nissan', 'leaf', 2024)\n",
    "print(my_leaf.get_descriptive_name())\n",
    "my_leaf.battery.describe_battery()"
   ]
  },
  {
   "cell_type": "code",
   "execution_count": 2,
   "id": "6974fb6c-9221-46bc-8c51-865fe5a9d5e9",
   "metadata": {},
   "outputs": [
    {
     "name": "stdout",
     "output_type": "stream",
     "text": [
      "2024 Nissan Leaf\n",
      "This car has a 40-kWh battery.\n",
      "This car can go about 150 miles on a full charge.\n"
     ]
    }
   ],
   "source": [
    "class Car:\n",
    "    \"\"\"一次模拟汽车的简单尝试\"\"\"\n",
    "    \n",
    "    def __init__(self, make, model, year):\n",
    "        \"\"\"初始化描述汽车的属性\"\"\"\n",
    "        self.make = make\n",
    "        self.model = model\n",
    "        self.year = year\n",
    "        self.odometer_reading = 0\n",
    "    \n",
    "    def get_descriptive_name(self):\n",
    "        \"\"\"返回格式规范的描述性名称\"\"\"\n",
    "        long_name = f\"{self.year} {self.make} {self.model}\"\n",
    "        return long_name.title()\n",
    "    \n",
    "    def read_odometer(self):\n",
    "        \"\"\"打印一个句子，指出汽车的行驶里程\"\"\"\n",
    "        print(f\"This car has {self.odometer_reading} miles on it.\")\n",
    "\n",
    "    def update_odometer(self, mileage):\n",
    "        \"\"\"将里程表读数设置为给定的值\"\"\"\n",
    "        if mileage >= self.odometer_reading:\n",
    "            self.odometer_reading = mileage\n",
    "        else:\n",
    "            print(\"You can't roll back an odometer!\")\n",
    "\n",
    "    def increment_odometer(self, miles):\n",
    "        \"\"\"让里程表读数增加给定的量\"\"\"\n",
    "        self.odometer_reading += miles\n",
    "\n",
    "class Battery:\n",
    "    \"\"\"一次模拟电动汽车电池的简单尝试\"\"\"\n",
    "    \n",
    "    def __init__(self, battery_size=40):\n",
    "        \"\"\"初始化电池的属性\"\"\"\n",
    "        self.battery_size = battery_size\n",
    "        \n",
    "    def describe_battery(self):\n",
    "        \"\"\"打印一条描述电池容量的消息\"\"\"\n",
    "        print(f\"This car has a {self.battery_size}-kWh battery.\")\n",
    "    \n",
    "    def get_range(self):\n",
    "        \"\"\"打印一条消息，指出电池的续航里程\"\"\"\n",
    "        if self.battery_size == 40:\n",
    "            range = 150\n",
    "        elif self.battery_size == 65:\n",
    "            range = 225\n",
    "        \n",
    "        print(f\"This car can go about {range} miles on a full charge.\")\n",
    "        \n",
    "class ElectricCar(Car):\n",
    "    \"\"\"电动汽车的独特之处\"\"\"\n",
    "    def __init__(self, make, model, year):\n",
    "        \"\"\"\n",
    "        先初始化父类的属性，再初始化电动汽车特有的属性\n",
    "        \"\"\"\n",
    "        super().__init__(make, model, year)\n",
    "        self.battery = Battery()\n",
    "\n",
    "my_leaf = ElectricCar('nissan', 'leaf', 2024)\n",
    "print(my_leaf.get_descriptive_name())\n",
    "my_leaf.battery.describe_battery()\n",
    "my_leaf.battery.get_range()"
   ]
  },
  {
   "cell_type": "markdown",
   "id": "d17b9fbb-72c7-4f41-b9ee-12a91a66aece",
   "metadata": {},
   "source": [
    "### 9.3.5 模拟实物"
   ]
  },
  {
   "cell_type": "code",
   "execution_count": null,
   "id": "8a33bc84-ede0-4d8a-b9c6-36062298fed5",
   "metadata": {},
   "outputs": [],
   "source": [
    "#解耦"
   ]
  },
  {
   "cell_type": "markdown",
   "id": "55c63eb7-ca47-4a4b-9f60-07f0b9264d82",
   "metadata": {},
   "source": [
    "## 9.4 导入类"
   ]
  },
  {
   "cell_type": "markdown",
   "id": "bc6b2b47-f7cb-45e4-b767-3ed26a28343f",
   "metadata": {},
   "source": [
    "### 9.4.1 导入单个类"
   ]
  },
  {
   "cell_type": "code",
   "execution_count": 12,
   "id": "b5a7ceb6-1ad2-488f-9a09-3f7042093e37",
   "metadata": {},
   "outputs": [
    {
     "name": "stdout",
     "output_type": "stream",
     "text": [
      "2024 Audi A4\n",
      "This car has 23 miles on it.\n"
     ]
    }
   ],
   "source": [
    "from car import Car\n",
    "\n",
    "my_new_car = Car('audi','a4',2024)\n",
    "print(my_new_car.get_descriptive_name())\n",
    "\n",
    "my_new_car.odometer_reading = 23\n",
    "my_new_car.read_odometer()"
   ]
  },
  {
   "cell_type": "markdown",
   "id": "3017623b-d3f2-4200-92dc-346ba8246e65",
   "metadata": {},
   "source": [
    "### 9.4.2 在一个模块中存储多个类"
   ]
  },
  {
   "cell_type": "code",
   "execution_count": 2,
   "id": "553c1c4d-4b2e-4e92-827f-c0e1acc588b4",
   "metadata": {},
   "outputs": [
    {
     "name": "stdout",
     "output_type": "stream",
     "text": [
      "2024 Nissan Leaf\n",
      "This car has a 40-kWh battery.\n",
      "This car can go about 150 miles on a full charge.\n"
     ]
    }
   ],
   "source": [
    "from car import ElectricCar\n",
    "\n",
    "my_leaf = ElectricCar('nissan', 'leaf', 2024)\n",
    "print(my_leaf.get_descriptive_name())\n",
    "my_leaf.battery.describe_battery()\n",
    "my_leaf.battery.get_range()"
   ]
  },
  {
   "cell_type": "markdown",
   "id": "2a4b7a47-3aaa-4a37-a345-e06b3274fd73",
   "metadata": {},
   "source": [
    "### 9.4.3 从一个模块中导入多个类"
   ]
  },
  {
   "cell_type": "code",
   "execution_count": 3,
   "id": "1b0b882e-297d-4d91-bf17-04de63bac2da",
   "metadata": {},
   "outputs": [
    {
     "name": "stdout",
     "output_type": "stream",
     "text": [
      "2024 Ford Mustang\n",
      "2024 Nissan Leaf\n"
     ]
    }
   ],
   "source": [
    "from car import Car, ElectricCar\n",
    "\n",
    "my_mustang = Car('ford', 'mustang', 2024)\n",
    "print(my_mustang.get_descriptive_name())\n",
    "my_leaf = ElectricCar('nissan', 'leaf', 2024)\n",
    "print(my_leaf.get_descriptive_name())"
   ]
  },
  {
   "cell_type": "markdown",
   "id": "5a8bdbaa-26e5-4f44-a27e-20fcd20b4806",
   "metadata": {},
   "source": [
    "### 9.4.4 导入整个模块"
   ]
  },
  {
   "cell_type": "code",
   "execution_count": 1,
   "id": "eb10ee8d-f144-44ab-bff6-7462323ab5b0",
   "metadata": {},
   "outputs": [
    {
     "name": "stdout",
     "output_type": "stream",
     "text": [
      "2024 Ford Mustang\n",
      "2024 Nissan Leaf\n"
     ]
    }
   ],
   "source": [
    "import car\n",
    "\n",
    "my_mustang = car.Car('ford', 'mustang', 2024)\n",
    "print(my_mustang.get_descriptive_name())\n",
    "\n",
    "my_leaf = car.ElectricCar('nissan', 'leaf', 2024)\n",
    "print(my_leaf.get_descriptive_name())"
   ]
  },
  {
   "cell_type": "markdown",
   "id": "fb21aa6f-ebdc-417a-93d3-2e1878e492b4",
   "metadata": {},
   "source": [
    "### 9.4.5 导入模块中的所有类"
   ]
  },
  {
   "cell_type": "code",
   "execution_count": null,
   "id": "742097a7-ab1a-4cf1-bc03-7d8455e6a5f6",
   "metadata": {},
   "outputs": [],
   "source": [
    "from module_name import *"
   ]
  },
  {
   "cell_type": "markdown",
   "id": "b95d1cf4-cc3a-4b1c-8aea-5ba17badc8a5",
   "metadata": {},
   "source": [
    "### 9.4.6 在一个模块中导入另一个模块"
   ]
  },
  {
   "cell_type": "code",
   "execution_count": null,
   "id": "ae63d8c6-48a0-4323-ace7-453c7ed11b27",
   "metadata": {},
   "outputs": [],
   "source": [
    "from car import Car\n",
    "from electric_car import ElectricCar\n",
    "\n",
    "my_mustang = Car('ford', 'mustang', 2024)\n",
    "print(my_mustang.get_descriptive_name())\n",
    "\n",
    "my_leaf = ElectricCar('nissan', 'leaf', 2024)\n",
    "print(my_leaf.get_descriptive_name())"
   ]
  },
  {
   "cell_type": "markdown",
   "id": "2d1e4df3-21d2-4005-b4d6-1070f4a0c092",
   "metadata": {},
   "source": [
    "### 9.4.7 使用别名"
   ]
  },
  {
   "cell_type": "code",
   "execution_count": null,
   "id": "6a6c7f39-2e78-46de-85b4-0037fea26a55",
   "metadata": {},
   "outputs": [],
   "source": [
    "from electric_car import ElectricCar as EC\n",
    "\n",
    "my_leaf = EC('nissan', 'leaf', 2024)\n",
    "\n",
    "import electric_car as ec\n",
    "\n",
    "my_leaf = ec.ElectricCar('nissan', 'leaf', 2024)"
   ]
  },
  {
   "cell_type": "markdown",
   "id": "9c2daa60-2f80-4f0c-a0d1-f40da4f2aa1f",
   "metadata": {},
   "source": [
    "### 9.4.8 找到合适的工作流程"
   ]
  },
  {
   "cell_type": "markdown",
   "id": "29fe8a85-4626-4acd-86f8-2aa77bce93e8",
   "metadata": {},
   "source": [
    "## 9.5 Python 标准库"
   ]
  },
  {
   "cell_type": "code",
   "execution_count": 18,
   "id": "bad09357-3632-4496-b5fe-90fc6d8b311a",
   "metadata": {},
   "outputs": [
    {
     "data": {
      "text/plain": [
       "6"
      ]
     },
     "execution_count": 18,
     "metadata": {},
     "output_type": "execute_result"
    }
   ],
   "source": [
    "from random import randint\n",
    "randint(1, 6)"
   ]
  },
  {
   "cell_type": "code",
   "execution_count": 19,
   "id": "d92e5fc5-251e-415a-a031-00eda685f95b",
   "metadata": {},
   "outputs": [
    {
     "data": {
      "text/plain": [
       "'florence'"
      ]
     },
     "execution_count": 19,
     "metadata": {},
     "output_type": "execute_result"
    }
   ],
   "source": [
    "from random import choice\n",
    "players = ['charles', 'martina', 'michael', 'florence', 'eli']\n",
    "first_up = choice(players)\n",
    "first_up"
   ]
  },
  {
   "cell_type": "markdown",
   "id": "60522dd7-786f-428a-a096-87214f1215a2",
   "metadata": {},
   "source": [
    "## 练习"
   ]
  },
  {
   "cell_type": "code",
   "execution_count": 2,
   "id": "11c5ecea-26c9-46b0-99fe-22be92f2fc72",
   "metadata": {},
   "outputs": [
    {
     "name": "stdout",
     "output_type": "stream",
     "text": [
      "餐馆名称: 川菜馆\n",
      "菜系类型: 川菜\n",
      "\n",
      "餐馆名称: 川菜馆\n",
      "菜系类型: 川菜\n",
      "川菜馆 正在营业中...\n"
     ]
    }
   ],
   "source": [
    "#9.1 餐馆\n",
    "class Restaurant:\n",
    "    \"\"\"一次模拟餐馆的简单尝试\"\"\"\n",
    "    def __init__(self, restaurant_name, cuisine_type):\n",
    "        \"\"\"初始化属性restaurant_name和cuisine_type\"\"\"\n",
    "        self.restaurant_name = restaurant_name  \n",
    "        self.cuisine_type = cuisine_type  \n",
    "  \n",
    "    def describe_restaurant(self):\n",
    "        \"\"\"模拟餐馆信息\"\"\"\n",
    "        print(f\"餐馆名称: {self.restaurant_name}\")  \n",
    "        print(f\"菜系类型: {self.cuisine_type}\")  \n",
    "  \n",
    "    def open_restaurant(self):\n",
    "        \"\"\"模拟餐馆营业\"\"\"\n",
    "        print(f\"{self.restaurant_name} 正在营业中...\")  \n",
    "  \n",
    "# 创建餐馆实例  \n",
    "restaurant = Restaurant(\"川菜馆\", \"川菜\")  \n",
    "  \n",
    "# 打印两个属性  \n",
    "print(\"餐馆名称:\", restaurant.restaurant_name)  \n",
    "print(\"菜系类型:\", restaurant.cuisine_type)  \n",
    "print()  \n",
    "\n",
    "# 调用两个方法  \n",
    "restaurant.describe_restaurant()  \n",
    "restaurant.open_restaurant()"
   ]
  },
  {
   "cell_type": "code",
   "execution_count": 3,
   "id": "34f638c2-a155-4fa7-b785-e315db426a62",
   "metadata": {},
   "outputs": [
    {
     "name": "stdout",
     "output_type": "stream",
     "text": [
      "餐馆名称: 川菜王\n",
      "菜系类型: 川菜\n",
      "餐馆名称: 东北风\n",
      "菜系类型: 东北菜\n",
      "餐馆名称: 北京烤鸭店\n",
      "菜系类型: 北京菜\n"
     ]
    }
   ],
   "source": [
    "#9.2 三家餐馆\n",
    "# 创建三个餐馆实例  \n",
    "restaurant1 = Restaurant(\"川菜王\", \"川菜\")  \n",
    "restaurant2 = Restaurant(\"东北风\", \"东北菜\")  \n",
    "restaurant3 = Restaurant(\"北京烤鸭店\", \"北京菜\")  \n",
    "  \n",
    "# 对每个实例调用 describe_restaurant() 方法  \n",
    "restaurant1.describe_restaurant()  \n",
    "restaurant2.describe_restaurant()  \n",
    "restaurant3.describe_restaurant()"
   ]
  },
  {
   "cell_type": "code",
   "execution_count": 5,
   "id": "801fc303-4710-4552-a625-7379cf20ff17",
   "metadata": {},
   "outputs": [
    {
     "name": "stdout",
     "output_type": "stream",
     "text": [
      "姓名: Billie Eilish\n",
      "年龄: 23\n",
      "邮箱: zhangsan@example.com\n",
      "你好, Billie!\n",
      "姓名: Troye Sivan\n",
      "年龄: 30\n",
      "邮箱: wangwu@example.com\n",
      "你好, Troye!\n",
      "姓名: Doja Cat\n",
      "年龄: 30\n",
      "邮箱: sunqi@example.com\n",
      "你好, Doja!\n"
     ]
    }
   ],
   "source": [
    "#9.3 用户\n",
    "class User: \n",
    "    \"\"\"一次模拟用户的简单尝试\"\"\" \n",
    "    \n",
    "    def __init__(self, first_name, last_name, age, email):  \n",
    "        \"\"\"初始化属性first_name,last_name,age,email\"\"\"\n",
    "        self.first_name = first_name  \n",
    "        self.last_name = last_name  \n",
    "        self.age = age  \n",
    "        self.email = email  \n",
    "  \n",
    "    def describe_user(self):  \n",
    "        print(f\"姓名: {self.first_name} {self.last_name}\")  \n",
    "        print(f\"年龄: {self.age}\")  \n",
    "        print(f\"邮箱: {self.email}\")  \n",
    "  \n",
    "    def greet_user(self):  \n",
    "        print(f\"你好, {self.first_name}!\")  \n",
    "  \n",
    "# 创建多个用户实例  \n",
    "user1 = User(\"Billie\", \"Eilish\", 23, \"zhangsan@example.com\")  \n",
    "user2 = User(\"Troye\", \"Sivan\", 30, \"wangwu@example.com\")  \n",
    "user3 = User(\"Doja\", \"Cat\", 30, \"sunqi@example.com\")  \n",
    "  \n",
    "# 对每个用户实例调用上述两个方法  \n",
    "user1.describe_user()  \n",
    "user1.greet_user()  \n",
    "  \n",
    "user2.describe_user()  \n",
    "user2.greet_user()  \n",
    "  \n",
    "user3.describe_user()  \n",
    "user3.greet_user()"
   ]
  },
  {
   "cell_type": "code",
   "execution_count": 6,
   "id": "a298efbc-fc55-419a-b0fd-92fbe37d5f23",
   "metadata": {},
   "outputs": [
    {
     "name": "stdout",
     "output_type": "stream",
     "text": [
      "当前就餐人数: 0\n",
      "修改后的就餐人数: 50\n",
      "增加后的就餐人数: 80\n"
     ]
    }
   ],
   "source": [
    "#9.4就餐人数\n",
    "class Restaurant:\n",
    "    \"\"\"一次简单的餐馆模拟\"\"\"\n",
    "    def __init__(self, restaurant_name, cuisine_type, number_served=0):  \n",
    "        self.restaurant_name = restaurant_name  \n",
    "        self.cuisine_type = cuisine_type  \n",
    "        self.number_served = number_served  \n",
    "  \n",
    "    def describe_restaurant(self):  \n",
    "        print(f\"餐馆名称: {self.restaurant_name}\")  \n",
    "        print(f\"菜系类型: {self.cuisine_type}\")  \n",
    "  \n",
    "    def open_restaurant(self):  \n",
    "        print(f\"{self.restaurant_name} 正在营业中...\")  \n",
    "  \n",
    "    def set_number_served(self, new_number):  \n",
    "        self.number_served = new_number  \n",
    "  \n",
    "    def increment_number_served(self, additional_guests):  \n",
    "        self.number_served += additional_guests  \n",
    "  \n",
    "# 创建餐馆实例  \n",
    "restaurant = Restaurant(\"川菜馆\", \"川菜\")  \n",
    "  \n",
    "# 打印初始就餐人数  \n",
    "print(\"当前就餐人数:\", restaurant.number_served)  \n",
    "  \n",
    "# 修改就餐人数  \n",
    "restaurant.set_number_served(50)  \n",
    "print(\"修改后的就餐人数:\", restaurant.number_served)  \n",
    "  \n",
    "# 调用 increment_number_served 方法增加就餐人数  \n",
    "restaurant.increment_number_served(30)  \n",
    "print(\"增加后的就餐人数:\", restaurant.number_served)"
   ]
  },
  {
   "cell_type": "code",
   "execution_count": 10,
   "id": "b2b49d9e-1004-4de7-be42-2929c5d2126a",
   "metadata": {},
   "outputs": [
    {
     "name": "stdout",
     "output_type": "stream",
     "text": [
      "尝试登录次数: 3\n",
      "重置后的尝试登录次数: 0\n"
     ]
    }
   ],
   "source": [
    "#9.5 尝试登录次数\n",
    "class User:\n",
    "    \"\"\"一次模拟登录的简单尝试\"\"\"\n",
    "    \n",
    "    def __init__(self, first_name, last_name, age, email):  \n",
    "        \"\"\"初始化属性\"\"\"\n",
    "        self.first_name = first_name  \n",
    "        self.last_name = last_name  \n",
    "        self.age = age  \n",
    "        self.email = email  \n",
    "        self.login_attempts = 0  \n",
    "  \n",
    "    def describe_user(self):  \n",
    "        print(f\"姓名: {self.first_name} {self.last_name}\")  \n",
    "        print(f\"年龄: {self.age}\")  \n",
    "        print(f\"邮箱: {self.email}\")  \n",
    "  \n",
    "    def greet_user(self):  \n",
    "        print(f\"你好, {self.first_name}!\")  \n",
    "  \n",
    "    def increment_login_attempts(self):  \n",
    "        self.login_attempts += 1  \n",
    "  \n",
    "    def reset_login_attempts(self):  \n",
    "        self.login_attempts = 0  \n",
    "  \n",
    "# 创建用户实例  \n",
    "user = User(\"Billie\", \"Eilish\", 23, \"zhangsan@example.com\")  \n",
    "  \n",
    "# 调用 increment_login_attempts 方法多次  \n",
    "user.increment_login_attempts()  \n",
    "user.increment_login_attempts()  \n",
    "user.increment_login_attempts()  \n",
    "  \n",
    "# 打印尝试登录次数  \n",
    "print(\"尝试登录次数:\", user.login_attempts)  \n",
    "  \n",
    "# 调用 reset_login_attempts 方法重置尝试登录次数  \n",
    "user.reset_login_attempts()  \n",
    "  \n",
    "# 再次打印尝试登录次数  \n",
    "print(\"重置后的尝试登录次数:\", user.login_attempts)"
   ]
  },
  {
   "cell_type": "code",
   "execution_count": 9,
   "id": "ceaceae6-4ad8-4c99-8ca4-76e156ce1452",
   "metadata": {},
   "outputs": [
    {
     "name": "stdout",
     "output_type": "stream",
     "text": [
      "我们提供的冰激凌口味有:\n",
      "香草\n",
      "巧克力\n",
      "草莓\n",
      "抹茶\n"
     ]
    }
   ],
   "source": [
    "#9.6 冰淇淋小店\n",
    "class IceCreamStand(Restaurant):  \n",
    "    def __init__(self, restaurant_name, cuisine_type, flavors):  \n",
    "        super().__init__(restaurant_name, cuisine_type)  \n",
    "        self.flavors = flavors  \n",
    "  \n",
    "    def show_flavors(self):  \n",
    "        print(\"我们提供的冰激凌口味有:\")  \n",
    "        for flavor in self.flavors:  \n",
    "            print(flavor)  \n",
    "  \n",
    "# 创建一个冰激凌小店实例  \n",
    "ice_cream_shop = IceCreamStand(\"夏日冰点\", \"冰激凌\", [\"香草\", \"巧克力\", \"草莓\", \"抹茶\"])  \n",
    "  \n",
    "# 调用方法显示冰激凌口味  \n",
    "ice_cream_shop.show_flavors()"
   ]
  },
  {
   "cell_type": "code",
   "execution_count": 11,
   "id": "7be7bd83-1b2d-4247-a0f1-06c7c209133a",
   "metadata": {},
   "outputs": [
    {
     "name": "stdout",
     "output_type": "stream",
     "text": [
      "管理员的权限如下:\n",
      "can add post\n",
      "can delete post\n",
      "can ban user\n"
     ]
    }
   ],
   "source": [
    "#9.7 管理员\n",
    "class Admin(User): \n",
    "    \n",
    "    def __init__(self, first_name, last_name, age, email, privileges):  \n",
    "        super().__init__(first_name, last_name, age, email)  \n",
    "        self.privileges = privileges  \n",
    "  \n",
    "    def show_privileges(self):  \n",
    "        print(\"管理员的权限如下:\")  \n",
    "        for privilege in self.privileges:  \n",
    "            print(privilege)  \n",
    "  \n",
    "# 创建一个管理员实例  \n",
    "admin_user = Admin(\"管理员\", \"小张\", 30, \"admin@example.com\", [\"can add post\", \"can delete post\", \"can ban user\"])  \n",
    "  \n",
    "# 调用方法显示管理员权限  \n",
    "admin_user.show_privileges()"
   ]
  },
  {
   "cell_type": "code",
   "execution_count": 12,
   "id": "7b297bb2-4415-4e9a-8df1-858e41cbcb1e",
   "metadata": {},
   "outputs": [
    {
     "name": "stdout",
     "output_type": "stream",
     "text": [
      "权限如下:\n",
      "can add post\n",
      "can delete post\n",
      "can ban user\n"
     ]
    }
   ],
   "source": [
    "#9.8 权限\n",
    "class Privileges:  \n",
    "    def __init__(self, privileges):  \n",
    "        self.privileges = privileges  \n",
    "  \n",
    "    def show_privileges(self):  \n",
    "        print(\"权限如下:\")  \n",
    "        for privilege in self.privileges:  \n",
    "            print(privilege)  \n",
    "  \n",
    "class Admin(User):  \n",
    "    def __init__(self, first_name, last_name, age, email, privileges):  \n",
    "        super().__init__(first_name, last_name, age, email)  \n",
    "        self.privileges = Privileges(privileges)  \n",
    "  \n",
    "# 创建一个管理员实例  \n",
    "admin_user = Admin(\"管理员\", \"小张\", 30, \"admin@example.com\", [\"can add post\", \"can delete post\", \"can ban user\"])  \n",
    "  \n",
    "# 调用方法显示管理员权限  \n",
    "admin_user.privileges.show_privileges()"
   ]
  },
  {
   "cell_type": "code",
   "execution_count": 13,
   "id": "9a36c77d-fb7f-4d32-b17a-b1da87fdf76a",
   "metadata": {},
   "outputs": [
    {
     "name": "stdout",
     "output_type": "stream",
     "text": [
      "初始续航里程为: 650公里\n",
      "电池已经是最大容量65，无需升级。\n",
      "升级电池后的续航里程为: 650公里\n"
     ]
    }
   ],
   "source": [
    "#9.9 电池升级\n",
    "class Battery: \n",
    "    \n",
    "    def __init__(self, battery_size=65):  \n",
    "        self.battery_size = battery_size  \n",
    "  \n",
    "    def upgrade_battery(self):  \n",
    "        if self.battery_size != 65:  \n",
    "            self.battery_size = 65  \n",
    "            print(\"电池升级成功，电池容量已达到65。\")  \n",
    "        else:  \n",
    "            print(\"电池已经是最大容量65，无需升级。\")  \n",
    "  \n",
    "    def get_range(self):  \n",
    "        range = self.battery_size * 10  \n",
    "        return range  \n",
    "  \n",
    "class ElectricCar:  \n",
    "    def __init__(self, make, model, year, battery):  \n",
    "        self.make = make  \n",
    "        self.model = model  \n",
    "        self.year = year  \n",
    "        self.battery = battery  \n",
    "  \n",
    "    def describe_battery(self):  \n",
    "        print(f\"这辆车的电池是 {self.battery.battery_size}kWh的。\")  \n",
    "  \n",
    "    def get_range(self):  \n",
    "        return self.battery.get_range()  \n",
    "  \n",
    "# 创建一个电动汽车实例，默认电池容量  \n",
    "my_tesla = ElectricCar(\"Tesla\", \"Model S\", 2019, Battery())  \n",
    "  \n",
    "# 打印初始续航里程  \n",
    "print(f\"初始续航里程为: {my_tesla.get_range()}公里\")  \n",
    "  \n",
    "# 升级电池  \n",
    "my_tesla.battery.upgrade_battery()  \n",
    "  \n",
    "# 再次打印续航里程  \n",
    "print(f\"升级电池后的续航里程为: {my_tesla.get_range()}公里\")"
   ]
  },
  {
   "cell_type": "code",
   "execution_count": 14,
   "id": "d359fbbe-76ef-4a97-9a46-868792cc07a7",
   "metadata": {},
   "outputs": [
    {
     "name": "stdout",
     "output_type": "stream",
     "text": [
      "6\n",
      "4\n",
      "2\n",
      "6\n",
      "6\n",
      "4\n",
      "5\n",
      "4\n",
      "1\n",
      "3\n",
      "4\n",
      "8\n",
      "2\n",
      "3\n",
      "4\n",
      "10\n",
      "4\n",
      "4\n",
      "2\n",
      "4\n",
      "18\n",
      "4\n",
      "7\n",
      "2\n",
      "11\n",
      "2\n",
      "15\n",
      "3\n",
      "6\n",
      "7\n"
     ]
    }
   ],
   "source": [
    "#9.13 骰子\n",
    "import random  \n",
    "  \n",
    "class Die:  \n",
    "    def __init__(self, sides=6):  \n",
    "        self.sides = sides  \n",
    "  \n",
    "    def roll_die(self):  \n",
    "        return random.randint(1, self.sides)  \n",
    "  \n",
    "# 创建一个 6 面的骰子并掷 10 次  \n",
    "six_sided_die = Die()  \n",
    "for _ in range(10):  \n",
    "    print(six_sided_die.roll_die())  \n",
    "  \n",
    "# 创建一个 10 面的骰子并掷 10 次  \n",
    "ten_sided_die = Die(10)  \n",
    "for _ in range(10):  \n",
    "    print(ten_sided_die.roll_die())  \n",
    "  \n",
    "# 创建一个 20 面的骰子并掷 10 次  \n",
    "twenty_sided_die = Die(20)  \n",
    "for _ in range(10):  \n",
    "    print(twenty_sided_die.roll_die())"
   ]
  },
  {
   "cell_type": "code",
   "execution_count": 15,
   "id": "955a05b3-6fdd-4158-b560-b73a805a882d",
   "metadata": {},
   "outputs": [
    {
     "name": "stdout",
     "output_type": "stream",
     "text": [
      "只要彩票上是以下 4 个数或字母，就中大奖了: [3, 6, 'C', 2]\n"
     ]
    }
   ],
   "source": [
    "#9.14 彩票\n",
    "import random  \n",
    "  \n",
    "# 创建一个列表，包含 10 个数和 5 个字母  \n",
    "lottery_pool = [1, 2, 3, 4, 5, 6, 7, 8, 9, 10, 'A', 'B', 'C', 'D', 'E']  \n",
    "  \n",
    "# 随机选择 4 个数或字母  \n",
    "winning_numbers = random.sample(lottery_pool, 4)  \n",
    "  \n",
    "# 打印中奖号码  \n",
    "print(f\"只要彩票上是以下 4 个数或字母，就中大奖了: {winning_numbers}\")"
   ]
  },
  {
   "cell_type": "code",
   "execution_count": 16,
   "id": "7b1cb596-f756-4b8c-adcc-dcde9985cf80",
   "metadata": {},
   "outputs": [
    {
     "name": "stdout",
     "output_type": "stream",
     "text": [
      "执行了 29160 次循环才中了大奖。\n"
     ]
    }
   ],
   "source": [
    "#9.15 彩票分析\n",
    "import random  \n",
    "  \n",
    "# 创建一个列表，包含 10 个数和 5 个字母  \n",
    "lottery_pool = [1, 2, 3, 4, 5, 6, 7, 8, 9, 10, 'A', 'B', 'C', 'D', 'E']  \n",
    "  \n",
    "# 定义一个函数，用于随机选择彩票号码并检查是否中奖  \n",
    "def check_lottery_win(my_ticket, winning_numbers):  \n",
    "    return my_ticket == winning_numbers  \n",
    "  \n",
    "# 随机选择中奖号码  \n",
    "winning_numbers = random.sample(lottery_pool, 4)  \n",
    "  \n",
    "# 定义彩票号码  \n",
    "my_ticket = []  \n",
    "  \n",
    "# 计数器  \n",
    "loop_count = 0  \n",
    "  \n",
    "# 循环直到中奖  \n",
    "while not check_lottery_win(my_ticket, winning_numbers):  \n",
    "    my_ticket = random.sample(lottery_pool, 4)  \n",
    "    loop_count += 1  \n",
    "  \n",
    "# 打印中奖所需的循环次数  \n",
    "print(f\"执行了 {loop_count} 次循环才中了大奖。\")"
   ]
  }
 ],
 "metadata": {
  "kernelspec": {
   "display_name": "Python 3 (ipykernel)",
   "language": "python",
   "name": "python3"
  },
  "language_info": {
   "codemirror_mode": {
    "name": "ipython",
    "version": 3
   },
   "file_extension": ".py",
   "mimetype": "text/x-python",
   "name": "python",
   "nbconvert_exporter": "python",
   "pygments_lexer": "ipython3",
   "version": "3.11.7"
  }
 },
 "nbformat": 4,
 "nbformat_minor": 5
}
