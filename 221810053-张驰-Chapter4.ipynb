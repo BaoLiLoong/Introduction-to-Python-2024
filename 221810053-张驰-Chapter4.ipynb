{
 "cells": [
  {
   "cell_type": "markdown",
   "id": "a197268d-cc61-4cbb-a624-2c180aef2cda",
   "metadata": {},
   "source": [
    "# 第四章 操作列表"
   ]
  },
  {
   "cell_type": "markdown",
   "id": "ddc2c8e7-81f1-4d72-baf9-fa203c9daa4a",
   "metadata": {},
   "source": [
    "## 4.1 遍历整个列表"
   ]
  },
  {
   "cell_type": "code",
   "execution_count": 4,
   "id": "0d1b6fc2-5248-4ff4-bea0-c252d3dedc66",
   "metadata": {},
   "outputs": [
    {
     "name": "stdout",
     "output_type": "stream",
     "text": [
      "alice\n",
      "david\n",
      "carolina\n"
     ]
    }
   ],
   "source": [
    "#for循环 四个空格作为缩进\n",
    "magicians=['alice','david','carolina']\n",
    "for magician in magicians:\n",
    "    print(magician)#默认四个空格"
   ]
  },
  {
   "cell_type": "markdown",
   "id": "5ef91dac-f35e-4637-bb0d-78c3f022f2e3",
   "metadata": {},
   "source": [
    "### 4.1.1 深入研究循环"
   ]
  },
  {
   "cell_type": "code",
   "execution_count": null,
   "id": "e9ac9929-faca-4c71-8075-a4241bbf93b0",
   "metadata": {},
   "outputs": [],
   "source": [
    "#for循环的命名\n",
    "for cat in cats\n",
    "for dog in dogs\n",
    "for item in list_of_items"
   ]
  },
  {
   "cell_type": "markdown",
   "id": "ef5fdf6e-a114-4a3f-b399-120854b5b89e",
   "metadata": {},
   "source": [
    "### 4.1.2 在for循环中执行更多操作"
   ]
  },
  {
   "cell_type": "code",
   "execution_count": 9,
   "id": "a8f8211e-8811-4fbd-9a6e-328f79682245",
   "metadata": {},
   "outputs": [
    {
     "name": "stdout",
     "output_type": "stream",
     "text": [
      "Alice, that was a great trick!\n",
      "I can't wait to see your next trick, Alice.\n",
      "\n",
      "David, that was a great trick!\n",
      "I can't wait to see your next trick, David.\n",
      "\n",
      "Carolina, that was a great trick!\n",
      "I can't wait to see your next trick, Carolina.\n",
      "\n"
     ]
    }
   ],
   "source": [
    "#只要保持缩进\n",
    "magicians=['alice','david','carolina']\n",
    "for magician in magicians:\n",
    "    print(f\"{magician.title()}, that was a great trick!\")\n",
    "    print(f\"I can't wait to see your next trick, {magician.title()}.\\n\")#\\n在每次循环结束后加入空行"
   ]
  },
  {
   "cell_type": "markdown",
   "id": "13b151ec-b1f0-4ea0-9805-e77b8afedb1b",
   "metadata": {},
   "source": [
    "### 4.1.3 在for循环结束后执行一些操作"
   ]
  },
  {
   "cell_type": "code",
   "execution_count": 10,
   "id": "dc8a50ff-f451-4ca8-ad80-b971ec19b23f",
   "metadata": {},
   "outputs": [
    {
     "name": "stdout",
     "output_type": "stream",
     "text": [
      "Alice, that was a great trick!\n",
      "I can't wait to see your next trick, Alice.\n",
      "\n",
      "David, that was a great trick!\n",
      "I can't wait to see your next trick, David.\n",
      "\n",
      "Carolina, that was a great trick!\n",
      "I can't wait to see your next trick, Carolina.\n",
      "\n",
      "Thank you, everyone. That was a great magic show!\n"
     ]
    }
   ],
   "source": [
    "magicians=['alice','david','carolina']\n",
    "for magician in magicians:\n",
    "    print(f\"{magician.title()}, that was a great trick!\")\n",
    "    print(f\"I can't wait to see your next trick, {magician.title()}.\\n\")\n",
    "print(\"Thank you, everyone. That was a great magic show!\")"
   ]
  },
  {
   "cell_type": "markdown",
   "id": "7c820035-9e09-48b0-9e89-a8a2d24dfe6f",
   "metadata": {},
   "source": [
    "## 4.2 避免缩进错误"
   ]
  },
  {
   "cell_type": "markdown",
   "id": "c137d2d3-edef-4dc6-be27-787eb561b9bf",
   "metadata": {},
   "source": [
    "### 4.2.1 忘记缩进"
   ]
  },
  {
   "cell_type": "code",
   "execution_count": 11,
   "id": "b87ffce0-5ce8-4b1d-90d9-52d8dc03a9cd",
   "metadata": {},
   "outputs": [
    {
     "ename": "IndentationError",
     "evalue": "expected an indented block after 'for' statement on line 2 (812596836.py, line 3)",
     "output_type": "error",
     "traceback": [
      "\u001b[1;36m  Cell \u001b[1;32mIn[11], line 3\u001b[1;36m\u001b[0m\n\u001b[1;33m    print(magician)\u001b[0m\n\u001b[1;37m    ^\u001b[0m\n\u001b[1;31mIndentationError\u001b[0m\u001b[1;31m:\u001b[0m expected an indented block after 'for' statement on line 2\n"
     ]
    }
   ],
   "source": [
    "magicians=['alice','david','carolina']\n",
    "for magician in magicians:\n",
    "print(magician)"
   ]
  },
  {
   "cell_type": "markdown",
   "id": "f1574ec2-b075-48f6-8af7-29e1f367f372",
   "metadata": {},
   "source": [
    "### 4.2.2 忘记缩进额外的代码行"
   ]
  },
  {
   "cell_type": "code",
   "execution_count": 12,
   "id": "0efbe656-7e98-479e-be31-589a7072e6eb",
   "metadata": {},
   "outputs": [
    {
     "name": "stdout",
     "output_type": "stream",
     "text": [
      "Alice, that was a great trick!\n",
      "David, that was a great trick!\n",
      "Carolina, that was a great trick!\n",
      "I can't wait to see your next trick, Carolina.\n",
      "\n"
     ]
    }
   ],
   "source": [
    "magicians=['alice','david','carolina']\n",
    "for magician in magicians:\n",
    "    print(f\"{magician.title()}, that was a great trick!\")\n",
    "print(f\"I can't wait to see your next trick, {magician.title()}.\\n\")"
   ]
  },
  {
   "cell_type": "markdown",
   "id": "77d5965f-7364-4f7d-a3f9-dbf9076b3981",
   "metadata": {},
   "source": [
    "### 4.2.3 不必要的缩进"
   ]
  },
  {
   "cell_type": "code",
   "execution_count": 13,
   "id": "38c57feb-658a-441b-a6a6-4d1c932be287",
   "metadata": {},
   "outputs": [
    {
     "ename": "IndentationError",
     "evalue": "unexpected indent (2587586308.py, line 2)",
     "output_type": "error",
     "traceback": [
      "\u001b[1;36m  Cell \u001b[1;32mIn[13], line 2\u001b[1;36m\u001b[0m\n\u001b[1;33m    print(message)\u001b[0m\n\u001b[1;37m    ^\u001b[0m\n\u001b[1;31mIndentationError\u001b[0m\u001b[1;31m:\u001b[0m unexpected indent\n"
     ]
    }
   ],
   "source": [
    "message=\"Hello Python World!\"\n",
    "    print(message)"
   ]
  },
  {
   "cell_type": "markdown",
   "id": "14dec675-cb5d-4bd1-91db-97c2a0f3b884",
   "metadata": {},
   "source": [
    "### 4.2.4 循环后不必要的缩进"
   ]
  },
  {
   "cell_type": "code",
   "execution_count": 14,
   "id": "b46b3f27-59b3-40a1-8a2e-c9228da67651",
   "metadata": {},
   "outputs": [
    {
     "name": "stdout",
     "output_type": "stream",
     "text": [
      "Alice, that was a great trick!\n",
      "I can't wait to see your next trick, Alice.\n",
      "\n",
      "Thank you, everyone. That was a great magic show!\n",
      "David, that was a great trick!\n",
      "I can't wait to see your next trick, David.\n",
      "\n",
      "Thank you, everyone. That was a great magic show!\n",
      "Carolina, that was a great trick!\n",
      "I can't wait to see your next trick, Carolina.\n",
      "\n",
      "Thank you, everyone. That was a great magic show!\n"
     ]
    }
   ],
   "source": [
    "magicians=['alice','david','carolina']\n",
    "for magician in magicians:\n",
    "    print(f\"{magician.title()}, that was a great trick!\")\n",
    "    print(f\"I can't wait to see your next trick, {magician.title()}.\\n\")\n",
    "    print(\"Thank you, everyone. That was a great magic show!\")"
   ]
  },
  {
   "cell_type": "markdown",
   "id": "9b37283f-a885-4a02-9b1c-42ab9ac4f459",
   "metadata": {},
   "source": [
    "### 4.2.5 遗漏冒号"
   ]
  },
  {
   "cell_type": "code",
   "execution_count": 15,
   "id": "8ebc7e5d-6bad-41d3-b0ad-f39ee98e0f6f",
   "metadata": {},
   "outputs": [
    {
     "ename": "SyntaxError",
     "evalue": "expected ':' (2548459784.py, line 2)",
     "output_type": "error",
     "traceback": [
      "\u001b[1;36m  Cell \u001b[1;32mIn[15], line 2\u001b[1;36m\u001b[0m\n\u001b[1;33m    for magician in magicians\u001b[0m\n\u001b[1;37m                             ^\u001b[0m\n\u001b[1;31mSyntaxError\u001b[0m\u001b[1;31m:\u001b[0m expected ':'\n"
     ]
    }
   ],
   "source": [
    "magicians=['alice','david','carolina']\n",
    "for magician in magicians\n",
    "    print(magician)"
   ]
  },
  {
   "cell_type": "markdown",
   "id": "ffb68dc1-a8b1-44b2-a424-b91269a5c671",
   "metadata": {},
   "source": [
    "## 4.3 创建数值列表"
   ]
  },
  {
   "cell_type": "markdown",
   "id": "25e72a10-4df7-4a9b-ae1f-b01482e70d1e",
   "metadata": {},
   "source": [
    "### 4.3.1 使用range函数"
   ]
  },
  {
   "cell_type": "code",
   "execution_count": 18,
   "id": "a7ddd391-1f31-42a6-a3f1-2882c3c786a8",
   "metadata": {},
   "outputs": [
    {
     "name": "stdout",
     "output_type": "stream",
     "text": [
      "1\n",
      "2\n",
      "3\n",
      "4\n"
     ]
    }
   ],
   "source": [
    "for value in range(1,5):\n",
    "    print(value)#差一"
   ]
  },
  {
   "cell_type": "code",
   "execution_count": 19,
   "id": "1a097bc3-165c-47b4-acda-6c818dc73f58",
   "metadata": {},
   "outputs": [
    {
     "name": "stdout",
     "output_type": "stream",
     "text": [
      "1\n",
      "2\n",
      "3\n",
      "4\n",
      "5\n"
     ]
    }
   ],
   "source": [
    "for value in range(1,6):\n",
    "    print(value)"
   ]
  },
  {
   "cell_type": "code",
   "execution_count": 20,
   "id": "9ec5a918-b082-4d01-977b-a2909df71f7d",
   "metadata": {},
   "outputs": [
    {
     "name": "stdout",
     "output_type": "stream",
     "text": [
      "0\n",
      "1\n",
      "2\n",
      "3\n",
      "4\n",
      "5\n"
     ]
    }
   ],
   "source": [
    "for value in range(6):\n",
    "    print(value)"
   ]
  },
  {
   "cell_type": "markdown",
   "id": "58de34a4-d635-44b4-900d-4752ee423b93",
   "metadata": {},
   "source": [
    "### 4.3.2 使用range()创建数值列表"
   ]
  },
  {
   "cell_type": "code",
   "execution_count": 21,
   "id": "6138b0fe-4678-4a32-8001-e8ac0c245027",
   "metadata": {},
   "outputs": [
    {
     "name": "stdout",
     "output_type": "stream",
     "text": [
      "[1, 2, 3, 4, 5]\n"
     ]
    }
   ],
   "source": [
    "numbers=list(range(1,6))\n",
    "print(numbers)"
   ]
  },
  {
   "cell_type": "code",
   "execution_count": 22,
   "id": "11d5b99a-493b-4800-bb82-9d3360f351c7",
   "metadata": {},
   "outputs": [
    {
     "name": "stdout",
     "output_type": "stream",
     "text": [
      "[2, 4, 6, 8, 10]\n"
     ]
    }
   ],
   "source": [
    "#打印1~10的偶数\n",
    "even_numbers=list(range(2,11,2))\n",
    "print(even_numbers)"
   ]
  },
  {
   "cell_type": "code",
   "execution_count": 24,
   "id": "76497996-c1b2-4152-bc23-32b3f9927a6c",
   "metadata": {},
   "outputs": [
    {
     "name": "stdout",
     "output_type": "stream",
     "text": [
      "[1, 4, 9, 16, 25, 36, 49, 64, 81, 100]\n"
     ]
    }
   ],
   "source": [
    "squares=[]\n",
    "for value in range(1,11):\n",
    "    square=value**2\n",
    "    squares.append(square)\n",
    "    \n",
    "print(squares)"
   ]
  },
  {
   "cell_type": "code",
   "execution_count": 25,
   "id": "75975262-2d66-4c31-899f-6ff3aeaaaece",
   "metadata": {},
   "outputs": [
    {
     "name": "stdout",
     "output_type": "stream",
     "text": [
      "[1, 4, 9, 16, 25, 36, 49, 64, 81, 100]\n"
     ]
    }
   ],
   "source": [
    "squares=[]\n",
    "for value in range(1,11):\n",
    "    squares.append(value**2)\n",
    "    \n",
    "print(squares)"
   ]
  },
  {
   "cell_type": "markdown",
   "id": "5e62b940-a6de-43a8-b8fb-512cb565d917",
   "metadata": {},
   "source": [
    "### 4.3.3 对数值列表执行简单的统计计算"
   ]
  },
  {
   "cell_type": "code",
   "execution_count": 2,
   "id": "cb7f7da6-7252-48ac-8484-54b44dfcdadc",
   "metadata": {},
   "outputs": [
    {
     "data": {
      "text/plain": [
       "0"
      ]
     },
     "execution_count": 2,
     "metadata": {},
     "output_type": "execute_result"
    }
   ],
   "source": [
    "digits=[1,2,3,4,5,6,7,8,9,0]\n",
    "min(digits)"
   ]
  },
  {
   "cell_type": "code",
   "execution_count": 3,
   "id": "c0fa453e-d28c-472b-b5b9-b958a6722c53",
   "metadata": {},
   "outputs": [
    {
     "data": {
      "text/plain": [
       "9"
      ]
     },
     "execution_count": 3,
     "metadata": {},
     "output_type": "execute_result"
    }
   ],
   "source": [
    "max(digits)"
   ]
  },
  {
   "cell_type": "code",
   "execution_count": 4,
   "id": "40edcc4f-23f3-4549-b4a7-cc0f652c3514",
   "metadata": {},
   "outputs": [
    {
     "data": {
      "text/plain": [
       "45"
      ]
     },
     "execution_count": 4,
     "metadata": {},
     "output_type": "execute_result"
    }
   ],
   "source": [
    "sum(digits)"
   ]
  },
  {
   "cell_type": "markdown",
   "id": "429122b0-808f-40da-ade1-e138c318b166",
   "metadata": {},
   "source": [
    "### 4.3.4 列表推导式"
   ]
  },
  {
   "cell_type": "code",
   "execution_count": 5,
   "id": "b0e5ce9a-5373-4223-9612-969d3abccc24",
   "metadata": {},
   "outputs": [
    {
     "name": "stdout",
     "output_type": "stream",
     "text": [
      "[1, 4, 9, 16, 25, 36, 49, 64, 81, 100]\n"
     ]
    }
   ],
   "source": [
    "squares=[value**2 for value in range(1,11)]\n",
    "print(squares)"
   ]
  },
  {
   "cell_type": "markdown",
   "id": "eea9fd00-33b6-44be-aca8-d4430db74e15",
   "metadata": {},
   "source": [
    "## 4.4 使用列表的一部分"
   ]
  },
  {
   "cell_type": "markdown",
   "id": "441ef672-21c1-49a8-afe3-3a35de1040bd",
   "metadata": {},
   "source": [
    "### 4.4.1 切片"
   ]
  },
  {
   "cell_type": "code",
   "execution_count": 6,
   "id": "80f7be5b-2c50-4482-b7df-eadc67787de0",
   "metadata": {},
   "outputs": [
    {
     "name": "stdout",
     "output_type": "stream",
     "text": [
      "['charles', 'martina', 'michael']\n"
     ]
    }
   ],
   "source": [
    "#切片slice：处理列表中部分元素的语法\n",
    "players=['charles','martina','michael','florence','eli']\n",
    "print(players[0:3])"
   ]
  },
  {
   "cell_type": "code",
   "execution_count": 7,
   "id": "8d5f749e-9448-44f1-accd-118abb7ab68a",
   "metadata": {},
   "outputs": [
    {
     "name": "stdout",
     "output_type": "stream",
     "text": [
      "['martina', 'michael', 'florence']\n"
     ]
    }
   ],
   "source": [
    "players=['charles','martina','michael','florence','eli']\n",
    "print(players[1:4])"
   ]
  },
  {
   "cell_type": "code",
   "execution_count": 8,
   "id": "1faffa9c-a08d-4444-91b9-48ff0ab6d4c4",
   "metadata": {},
   "outputs": [
    {
     "name": "stdout",
     "output_type": "stream",
     "text": [
      "['charles', 'martina', 'michael', 'florence']\n"
     ]
    }
   ],
   "source": [
    "players=['charles','martina','michael','florence','eli']\n",
    "print(players[:4])"
   ]
  },
  {
   "cell_type": "code",
   "execution_count": 9,
   "id": "f51286e4-ef4f-4e09-93f6-deef59d46c2e",
   "metadata": {},
   "outputs": [
    {
     "name": "stdout",
     "output_type": "stream",
     "text": [
      "['michael', 'florence', 'eli']\n"
     ]
    }
   ],
   "source": [
    "players=['charles','martina','michael','florence','eli']\n",
    "print(players[2:])"
   ]
  },
  {
   "cell_type": "code",
   "execution_count": 10,
   "id": "3a1dde08-fefc-4ecc-87b4-97e00fa2e3a0",
   "metadata": {},
   "outputs": [
    {
     "name": "stdout",
     "output_type": "stream",
     "text": [
      "['michael', 'florence', 'eli']\n"
     ]
    }
   ],
   "source": [
    "#负数索引\n",
    "players=['charles','martina','michael','florence','eli']\n",
    "print(players[-3:])"
   ]
  },
  {
   "cell_type": "markdown",
   "id": "a50cb010-40d2-4c07-b3fb-7baac1bddaa5",
   "metadata": {},
   "source": [
    "### 4.4.2 遍历切片"
   ]
  },
  {
   "cell_type": "code",
   "execution_count": 12,
   "id": "d453a27b-894b-4357-9227-a8d8e2339a3f",
   "metadata": {},
   "outputs": [
    {
     "name": "stdout",
     "output_type": "stream",
     "text": [
      "Here are the first three players on my team:\n",
      "Charles\n",
      "Martina\n",
      "Michael\n"
     ]
    }
   ],
   "source": [
    "players=['charles','martina','michael','florence','eli']\n",
    "\n",
    "print(\"Here are the first three players on my team:\")\n",
    "for player in players[:3]:\n",
    "    print(player.title())"
   ]
  },
  {
   "cell_type": "markdown",
   "id": "79ea5016-c85c-4dfe-893b-d476a2b3fbf4",
   "metadata": {},
   "source": [
    "### 4.4.3 复制列表"
   ]
  },
  {
   "cell_type": "code",
   "execution_count": 15,
   "id": "cf89db98-64d7-4224-a112-8bad98cd656f",
   "metadata": {},
   "outputs": [
    {
     "name": "stdout",
     "output_type": "stream",
     "text": [
      "My favorite foods are:\n",
      "['pizza', 'falafel', 'carrot cake']\n",
      "\n",
      "My friend's favorite foods are:\n",
      "['pizza', 'falafel', 'carrot cake']\n"
     ]
    }
   ],
   "source": [
    "my_foods=['pizza','falafel','carrot cake']\n",
    "friend_foods=my_foods[:]\n",
    "\n",
    "print(\"My favorite foods are:\")\n",
    "print(my_foods)\n",
    "\n",
    "print(\"\\nMy friend's favorite foods are:\")\n",
    "print(friend_foods)"
   ]
  },
  {
   "cell_type": "code",
   "execution_count": 17,
   "id": "9da33d56-1bfd-4ceb-83e4-c4e0c8396abe",
   "metadata": {},
   "outputs": [
    {
     "name": "stdout",
     "output_type": "stream",
     "text": [
      "My favorite foods are:\n",
      "['pizza', 'falafel', 'carrot cake', 'cannoli']\n",
      "\n",
      "My friend's favorite foods are:\n",
      "['pizza', 'falafel', 'carrot cake', 'ice cream']\n"
     ]
    }
   ],
   "source": [
    "my_foods=['pizza','falafel','carrot cake']\n",
    "friend_foods=my_foods[:]\n",
    "\n",
    "my_foods.append('cannoli')\n",
    "friend_foods.append('ice cream')\n",
    "\n",
    "print(\"My favorite foods are:\")\n",
    "print(my_foods)\n",
    "\n",
    "print(\"\\nMy friend's favorite foods are:\")\n",
    "print(friend_foods)"
   ]
  },
  {
   "cell_type": "code",
   "execution_count": 18,
   "id": "83cc11f9-113d-4f7a-9e5e-e37c31967269",
   "metadata": {},
   "outputs": [
    {
     "name": "stdout",
     "output_type": "stream",
     "text": [
      "My favorite foods are:\n",
      "['pizza', 'falafel', 'carrot cake', 'cannoli', 'ice cream']\n",
      "\n",
      "My friend's favorite foods are:\n",
      "['pizza', 'falafel', 'carrot cake', 'cannoli', 'ice cream']\n"
     ]
    }
   ],
   "source": [
    "my_foods=['pizza','falafel','carrot cake']\n",
    "\n",
    "#这是行不通的，未使用切片[:]，直接赋值\n",
    "friend_foods=my_foods\n",
    "\n",
    "my_foods.append('cannoli')\n",
    "friend_foods.append('ice cream')\n",
    "\n",
    "print(\"My favorite foods are:\")\n",
    "print(my_foods)\n",
    "\n",
    "print(\"\\nMy friend's favorite foods are:\")\n",
    "print(friend_foods)\n",
    "\n",
    "#深拷贝、浅拷贝"
   ]
  },
  {
   "cell_type": "markdown",
   "id": "f219aed9-ac93-4c39-857c-2243ab254e37",
   "metadata": {},
   "source": [
    "## 4.5 元组"
   ]
  },
  {
   "cell_type": "code",
   "execution_count": null,
   "id": "7bea987e-252e-42c5-b723-10033fd2b905",
   "metadata": {},
   "outputs": [],
   "source": [
    "#Python将不能修改的值称为不可变的，而不可变的列表称为元组（tuple）"
   ]
  },
  {
   "cell_type": "markdown",
   "id": "91a417ff-6f69-4505-a0fd-9e9d29afc086",
   "metadata": {},
   "source": [
    "### 4.5.1 定义元组"
   ]
  },
  {
   "cell_type": "code",
   "execution_count": 19,
   "id": "720e3cc6-fc65-4d52-a563-949e65ffdd62",
   "metadata": {},
   "outputs": [
    {
     "name": "stdout",
     "output_type": "stream",
     "text": [
      "200\n",
      "50\n"
     ]
    }
   ],
   "source": [
    "#圆括号\n",
    "dimensions=(200,50)\n",
    "print(dimensions[0])\n",
    "print(dimensions[1])"
   ]
  },
  {
   "cell_type": "code",
   "execution_count": 20,
   "id": "dbd1817f-b0d9-4500-9ef7-34056ef0616e",
   "metadata": {},
   "outputs": [
    {
     "ename": "TypeError",
     "evalue": "'tuple' object does not support item assignment",
     "output_type": "error",
     "traceback": [
      "\u001b[1;31m---------------------------------------------------------------------------\u001b[0m",
      "\u001b[1;31mTypeError\u001b[0m                                 Traceback (most recent call last)",
      "Cell \u001b[1;32mIn[20], line 2\u001b[0m\n\u001b[0;32m      1\u001b[0m dimensions\u001b[38;5;241m=\u001b[39m(\u001b[38;5;241m200\u001b[39m,\u001b[38;5;241m50\u001b[39m)\n\u001b[1;32m----> 2\u001b[0m dimensions[\u001b[38;5;241m0\u001b[39m]\u001b[38;5;241m=\u001b[39m\u001b[38;5;241m250\u001b[39m\n",
      "\u001b[1;31mTypeError\u001b[0m: 'tuple' object does not support item assignment"
     ]
    }
   ],
   "source": [
    "dimensions=(200,50)\n",
    "dimensions[0]=250"
   ]
  },
  {
   "cell_type": "code",
   "execution_count": null,
   "id": "564eb003-d366-4996-bf1d-d4ac9ac43786",
   "metadata": {},
   "outputs": [],
   "source": [
    "my_t=(3,)#元组是由逗号标识的，如果要定义只包含一个元素的元组，必须加上逗号"
   ]
  },
  {
   "cell_type": "markdown",
   "id": "79512b43-26c5-414f-95bb-b57c26353811",
   "metadata": {},
   "source": [
    "### 4.5.2 遍历元组中所有值"
   ]
  },
  {
   "cell_type": "code",
   "execution_count": 21,
   "id": "6465dddf-26cc-43e9-8e7b-64ecf6411a71",
   "metadata": {},
   "outputs": [
    {
     "name": "stdout",
     "output_type": "stream",
     "text": [
      "200\n",
      "50\n"
     ]
    }
   ],
   "source": [
    "dimensions=(200,50)\n",
    "for dimension in dimensions:\n",
    "    print(dimension)"
   ]
  },
  {
   "cell_type": "markdown",
   "id": "bd0f97fa-5e24-4530-ac30-05420200758a",
   "metadata": {},
   "source": [
    "### 4.5.3 修改元组变量"
   ]
  },
  {
   "cell_type": "code",
   "execution_count": 22,
   "id": "d6f8f92b-5669-4c92-9be7-3bd4c904d13d",
   "metadata": {},
   "outputs": [
    {
     "name": "stdout",
     "output_type": "stream",
     "text": [
      "Original dimensions:\n",
      "200\n",
      "50\n",
      "\n",
      "Modified dimensions:\n",
      "400\n",
      "100\n"
     ]
    }
   ],
   "source": [
    "dimensions = (200, 50) \n",
    "print(\"Original dimensions:\")\n",
    "for dimension in dimensions: \n",
    "    print(dimension) \n",
    "\n",
    "dimensions = (400, 100)\n",
    "print(\"\\nModified dimensions:\")\n",
    "for dimension in dimensions: \n",
    "    print(dimension)"
   ]
  },
  {
   "cell_type": "markdown",
   "id": "e7c32ff8-4ecd-4474-86d8-83913dde49f4",
   "metadata": {},
   "source": [
    "## 练习"
   ]
  },
  {
   "cell_type": "code",
   "execution_count": 1,
   "id": "35b36385-953e-4790-96ea-0b617809ace5",
   "metadata": {},
   "outputs": [
    {
     "name": "stdout",
     "output_type": "stream",
     "text": [
      "zero\n",
      "one\n",
      "two\n",
      "three\n"
     ]
    }
   ],
   "source": [
    "#4.1披萨\n",
    "pizzas=['zero','one','two','three']\n",
    "for pizza in pizzas:\n",
    "    print(pizza)"
   ]
  },
  {
   "cell_type": "code",
   "execution_count": 4,
   "id": "5095afc4-1ab6-4ca0-8811-1edf84cc6075",
   "metadata": {},
   "outputs": [
    {
     "name": "stdout",
     "output_type": "stream",
     "text": [
      "I like ZERO pizza.\n",
      "\n",
      "I like ONE pizza.\n",
      "\n",
      "I like TWO pizza.\n",
      "\n",
      "I like THREE pizza.\n",
      "\n",
      "I really love pizza!\n"
     ]
    }
   ],
   "source": [
    "#4.1披萨\n",
    "pizzas=['zero','one','two','three']\n",
    "for pizza in pizzas:\n",
    "    print(f\"I like {pizza.upper()} pizza.\\n\")\n",
    "print(\"I really love pizza!\")"
   ]
  },
  {
   "cell_type": "code",
   "execution_count": 5,
   "id": "cef7bc24-8181-42f7-942d-4292f2316f35",
   "metadata": {},
   "outputs": [
    {
     "name": "stdout",
     "output_type": "stream",
     "text": [
      "1\n",
      "2\n",
      "3\n",
      "4\n",
      "5\n",
      "6\n",
      "7\n",
      "8\n",
      "9\n",
      "10\n",
      "11\n",
      "12\n",
      "13\n",
      "14\n",
      "15\n",
      "16\n",
      "17\n",
      "18\n",
      "19\n",
      "20\n"
     ]
    }
   ],
   "source": [
    "#4.3数到20\n",
    "for value in range(1,21):\n",
    "    print(value)"
   ]
  },
  {
   "cell_type": "code",
   "execution_count": 8,
   "id": "e31dd543-dc60-43d9-9257-2dbee06703dd",
   "metadata": {},
   "outputs": [
    {
     "name": "stdout",
     "output_type": "stream",
     "text": [
      "[1, 3, 5, 7, 9, 11, 13, 15, 17, 19]\n",
      "1\n",
      "3\n",
      "5\n",
      "7\n",
      "9\n",
      "11\n",
      "13\n",
      "15\n",
      "17\n",
      "19\n"
     ]
    }
   ],
   "source": [
    "#4.6奇数\n",
    "numbers=list(range(1,21,2))\n",
    "print(numbers)\n",
    "\n",
    "for value in range(1,21,2):\n",
    "    print(value)"
   ]
  },
  {
   "cell_type": "code",
   "execution_count": 9,
   "id": "71fda90d-799e-467a-b95b-cf9721408ec7",
   "metadata": {},
   "outputs": [
    {
     "name": "stdout",
     "output_type": "stream",
     "text": [
      "3\n",
      "6\n",
      "9\n",
      "12\n",
      "15\n",
      "18\n",
      "21\n",
      "24\n",
      "27\n",
      "30\n"
     ]
    }
   ],
   "source": [
    "#4.7 3的倍数\n",
    "for value in range(3,33,3):\n",
    "    print(value)"
   ]
  },
  {
   "cell_type": "code",
   "execution_count": 10,
   "id": "34f05995-0a13-4c8a-bad4-63fa4091a9ee",
   "metadata": {},
   "outputs": [
    {
     "name": "stdout",
     "output_type": "stream",
     "text": [
      "[1, 8, 27, 64, 125, 216, 343, 512, 729, 1000]\n"
     ]
    }
   ],
   "source": [
    "#4.9立方推导式\n",
    "lifang=[value**3 for value in range(1,11)]\n",
    "print(lifang)"
   ]
  },
  {
   "cell_type": "code",
   "execution_count": 15,
   "id": "b28430f7-f4e4-4814-8966-dd121c5401db",
   "metadata": {},
   "outputs": [
    {
     "name": "stdout",
     "output_type": "stream",
     "text": [
      "My favorite pizzas are:\n",
      "zero\n",
      "one\n",
      "two\n",
      "three\n",
      "four\n",
      "My friend's favorite pizzas are:\n",
      "zero\n",
      "one\n",
      "two\n",
      "three\n",
      "fifteen\n"
     ]
    }
   ],
   "source": [
    "#披萨\n",
    "my_pizzas=['zero','one','two','three']\n",
    "friends_pizzas=my_pizzas[:]\n",
    "my_pizzas.append('four')\n",
    "friends_pizzas.append('fifteen')\n",
    "print(\"My favorite pizzas are:\")\n",
    "for pizza in my_pizzas:\n",
    "    print(pizza)\n",
    "\n",
    "print(\"My friend's favorite pizzas are:\")\n",
    "for pizza in friends_pizzas:\n",
    "    print(pizza)"
   ]
  },
  {
   "cell_type": "code",
   "execution_count": 16,
   "id": "f917f4eb-da7f-4922-9af9-1cbf7607fe1e",
   "metadata": {},
   "outputs": [
    {
     "name": "stdout",
     "output_type": "stream",
     "text": [
      "beef\n",
      "potato\n",
      "tomato\n",
      "pork\n",
      "coke\n"
     ]
    }
   ],
   "source": [
    "#4.13自助餐\n",
    "foods=('beef','potato','tomato','pork','coke')\n",
    "for food in foods:\n",
    "    print(food)"
   ]
  },
  {
   "cell_type": "code",
   "execution_count": 18,
   "id": "03622b43-c45e-4602-ab7a-b7f1c331fc45",
   "metadata": {},
   "outputs": [
    {
     "ename": "TypeError",
     "evalue": "'tuple' object does not support item assignment",
     "output_type": "error",
     "traceback": [
      "\u001b[1;31m---------------------------------------------------------------------------\u001b[0m",
      "\u001b[1;31mTypeError\u001b[0m                                 Traceback (most recent call last)",
      "Cell \u001b[1;32mIn[18], line 1\u001b[0m\n\u001b[1;32m----> 1\u001b[0m foods[\u001b[38;5;241m0\u001b[39m]\u001b[38;5;241m=\u001b[39m\u001b[38;5;124m'\u001b[39m\u001b[38;5;124mduck\u001b[39m\u001b[38;5;124m'\u001b[39m\n\u001b[0;32m      2\u001b[0m \u001b[38;5;28mprint\u001b[39m(foods)\n",
      "\u001b[1;31mTypeError\u001b[0m: 'tuple' object does not support item assignment"
     ]
    }
   ],
   "source": [
    "foods[0]='duck'\n",
    "print(foods)"
   ]
  },
  {
   "cell_type": "code",
   "execution_count": 24,
   "id": "a9bccb7d-b656-4f33-9e4e-6d7de31e04b4",
   "metadata": {},
   "outputs": [
    {
     "name": "stdout",
     "output_type": "stream",
     "text": [
      "('beef', 'potato', 'tomato', 'pork', 'coke')\n",
      "('null', 'nothing')\n"
     ]
    }
   ],
   "source": [
    "foods=('beef','potato','tomato','pork','coke')\n",
    "print(foods)\n",
    "foods=('null','nothing')\n",
    "print(foods)"
   ]
  }
 ],
 "metadata": {
  "kernelspec": {
   "display_name": "Python 3 (ipykernel)",
   "language": "python",
   "name": "python3"
  },
  "language_info": {
   "codemirror_mode": {
    "name": "ipython",
    "version": 3
   },
   "file_extension": ".py",
   "mimetype": "text/x-python",
   "name": "python",
   "nbconvert_exporter": "python",
   "pygments_lexer": "ipython3",
   "version": "3.11.7"
  }
 },
 "nbformat": 4,
 "nbformat_minor": 5
}
