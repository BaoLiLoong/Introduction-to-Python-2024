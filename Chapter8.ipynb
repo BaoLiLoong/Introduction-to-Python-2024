{
 "cells": [
  {
   "cell_type": "markdown",
   "id": "936c4f84-8ad5-4512-9870-5bf37aae3edc",
   "metadata": {},
   "source": [
    "# 第八章 函数"
   ]
  },
  {
   "cell_type": "markdown",
   "id": "0b1cc1d3-3a50-44b8-b395-052148dc90ac",
   "metadata": {},
   "source": [
    "## 8.1 定义函数"
   ]
  },
  {
   "cell_type": "code",
   "execution_count": 1,
   "id": "921d0961-5302-42a4-adf7-8fd9913f6a45",
   "metadata": {},
   "outputs": [
    {
     "name": "stdout",
     "output_type": "stream",
     "text": [
      "Hello!\n"
     ]
    }
   ],
   "source": [
    "def greet_user():#函数定义\n",
    "    \"\"\"显示简单的问候语\"\"\"#文档字符串\n",
    "    print(\"Hello!\")\n",
    "    \n",
    "greet_user()#调用函数"
   ]
  },
  {
   "cell_type": "markdown",
   "id": "f58bf738-2f6f-48a1-9d4b-304b49bc650d",
   "metadata": {},
   "source": [
    "### 8.1.1 向函数传递信息"
   ]
  },
  {
   "cell_type": "code",
   "execution_count": 3,
   "id": "81b4d5cf-f775-4046-b96c-67f4a545c0e4",
   "metadata": {},
   "outputs": [
    {
     "name": "stdout",
     "output_type": "stream",
     "text": [
      "Hello, Jesse!\n",
      "Hello, Billie Eilish!\n"
     ]
    }
   ],
   "source": [
    "def greet_user(username):\n",
    "    \"\"\"显示简单的问候语\"\"\"\n",
    "    print(f\"Hello, {username.title()}!\")\n",
    "\n",
    "greet_user('jesse')\n",
    "greet_user('billie eilish')"
   ]
  },
  {
   "cell_type": "markdown",
   "id": "e97c6002-307c-4e51-9aba-8bb80a509ccb",
   "metadata": {},
   "source": [
    "### 8.1.2 实参和形参"
   ]
  },
  {
   "cell_type": "code",
   "execution_count": null,
   "id": "34be11f2-7ae3-4d60-a7e0-7525024686f2",
   "metadata": {},
   "outputs": [],
   "source": [
    "\"\"\"在 greet_user() 函数的定义中，变量 username 是一个形参（parameter），即函数完成工作所需的信息。在代码 greet_user('jesse') 中，值 'jesse' 是一个实参\n",
    "（argument），即在调用函数时传递给函数的信息。在调用函数时，我们将要让函数使用的信息放在括号内。在 greet_user('jesse') 这个示例中，我们将实参'jesse' 传递\n",
    "给函数 greet_user()，这个值被赋给了形参 username。\"\"\""
   ]
  },
  {
   "cell_type": "markdown",
   "id": "596b2f90-7a74-4b0a-a2ea-a9156e064f39",
   "metadata": {},
   "source": [
    "## 8.2 传递实参"
   ]
  },
  {
   "cell_type": "markdown",
   "id": "793ba567-61be-4d19-a484-71aa3618cc95",
   "metadata": {},
   "source": [
    "### 8.2.1 位置实参"
   ]
  },
  {
   "cell_type": "code",
   "execution_count": 4,
   "id": "95aba25d-00ba-419a-ab59-8f7b6621cbda",
   "metadata": {},
   "outputs": [
    {
     "name": "stdout",
     "output_type": "stream",
     "text": [
      "\n",
      "I have a hamster.\n",
      "My hamster's name is Harry.\n"
     ]
    }
   ],
   "source": [
    "def describe_pet(animal_type, pet_name):\n",
    "    \"\"\"显示宠物的信息\"\"\"\n",
    "    print(f\"\\nI have a {animal_type}.\")\n",
    "    print(f\"My {animal_type}'s name is {pet_name.title()}.\")\n",
    "\n",
    "describe_pet('hamster', 'harry')"
   ]
  },
  {
   "cell_type": "code",
   "execution_count": 7,
   "id": "fb668c5c-3ca4-42a7-bd02-b65e5c2285ca",
   "metadata": {},
   "outputs": [
    {
     "name": "stdout",
     "output_type": "stream",
     "text": [
      "\n",
      "I have a hamster.\n",
      "My hamster's name is Harry.\n",
      "\n",
      "I have a dog.\n",
      "My dog's name is Willie.\n"
     ]
    }
   ],
   "source": [
    "#01 调用函数多次\n",
    "def describe_pet(animal_type, pet_name):\n",
    "    \"\"\"显示宠物的信息\"\"\"\n",
    "    print(f\"\\nI have a {animal_type}.\")\n",
    "    print(f\"My {animal_type}'s name is {pet_name.title()}.\")\n",
    "\n",
    "describe_pet('hamster', 'harry')\n",
    "describe_pet('dog', 'willie')"
   ]
  },
  {
   "cell_type": "code",
   "execution_count": 8,
   "id": "c7d95afa-3d55-4f7e-a747-7db590115e55",
   "metadata": {},
   "outputs": [
    {
     "name": "stdout",
     "output_type": "stream",
     "text": [
      "\n",
      "I have a harry.\n",
      "My harry's name is Hamster.\n"
     ]
    }
   ],
   "source": [
    "#02 位置实参的顺序很重要\n",
    "def describe_pet(animal_type, pet_name):\n",
    "    \"\"\"显示宠物的信息\"\"\"\n",
    "    print(f\"\\nI have a {animal_type}.\")\n",
    "    print(f\"My {animal_type}'s name is {pet_name.title()}.\")\n",
    "\n",
    "describe_pet('harry', 'hamster')"
   ]
  },
  {
   "cell_type": "markdown",
   "id": "bf094737-c11a-41e0-b950-d60062d54637",
   "metadata": {},
   "source": [
    "### 8.2.2 关键字实参"
   ]
  },
  {
   "cell_type": "code",
   "execution_count": 10,
   "id": "ae7758fe-ff82-495d-b145-0de11b7798d0",
   "metadata": {},
   "outputs": [
    {
     "name": "stdout",
     "output_type": "stream",
     "text": [
      "\n",
      "I have a hamster.\n",
      "My hamster's name is Harry.\n",
      "\n",
      "I have a hamster.\n",
      "My hamster's name is Harry.\n"
     ]
    }
   ],
   "source": [
    "def describe_pet(animal_type, pet_name):\n",
    "    \"\"\"显示宠物的信息\"\"\"\n",
    "    print(f\"\\nI have a {animal_type}.\")\n",
    "    print(f\"My {animal_type}'s name is {pet_name.title()}.\")\n",
    "\n",
    "describe_pet(animal_type='hamster', pet_name='harry')\n",
    "describe_pet(pet_name='harry', animal_type='hamster')"
   ]
  },
  {
   "cell_type": "markdown",
   "id": "702b0c52-530a-4a7e-826d-53923463eb48",
   "metadata": {},
   "source": [
    "### 8.2.3 默认值"
   ]
  },
  {
   "cell_type": "code",
   "execution_count": 12,
   "id": "3345c660-4bca-4e89-b4af-9da5e4b06098",
   "metadata": {},
   "outputs": [
    {
     "name": "stdout",
     "output_type": "stream",
     "text": [
      "\n",
      "I have a dog.\n",
      "My dog's name is Willie.\n",
      "\n",
      "I have a dog.\n",
      "My dog's name is Willie.\n",
      "\n",
      "I have a hamster.\n",
      "My hamster's name is Harry.\n"
     ]
    }
   ],
   "source": [
    "def describe_pet(pet_name, animal_type='dog'):\n",
    "    \"\"\"显示宠物的信息\"\"\"\n",
    "    print(f\"\\nI have a {animal_type}.\")\n",
    "    print(f\"My {animal_type}'s name is {pet_name.title()}.\")\n",
    "\n",
    "describe_pet(pet_name='willie')\n",
    "describe_pet('willie')\n",
    "describe_pet(pet_name='harry', animal_type='hamster')"
   ]
  },
  {
   "cell_type": "markdown",
   "id": "8742c786-7b75-42f4-a86c-9c272ccb4cb4",
   "metadata": {},
   "source": [
    "### 8.2.4 等效的函数调用"
   ]
  },
  {
   "cell_type": "code",
   "execution_count": 14,
   "id": "c63f5d32-838d-4a25-849f-7dba48a4777a",
   "metadata": {},
   "outputs": [
    {
     "name": "stdout",
     "output_type": "stream",
     "text": [
      "\n",
      "I have a dog.\n",
      "My dog's name is Willie.\n",
      "\n",
      "I have a dog.\n",
      "My dog's name is Willie.\n",
      "\n",
      "I have a hamster.\n",
      "My hamster's name is Harry.\n",
      "\n",
      "I have a hamster.\n",
      "My hamster's name is Harry.\n",
      "\n",
      "I have a hamster.\n",
      "My hamster's name is Harry.\n"
     ]
    }
   ],
   "source": [
    "def describe_pet(pet_name, animal_type='dog'):\n",
    "    \"\"\"显示宠物的信息\"\"\"\n",
    "    print(f\"\\nI have a {animal_type}.\")\n",
    "    print(f\"My {animal_type}'s name is {pet_name.title()}.\")\n",
    "\n",
    "# 一条名为 Willie 的小狗\n",
    "describe_pet('willie')\n",
    "describe_pet(pet_name='willie')\n",
    "\n",
    "# 一只名为 Harry 的仓鼠\n",
    "describe_pet('harry', 'hamster')\n",
    "describe_pet(pet_name='harry', animal_type='hamster')\n",
    "describe_pet(animal_type='hamster', pet_name='harry')"
   ]
  },
  {
   "cell_type": "markdown",
   "id": "320fc2d0-39ac-4e68-8157-43ec5d52cbb5",
   "metadata": {},
   "source": [
    "### 8.2.5 避免实参错误"
   ]
  },
  {
   "cell_type": "code",
   "execution_count": 15,
   "id": "662c768f-39b1-4470-b7fc-a3aff9b7ce64",
   "metadata": {},
   "outputs": [
    {
     "ename": "TypeError",
     "evalue": "describe_pet() missing 2 required positional arguments: 'animal_type' and 'pet_name'",
     "output_type": "error",
     "traceback": [
      "\u001b[1;31m---------------------------------------------------------------------------\u001b[0m",
      "\u001b[1;31mTypeError\u001b[0m                                 Traceback (most recent call last)",
      "Cell \u001b[1;32mIn[15], line 6\u001b[0m\n\u001b[0;32m      3\u001b[0m     \u001b[38;5;28mprint\u001b[39m(\u001b[38;5;124mf\u001b[39m\u001b[38;5;124m\"\u001b[39m\u001b[38;5;130;01m\\n\u001b[39;00m\u001b[38;5;124mI have a \u001b[39m\u001b[38;5;132;01m{\u001b[39;00manimal_type\u001b[38;5;132;01m}\u001b[39;00m\u001b[38;5;124m.\u001b[39m\u001b[38;5;124m\"\u001b[39m)\n\u001b[0;32m      4\u001b[0m     \u001b[38;5;28mprint\u001b[39m(\u001b[38;5;124mf\u001b[39m\u001b[38;5;124m\"\u001b[39m\u001b[38;5;124mMy \u001b[39m\u001b[38;5;132;01m{\u001b[39;00manimal_type\u001b[38;5;132;01m}\u001b[39;00m\u001b[38;5;124m'\u001b[39m\u001b[38;5;124ms name is \u001b[39m\u001b[38;5;132;01m{\u001b[39;00mpet_name\u001b[38;5;241m.\u001b[39mtitle()\u001b[38;5;132;01m}\u001b[39;00m\u001b[38;5;124m.\u001b[39m\u001b[38;5;124m\"\u001b[39m)\n\u001b[1;32m----> 6\u001b[0m describe_pet()\n",
      "\u001b[1;31mTypeError\u001b[0m: describe_pet() missing 2 required positional arguments: 'animal_type' and 'pet_name'"
     ]
    }
   ],
   "source": [
    "def describe_pet(animal_type, pet_name):\n",
    "    \"\"\"显示宠物的信息\"\"\"\n",
    "    print(f\"\\nI have a {animal_type}.\")\n",
    "    print(f\"My {animal_type}'s name is {pet_name.title()}.\")\n",
    "\n",
    "describe_pet()"
   ]
  },
  {
   "cell_type": "markdown",
   "id": "adacc267-5e7f-4cfd-93a5-23772387fee2",
   "metadata": {},
   "source": [
    "## 8.3 返回值"
   ]
  },
  {
   "cell_type": "markdown",
   "id": "4060f53e-8bda-4e4a-82b1-bfb7d6f02e02",
   "metadata": {},
   "source": [
    "### 8.3.1 返回简单的值"
   ]
  },
  {
   "cell_type": "code",
   "execution_count": 16,
   "id": "16c0bc10-a496-4392-ac7c-99eb15eeb756",
   "metadata": {},
   "outputs": [
    {
     "name": "stdout",
     "output_type": "stream",
     "text": [
      "Jimi Hendrix\n"
     ]
    }
   ],
   "source": [
    "def get_formatted_name(first_name, last_name):\n",
    "    \"\"\"返回标准格式的姓名\"\"\"\n",
    "    full_name = f\"{first_name} {last_name}\"\n",
    "    return full_name.title()\n",
    "\n",
    "musician = get_formatted_name('jimi', 'hendrix')\n",
    "print(musician)"
   ]
  },
  {
   "cell_type": "markdown",
   "id": "cf2f249a-2d3a-449a-9683-218ce6dd42be",
   "metadata": {},
   "source": [
    "### 8.3.2 让实参变成可选的"
   ]
  },
  {
   "cell_type": "code",
   "execution_count": 17,
   "id": "12a5d871-8347-4828-8a63-91c86d7096b3",
   "metadata": {},
   "outputs": [
    {
     "name": "stdout",
     "output_type": "stream",
     "text": [
      "John Lee Hooker\n"
     ]
    }
   ],
   "source": [
    "def get_formatted_name(first_name, middle_name, last_name):\n",
    "    \"\"\"返回标准格式的姓名\"\"\"\n",
    "    full_name = f\"{first_name} {middle_name} {last_name}\"\n",
    "    return full_name.title()\n",
    "\n",
    "musician = get_formatted_name('john', 'lee', 'hooker')\n",
    "print(musician)"
   ]
  },
  {
   "cell_type": "code",
   "execution_count": 18,
   "id": "d9801449-5ab1-4f4e-b0e3-1f3836d74869",
   "metadata": {},
   "outputs": [
    {
     "name": "stdout",
     "output_type": "stream",
     "text": [
      "Jimi Hendrix\n",
      "John Lee Hooker\n"
     ]
    }
   ],
   "source": [
    "def get_formatted_name(first_name, last_name, middle_name=''):\n",
    "    \"\"\"返回标准格式的姓名\"\"\"\n",
    "    if middle_name:#Python将非空字符串解读为 True，如果在函数调用中提供了中间名，条件测试 if middle_name 将为 True\n",
    "        full_name = f\"{first_name} {middle_name} {last_name}\"\n",
    "    else:\n",
    "        full_name = f\"{first_name} {last_name}\"\n",
    "    return full_name.title()\n",
    "\n",
    "musician = get_formatted_name('jimi', 'hendrix')\n",
    "print(musician)\n",
    "\n",
    "musician = get_formatted_name('john', 'hooker', 'lee')\n",
    "print(musician)"
   ]
  },
  {
   "cell_type": "markdown",
   "id": "8f443fcf-db60-4164-9620-af17e6c865f0",
   "metadata": {},
   "source": [
    "### 8.3.3 返回字典"
   ]
  },
  {
   "cell_type": "code",
   "execution_count": 19,
   "id": "375bd4c4-b0fe-40d4-8200-9ea2e2926f40",
   "metadata": {},
   "outputs": [
    {
     "name": "stdout",
     "output_type": "stream",
     "text": [
      "{'first': 'jimi', 'last': 'hendrix'}\n"
     ]
    }
   ],
   "source": [
    "def build_person(first_name, last_name):\n",
    "    \"\"\"返回一个字典，其中包含有关一个人的信息\"\"\"\n",
    "    person = {'first': first_name, 'last': last_name}\n",
    "    return person\n",
    "\n",
    "musician = build_person('jimi', 'hendrix')\n",
    "print(musician)"
   ]
  },
  {
   "cell_type": "code",
   "execution_count": 20,
   "id": "dfac8430-fcf2-455a-97fc-323394318195",
   "metadata": {},
   "outputs": [
    {
     "name": "stdout",
     "output_type": "stream",
     "text": [
      "{'first': 'jimi', 'last': 'hendrix', 'age': 27}\n"
     ]
    }
   ],
   "source": [
    "def build_person(first_name, last_name, age=None):#新增了一个可选形参 age，其默认值被设置为特殊值 None（表示变量没有值）\n",
    "    \"\"\"返回一个字典，其中包含有关一个人的信息\"\"\"\n",
    "    person = {'first': first_name, 'last': last_name}\n",
    "    if age:\n",
    "        person['age'] = age\n",
    "    return person\n",
    "\n",
    "musician = build_person('jimi', 'hendrix', age=27)\n",
    "print(musician)"
   ]
  },
  {
   "cell_type": "markdown",
   "id": "c49daa46-0193-4214-9762-155981b10cbd",
   "metadata": {},
   "source": [
    "### 8.3.4 结合使用函数和while循环"
   ]
  },
  {
   "cell_type": "code",
   "execution_count": null,
   "id": "7ee79c6d-2642-42e1-8452-08176f62d42a",
   "metadata": {},
   "outputs": [],
   "source": [
    "def get_formatted_name(first_name, last_name):\n",
    "    \"\"\"返回规范格式的姓名\"\"\"\n",
    "    full_name = f\"{first_name} {last_name}\"\n",
    "    return full_name.title()\n",
    "\n",
    "# 这是一个无限循环！\n",
    "while True:\n",
    "    print(\"\\nPlease tell me your name:\")\n",
    "    f_name = input(\"First name: \")\n",
    "    l_name = input(\"Last name: \")\n",
    "    \n",
    "    formatted_name = get_formatted_name(f_name, l_name)\n",
    "    print(f\"\\nHello, {formatted_name}!\")"
   ]
  },
  {
   "cell_type": "code",
   "execution_count": 2,
   "id": "776d7eef-fc09-420c-9c65-473c0a97ec19",
   "metadata": {},
   "outputs": [
    {
     "name": "stdout",
     "output_type": "stream",
     "text": [
      "\n",
      "Please tell me your name:\n",
      "(enter 'q' at any time to quit)\n"
     ]
    },
    {
     "name": "stdin",
     "output_type": "stream",
     "text": [
      "First name:  Billie\n",
      "Last name:  Eilish\n"
     ]
    },
    {
     "name": "stdout",
     "output_type": "stream",
     "text": [
      "\n",
      "Hello, Billie Eilish!\n",
      "\n",
      "Please tell me your name:\n",
      "(enter 'q' at any time to quit)\n"
     ]
    },
    {
     "name": "stdin",
     "output_type": "stream",
     "text": [
      "First name:  q\n"
     ]
    }
   ],
   "source": [
    "def get_formatted_name(first_name, last_name):\n",
    "    \"\"\"返回规范格式的姓名\"\"\"\n",
    "    full_name = f\"{first_name} {last_name}\"\n",
    "    return full_name.title()\n",
    "\n",
    "while True:\n",
    "    print(\"\\nPlease tell me your name:\")\n",
    "    print(\"(enter 'q' at any time to quit)\")\n",
    "    \n",
    "    f_name = input(\"First name: \")\n",
    "    if f_name == 'q':\n",
    "        break\n",
    "\n",
    "    l_name = input(\"Last name: \")\n",
    "    if l_name == 'q':\n",
    "        break\n",
    "    \n",
    "    formatted_name = get_formatted_name(f_name, l_name)\n",
    "    print(f\"\\nHello, {formatted_name}!\")"
   ]
  },
  {
   "cell_type": "markdown",
   "id": "2eafb656-96c4-47f5-808b-ceb840222c18",
   "metadata": {},
   "source": [
    "## 8.4 传递列表"
   ]
  },
  {
   "cell_type": "code",
   "execution_count": 1,
   "id": "6a7c6bc4-2458-4315-ad94-6aa69c1663b3",
   "metadata": {},
   "outputs": [
    {
     "name": "stdout",
     "output_type": "stream",
     "text": [
      "Hello, Hannah!\n",
      "Hello, Ty!\n",
      "Hello, Margot!\n"
     ]
    }
   ],
   "source": [
    "def greet_users(names):\n",
    "    \"\"\"向列表中的每个用户发出简单的问候\"\"\"\n",
    "    for name in names:\n",
    "        msg = f\"Hello, {name.title()}!\"\n",
    "        print(msg)\n",
    "\n",
    "usernames = ['hannah', 'ty', 'margot']\n",
    "greet_users(usernames)"
   ]
  },
  {
   "cell_type": "markdown",
   "id": "c5bf53ca-723b-491e-9d58-ecf3ab4cfc10",
   "metadata": {},
   "source": [
    "### 8.4.1 在函数中修改列表"
   ]
  },
  {
   "cell_type": "code",
   "execution_count": 1,
   "id": "3fbfe9c3-4736-4768-a426-1990adc0fd87",
   "metadata": {},
   "outputs": [
    {
     "name": "stdout",
     "output_type": "stream",
     "text": [
      "Printing model: dodecahedron\n",
      "Printing model: robot pendant\n",
      "Printing model: phone case\n",
      "\n",
      "The following models have been printed:\n",
      "dodecahedron\n",
      "robot pendant\n",
      "phone case\n"
     ]
    }
   ],
   "source": [
    "# 首先创建一个列表，其中包含一些要打印的设计\n",
    "unprinted_designs = ['phone case', 'robot pendant', 'dodecahedron']\n",
    "completed_models = []\n",
    "\n",
    "# 模拟打印每个设计，直到没有未打印的设计为止\n",
    "# 打印每个设计后，都将其移到列表 completed_models 中\n",
    "while unprinted_designs:\n",
    "    current_design = unprinted_designs.pop()\n",
    "    print(f\"Printing model: {current_design}\")\n",
    "    completed_models.append(current_design)\n",
    "\n",
    "# 显示打印好的所有模型\n",
    "print(\"\\nThe following models have been printed:\")\n",
    "for completed_model in completed_models:\n",
    "    print(completed_model)"
   ]
  },
  {
   "cell_type": "code",
   "execution_count": 1,
   "id": "442f1b70-9850-48c9-9bec-7d3fe960774f",
   "metadata": {},
   "outputs": [
    {
     "name": "stdout",
     "output_type": "stream",
     "text": [
      "Printing model: dodecahedron\n",
      "Printing model: robot pendant\n",
      "Printing model: phone case\n",
      "\n",
      "The following models have been printed:\n",
      "dodecahedron\n",
      "robot pendant\n",
      "phone case\n"
     ]
    }
   ],
   "source": [
    "def print_models(unprinted_designs, completed_models):\n",
    "    \"\"\"\n",
    "    模拟打印每个设计，直到没有未打印的设计为止\n",
    "    打印每个设计后，都将其移到列表 completed_models 中\n",
    "    \"\"\"\n",
    "\n",
    "    while unprinted_designs:\n",
    "        current_design = unprinted_designs.pop()\n",
    "        print(f\"Printing model: {current_design}\")\n",
    "        completed_models.append(current_design)\n",
    "\n",
    "def show_completed_models(completed_models):\n",
    "    \"\"\"显示打印好的所有模型\"\"\"\n",
    "    print(\"\\nThe following models have been printed:\")\n",
    "    for completed_model in completed_models:\n",
    "        print(completed_model)\n",
    "\n",
    "unprinted_designs = ['phone case', 'robot pendant', 'dodecahedron']\n",
    "completed_models = []\n",
    "\n",
    "print_models(unprinted_designs, completed_models)\n",
    "show_completed_models(completed_models)"
   ]
  },
  {
   "cell_type": "markdown",
   "id": "dafb48a9-665e-4099-87a0-24ae52d4456b",
   "metadata": {},
   "source": [
    "### 8.4.2 禁止函数修改列表"
   ]
  },
  {
   "cell_type": "code",
   "execution_count": 8,
   "id": "4c212650-6476-45ec-9a01-171ed8b277c2",
   "metadata": {},
   "outputs": [
    {
     "name": "stdout",
     "output_type": "stream",
     "text": [
      "Printing model: dodecahedron\n",
      "Printing model: robot pendant\n",
      "Printing model: phone case\n",
      "\n",
      "The following models have been printed:\n",
      "dodecahedron\n",
      "robot pendant\n",
      "phone case\n"
     ]
    }
   ],
   "source": [
    "def print_models(unprinted_designs, completed_models):\n",
    "    \"\"\"\n",
    "    模拟打印每个设计，直到没有未打印的设计为止\n",
    "    打印每个设计后，都将其移到列表 completed_models 中\n",
    "    \"\"\"\n",
    "\n",
    "    while unprinted_designs:\n",
    "        current_design = unprinted_designs.pop()\n",
    "        print(f\"Printing model: {current_design}\")\n",
    "        completed_models.append(current_design)\n",
    "\n",
    "def show_completed_models(completed_models):\n",
    "    \"\"\"显示打印好的所有模型\"\"\"\n",
    "    print(\"\\nThe following models have been printed:\")\n",
    "    for completed_model in completed_models:\n",
    "        print(completed_model)\n",
    "\n",
    "unprinted_designs = ['phone case', 'robot pendant', 'dodecahedron']\n",
    "completed_models = []\n",
    "\n",
    "print_models(unprinted_designs[:], completed_models)#用切片（全部）将列表副本传递给函数，原列表不会被修改 深拷贝 浅拷贝\n",
    "show_completed_models(completed_models)"
   ]
  },
  {
   "cell_type": "markdown",
   "id": "fd10986e-6d74-4963-a9cd-a143be8d9e1c",
   "metadata": {},
   "source": [
    "## 8.5 传递任意数量的实参"
   ]
  },
  {
   "cell_type": "code",
   "execution_count": 9,
   "id": "0d69fcd8-8642-413a-9bb2-69f9d84f29ac",
   "metadata": {},
   "outputs": [
    {
     "name": "stdout",
     "output_type": "stream",
     "text": [
      "('pepperoni',)\n",
      "('mushrooms', 'green peppers', 'extra cheese')\n"
     ]
    }
   ],
   "source": [
    "def make_pizza(*toppings):#形参名 *toppings 中的星号让 Python 创建一个名为 toppings 的元组，该元组包含函数收到的所有值。\n",
    "    \"\"\"打印顾客点的所有配料\"\"\"\n",
    "    print(toppings)\n",
    "\n",
    "make_pizza('pepperoni')\n",
    "make_pizza('mushrooms', 'green peppers', 'extra cheese')"
   ]
  },
  {
   "cell_type": "code",
   "execution_count": 11,
   "id": "72268fb6-c134-4304-af92-c7e57cff869c",
   "metadata": {},
   "outputs": [
    {
     "name": "stdout",
     "output_type": "stream",
     "text": [
      "\n",
      "Making a pizza with the following toppings:\n",
      "- pepperoni\n",
      "\n",
      "Making a pizza with the following toppings:\n",
      "- mushrooms\n",
      "- green peppers\n",
      "- extra cheese\n"
     ]
    }
   ],
   "source": [
    "def make_pizza(*toppings):\n",
    "    \"\"\"概述要制作的比萨\"\"\"\n",
    "    print(\"\\nMaking a pizza with the following toppings:\")\n",
    "    for topping in toppings:\n",
    "        print(f\"- {topping}\")\n",
    "\n",
    "make_pizza('pepperoni')\n",
    "make_pizza('mushrooms', 'green peppers', 'extra cheese')"
   ]
  },
  {
   "cell_type": "markdown",
   "id": "1e7f02e6-e054-4c99-b153-2757437fb3e8",
   "metadata": {},
   "source": [
    "### 8.5.1 结合使用位置实参和任意数量的实参"
   ]
  },
  {
   "cell_type": "code",
   "execution_count": 12,
   "id": "c2877b9b-801c-4c96-8dd7-9b81a4c8488d",
   "metadata": {},
   "outputs": [
    {
     "name": "stdout",
     "output_type": "stream",
     "text": [
      "\n",
      "Making a 16-inch pizza with the following toppings:\n",
      "- pepperoni\n",
      "\n",
      "Making a 12-inch pizza with the following toppings:\n",
      "- mushrooms\n",
      "- green peppers\n",
      "- extra cheese\n"
     ]
    }
   ],
   "source": [
    "def make_pizza(size, *toppings):\n",
    "    \"\"\"概述要制作的比萨\"\"\"\n",
    "    print(f\"\\nMaking a {size}-inch pizza with the following toppings:\")\n",
    "    for topping in toppings:\n",
    "        print(f\"- {topping}\")\n",
    "\n",
    "make_pizza(16, 'pepperoni')\n",
    "make_pizza(12, 'mushrooms', 'green peppers', 'extra cheese')"
   ]
  },
  {
   "cell_type": "markdown",
   "id": "cfc3ac1b-a837-4548-99b2-fcc1c81a3874",
   "metadata": {},
   "source": [
    "### 8.5.2 使用任意数量的关键字实参"
   ]
  },
  {
   "cell_type": "code",
   "execution_count": 14,
   "id": "b4826de8-ac39-4a03-8570-10143b242613",
   "metadata": {},
   "outputs": [
    {
     "name": "stdout",
     "output_type": "stream",
     "text": [
      "{'location': 'princeton', 'field': 'physics', 'first_name': 'albert', 'last_name': 'einstein'}\n"
     ]
    }
   ],
   "source": [
    "def build_profile(first, last, **user_info):#**自定义信息\n",
    "    \"\"\"创建一个字典，其中包含我们知道的有关用户的一切\"\"\"\n",
    "    user_info['first_name'] = first\n",
    "    user_info['last_name'] = last\n",
    "    return user_info\n",
    "\n",
    "user_profile = build_profile('albert', 'einstein',\n",
    "                            location='princeton',\n",
    "                            field='physics')\n",
    "\n",
    "print(user_profile)"
   ]
  },
  {
   "cell_type": "markdown",
   "id": "652ce763-f1a2-411f-b79b-9f949d1c96f7",
   "metadata": {},
   "source": [
    "## 8.6 将函数存储在模块中"
   ]
  },
  {
   "cell_type": "markdown",
   "id": "605060cd-d2ec-48c8-a7cb-b3fded00d278",
   "metadata": {},
   "source": [
    "### 8.6.1 导入整个模块"
   ]
  },
  {
   "cell_type": "code",
   "execution_count": null,
   "id": "4fea3ebb-0737-4c7e-b51a-ad73cf635177",
   "metadata": {},
   "outputs": [],
   "source": [
    "\"\"\"这就是一种导入方法：只需编写一条 import 语句并在其中指定模块名，就可在程序中使用该模块中的所有函数。\n",
    "如果使用这种 import 语句导入了名为 module_name.py的整个模块，就可使用下面的语法来使用其中的任意一个函数：\n",
    "module_name.function_name()\"\"\""
   ]
  },
  {
   "cell_type": "markdown",
   "id": "fb839164-7be9-4458-8bb4-a3d82a1c4a4b",
   "metadata": {},
   "source": [
    "### 8.6.2 导入特定的函数"
   ]
  },
  {
   "cell_type": "code",
   "execution_count": 1,
   "id": "04ed42ea-e615-42c2-bb50-62dfee2044a2",
   "metadata": {},
   "outputs": [
    {
     "name": "stdout",
     "output_type": "stream",
     "text": [
      "\n",
      "Making a 16-inch pizza with the following toppings:\n",
      "- pepperoni\n",
      "\n",
      "Making a 12-inch pizza with the following toppings:\n",
      "- mushrooms\n",
      "- green peppers\n",
      "- extra cheese\n"
     ]
    }
   ],
   "source": [
    "from pizza import make_pizza\n",
    "\n",
    "make_pizza(16, 'pepperoni')\n",
    "make_pizza(12, 'mushrooms', 'green peppers', 'extra cheese')"
   ]
  },
  {
   "cell_type": "markdown",
   "id": "c0d74bd1-c697-4305-b6f4-8bf7af9a8400",
   "metadata": {},
   "source": [
    "### 8.6.3 使用 as 给函数指定别名"
   ]
  },
  {
   "cell_type": "code",
   "execution_count": 2,
   "id": "26b640e5-09ac-465a-924e-548dc680eeff",
   "metadata": {},
   "outputs": [
    {
     "name": "stdout",
     "output_type": "stream",
     "text": [
      "\n",
      "Making a 16-inch pizza with the following toppings:\n",
      "- pepperoni\n",
      "\n",
      "Making a 12-inch pizza with the following toppings:\n",
      "- mushrooms\n",
      "- green peppers\n",
      "- extra cheese\n"
     ]
    }
   ],
   "source": [
    "#通用from module_name import function_name as fn\n",
    "from pizza import make_pizza as mp\n",
    "\n",
    "mp(16, 'pepperoni')\n",
    "mp(12, 'mushrooms', 'green peppers', 'extra cheese')"
   ]
  },
  {
   "cell_type": "markdown",
   "id": "d66d3e39-ea80-4ce0-9ae8-007f52d56557",
   "metadata": {},
   "source": [
    "### 8.6.4 使用 as 给模块指定别名"
   ]
  },
  {
   "cell_type": "code",
   "execution_count": 3,
   "id": "6dbdf855-b4bd-4c25-a6de-60490f15d3cc",
   "metadata": {},
   "outputs": [
    {
     "name": "stdout",
     "output_type": "stream",
     "text": [
      "\n",
      "Making a 16-inch pizza with the following toppings:\n",
      "- pepperoni\n",
      "\n",
      "Making a 12-inch pizza with the following toppings:\n",
      "- mushrooms\n",
      "- green peppers\n",
      "- extra cheese\n"
     ]
    }
   ],
   "source": [
    "#通用import module_name as mn\n",
    "import pizza as p\n",
    "\n",
    "p.make_pizza(16, 'pepperoni')\n",
    "p.make_pizza(12, 'mushrooms', 'green peppers', 'extra cheese')"
   ]
  },
  {
   "cell_type": "markdown",
   "id": "4576a4b9-6748-4a1f-84b6-93140a1607ad",
   "metadata": {},
   "source": [
    "### 8.6.5 导入模块中的所有函数"
   ]
  },
  {
   "cell_type": "code",
   "execution_count": 4,
   "id": "97789a31-2109-455f-8dcd-33b7a184948d",
   "metadata": {},
   "outputs": [
    {
     "name": "stdout",
     "output_type": "stream",
     "text": [
      "\n",
      "Making a 16-inch pizza with the following toppings:\n",
      "- pepperoni\n",
      "\n",
      "Making a 12-inch pizza with the following toppings:\n",
      "- mushrooms\n",
      "- green peppers\n",
      "- extra cheese\n"
     ]
    }
   ],
   "source": [
    "#通用from module_name import *\n",
    "from pizza import *\n",
    "\n",
    "make_pizza(16, 'pepperoni')\n",
    "make_pizza(12, 'mushrooms', 'green peppers', 'extra cheese')"
   ]
  },
  {
   "cell_type": "markdown",
   "id": "ac41bcb8-9af2-4eef-b655-59a1ba90efc6",
   "metadata": {},
   "source": [
    "## 8.7 函数编写指南"
   ]
  },
  {
   "cell_type": "code",
   "execution_count": null,
   "id": "401df144-63bf-4276-8b49-a7485bbf1070",
   "metadata": {},
   "outputs": [],
   "source": [
    "#应给函数指定描述性名称，且只使用小写字母和下划线\n",
    "#在给形参指定默认值时，等号两边不要有空格"
   ]
  },
  {
   "cell_type": "markdown",
   "id": "7cb9246e-db7f-4268-a750-bccf9b7de17c",
   "metadata": {},
   "source": [
    "## 练习"
   ]
  },
  {
   "cell_type": "code",
   "execution_count": 5,
   "id": "d54d37e8-ed5e-4ce9-bae9-fe84c976d9f4",
   "metadata": {},
   "outputs": [
    {
     "name": "stdout",
     "output_type": "stream",
     "text": [
      "Chapter 8 is about function\n"
     ]
    }
   ],
   "source": [
    "#8.1消息\n",
    "def display_message():\n",
    "    \"\"\"本章主题\"\"\"\n",
    "    print(\"Chapter 8 is about function\" )\n",
    "\n",
    "#调用函数\n",
    "display_message()"
   ]
  },
  {
   "cell_type": "code",
   "execution_count": 6,
   "id": "2aa834d0-41d5-4adf-a700-99c3faf7bdff",
   "metadata": {},
   "outputs": [
    {
     "name": "stdout",
     "output_type": "stream",
     "text": [
      "One of my favorite book is Nine Stories.\n"
     ]
    }
   ],
   "source": [
    "#8.2喜欢的书\n",
    "def favorite_book(title):\n",
    "    \"\"\"喜欢的书\"\"\"\n",
    "    print(f\"One of my favorite book is {title}.\")\n",
    "\n",
    "#调用函数、传递实参\n",
    "favorite_book('Nine Stories')"
   ]
  },
  {
   "cell_type": "code",
   "execution_count": 7,
   "id": "bc18fd09-e000-4c56-893b-944f1ac015a9",
   "metadata": {},
   "outputs": [
    {
     "name": "stdout",
     "output_type": "stream",
     "text": [
      "Making a Large T-shirt with the message: Python is fun!\n",
      "Making a Medium T-shirt with the message: Python rules!\n"
     ]
    }
   ],
   "source": [
    "#8.3T恤\n",
    "def make_shirt(size, message):  \n",
    "    \"\"\"T恤字样和大小\"\"\"\n",
    "    print(f\"Making a {size} T-shirt with the message: {message}\")  \n",
    "  \n",
    "# 使用位置实参调用函数  \n",
    "make_shirt(\"Large\", \"Python is fun!\")  \n",
    "  \n",
    "# 使用关键字实参调用函数  \n",
    "make_shirt(message=\"Python rules!\", size=\"Medium\")"
   ]
  },
  {
   "cell_type": "code",
   "execution_count": 8,
   "id": "e9bd0755-5e4f-4e49-ab9e-ad81b5c2b63c",
   "metadata": {},
   "outputs": [
    {
     "name": "stdout",
     "output_type": "stream",
     "text": [
      "Making a Large T-shirt with the message: I love Python\n",
      "Making a Medium T-shirt with the message: I love Python\n",
      "Making a Large T-shirt with the message: Hello, world!\n"
     ]
    }
   ],
   "source": [
    "#8.4大号T恤\n",
    "def make_shirt(size=\"Large\", message=\"I love Python\"):  \n",
    "    \"\"\"\"T恤字样和大小\"\"\" \n",
    "    print(f\"Making a {size} T-shirt with the message: {message}\")  \n",
    "  \n",
    "# 制作一件印有默认字样的大号 T 恤  \n",
    "make_shirt()  \n",
    "  \n",
    "# 制作一件印有默认字样的中号 T 恤  \n",
    "make_shirt(size=\"Medium\")  \n",
    "  \n",
    "# 制作一件印有其他字样的 T 恤  \n",
    "make_shirt(message=\"Hello, world!\")"
   ]
  },
  {
   "cell_type": "code",
   "execution_count": 10,
   "id": "193eb783-954b-4591-a824-cfaabd2b0b6e",
   "metadata": {},
   "outputs": [
    {
     "name": "stdout",
     "output_type": "stream",
     "text": [
      "Beijing is in China.\n",
      "Shanghai is in China.\n",
      "Paris is in France.\n"
     ]
    }
   ],
   "source": [
    "#8.5城市\n",
    "def describe_city(name, country=\"China\"):  \n",
    "    \"\"\"城市及所在国家\"\"\"\n",
    "    print(f\"{name} is in {country}.\")  \n",
    "  \n",
    "# 为三座不同的城市调用这个函数  \n",
    "describe_city(\"Beijing\")  \n",
    "describe_city(\"Shanghai\")  \n",
    "describe_city(\"Paris\", \"France\")"
   ]
  },
  {
   "cell_type": "code",
   "execution_count": 11,
   "id": "77cd76d6-8147-469e-8526-0ac6f8771009",
   "metadata": {},
   "outputs": [
    {
     "name": "stdout",
     "output_type": "stream",
     "text": [
      "Santiago, Chile\n",
      "Paris, France\n",
      "Tokyo, Japan\n"
     ]
    }
   ],
   "source": [
    "#8.6城市名\n",
    "def city_country(city, country):  \n",
    "    \"\"\"城市名\"\"\"\n",
    "    return f\"{city}, {country}\"  \n",
    "  \n",
    "# 调用函数并打印返回的值  \n",
    "print(city_country(\"Santiago\", \"Chile\"))  \n",
    "print(city_country(\"Paris\", \"France\"))  \n",
    "print(city_country(\"Tokyo\", \"Japan\"))"
   ]
  },
  {
   "cell_type": "code",
   "execution_count": 12,
   "id": "9e3fe20a-2ebc-4ecf-a693-4c8bac0b1c2a",
   "metadata": {},
   "outputs": [
    {
     "name": "stdout",
     "output_type": "stream",
     "text": [
      "{'singer': 'Billie Eilish', 'title': 'Hit Me Hard and Soft', 'num_songs': 10}\n",
      "{'singer': 'Lorde', 'title': 'Solar Power'}\n",
      "{'singer': 'Charli XCX', 'title': \"how i'm feeling now\", 'num_songs': 11}\n"
     ]
    }
   ],
   "source": [
    "#8.7专辑\n",
    "def make_album(singer_name, album_title, num_songs=None):  \n",
    "    \"\"\"概述专辑\"\"\"\n",
    "    album = {  \n",
    "        \"singer\": singer_name,  \n",
    "        \"title\": album_title  \n",
    "            }  \n",
    "    if num_songs is not None:  \n",
    "        album[\"num_songs\"] = num_songs  \n",
    "    return album  \n",
    "  \n",
    "# 创建并打印三个专辑字典  \n",
    "album1 = make_album(\"Billie Eilish\", \"Hit Me Hard and Soft\",10)  \n",
    "album2 = make_album(\"Lorde\", \"Solar Power\")  \n",
    "album3 = make_album(\"Charli XCX\", \"how i'm feeling now\", 11)  \n",
    "  \n",
    "print(album1)  \n",
    "print(album2)  \n",
    "print(album3)"
   ]
  },
  {
   "cell_type": "code",
   "execution_count": 13,
   "id": "5f877f02-af87-41ea-bc5f-abf04408cb11",
   "metadata": {},
   "outputs": [
    {
     "name": "stdin",
     "output_type": "stream",
     "text": [
      "enter the singer（'q' to end）:  Billie Eilish\n",
      "enter the album:  Hit Me Hard and Soft\n"
     ]
    },
    {
     "name": "stdout",
     "output_type": "stream",
     "text": [
      "{'singer': 'Billie Eilish', 'title': 'Hit Me Hard and Soft'}\n"
     ]
    },
    {
     "name": "stdin",
     "output_type": "stream",
     "text": [
      "enter the singer（'q' to end）:  q\n"
     ]
    }
   ],
   "source": [
    "#8.8用户的专辑\n",
    "def make_album(singer_name, album_title, num_songs=None):  \n",
    "    album = {  \n",
    "        \"singer\": singer_name,  \n",
    "        \"title\": album_title  \n",
    "            }  \n",
    "    if num_songs is not None:  \n",
    "        album[\"num_songs\"] = num_songs  \n",
    "    return album  \n",
    "  \n",
    "while True:  \n",
    "    singer_name = input(\"enter the singer（'q' to end）: \")  \n",
    "    if singer_name.lower() == 'q':  \n",
    "        break  \n",
    "    album_title = input(\"enter the album: \")  \n",
    "    album = make_album(singer_name, album_title)  \n",
    "    print(album)"
   ]
  },
  {
   "cell_type": "code",
   "execution_count": 14,
   "id": "04e95031-cb7f-4d3e-90ec-9fe229fce598",
   "metadata": {},
   "outputs": [
    {
     "name": "stdout",
     "output_type": "stream",
     "text": [
      "Hello\n",
      "How are you?\n",
      "Good to see you!\n"
     ]
    }
   ],
   "source": [
    "#8.9消息\n",
    "def show_messages(message_list):  \n",
    "    for message in message_list:  \n",
    "        print(message)  \n",
    "  \n",
    "# 创建一个包含文本消息的列表  \n",
    "messages = [\"Hello\", \"How are you?\", \"Good to see you!\"]  \n",
    "  \n",
    "# 调用函数并打印消息  \n",
    "show_messages(messages)"
   ]
  },
  {
   "cell_type": "code",
   "execution_count": 15,
   "id": "3fad64d5-f75d-4832-83dd-76af168c9720",
   "metadata": {},
   "outputs": [
    {
     "name": "stdout",
     "output_type": "stream",
     "text": [
      "Sending: Hello\n",
      "Sending: How are you?\n",
      "Sending: Good to see you!\n",
      "Original messages: ['Hello', 'How are you?', 'Good to see you!']\n",
      "Sent messages: ['Hello', 'How are you?', 'Good to see you!']\n"
     ]
    }
   ],
   "source": [
    "#8.10发送消息\n",
    "def show_messages(message_list):  \n",
    "    for message in message_list:  \n",
    "        print(message)  \n",
    "  \n",
    "def send_messages(message_list):  \n",
    "    sent_messages = []  \n",
    "    for message in message_list:  \n",
    "        print(f\"Sending: {message}\")  \n",
    "        sent_messages.append(message)  \n",
    "    return sent_messages  \n",
    "  \n",
    "# 创建一个包含文本消息的列表  \n",
    "messages = [\"Hello\", \"How are you?\", \"Good to see you!\"]  \n",
    "  \n",
    "# 调用 send_messages 函数，并打印两个列表  \n",
    "sent_messages = send_messages(messages)  \n",
    "print(\"Original messages:\", messages)  \n",
    "print(\"Sent messages:\", sent_messages)"
   ]
  },
  {
   "cell_type": "code",
   "execution_count": 16,
   "id": "3b1b4ada-de3a-4fe0-8f97-10f013bcb5a9",
   "metadata": {},
   "outputs": [
    {
     "name": "stdout",
     "output_type": "stream",
     "text": [
      "Sending: Hello\n",
      "Sending: How are you?\n",
      "Sending: Good to see you!\n",
      "Original messages: ['Hello', 'How are you?', 'Good to see you!']\n",
      "Sent messages: ['Hello', 'How are you?', 'Good to see you!']\n"
     ]
    }
   ],
   "source": [
    "#8.11消息归档\n",
    "def show_messages(message_list):  \n",
    "    for message in message_list:  \n",
    "        print(message)  \n",
    "  \n",
    "def send_messages(message_list):  \n",
    "    sent_messages = []  \n",
    "    for message in message_list:  \n",
    "        print(f\"Sending: {message}\")  \n",
    "        sent_messages.append(message)  \n",
    "    return sent_messages  \n",
    "  \n",
    "# 创建一个包含文本消息的列表  \n",
    "messages = [\"Hello\", \"How are you?\", \"Good to see you!\"]  \n",
    "  \n",
    "# 调用 send_messages 函数，并传递消息的副本  \n",
    "sent_messages = send_messages(messages[:])  # 使用切片来创建列表副本  \n",
    "  \n",
    "# 打印两个列表，确认原始列表未改变  \n",
    "print(\"Original messages:\", messages)  \n",
    "print(\"Sent messages:\", sent_messages)"
   ]
  },
  {
   "cell_type": "code",
   "execution_count": 17,
   "id": "98def361-473c-4fe3-b1d7-a727a44f5883",
   "metadata": {},
   "outputs": [
    {
     "name": "stdout",
     "output_type": "stream",
     "text": [
      "Making a sandwich with the following ingredients: ham, cheese, lettuce\n",
      "Making a sandwich with the following ingredients: turkey, avocado, tomato, cucumber\n",
      "Making a sandwich with the following ingredients: roast beef, onion, pickle\n"
     ]
    }
   ],
   "source": [
    "#8.12三明治\n",
    "def make_sandwich(*ingredients):  \n",
    "    print(f\"Making a sandwich with the following ingredients: {', '.join(ingredients)}\")  \n",
    "  \n",
    "# 调用函数三次，每次提供不同数量的实参  \n",
    "make_sandwich('ham', 'cheese', 'lettuce')  \n",
    "make_sandwich('turkey', 'avocado', 'tomato', 'cucumber')  \n",
    "make_sandwich('roast beef', 'onion', 'pickle')"
   ]
  },
  {
   "cell_type": "code",
   "execution_count": 24,
   "id": "89c205c1-b54c-4e78-81fd-6eb212dcc74e",
   "metadata": {},
   "outputs": [
    {
     "name": "stdout",
     "output_type": "stream",
     "text": [
      "{'location': 'NanJing', 'field': 'News', 'age': 20, 'first_name': 'Counti', 'last_name': 'Zhang'}\n"
     ]
    }
   ],
   "source": [
    "#8.13用户简介\n",
    "def build_profile(first, last, **user_info):#**自定义信息\n",
    "    \"\"\"创建一个字典，其中包含我们知道的有关用户的一切\"\"\"\n",
    "    user_info['first_name'] = first\n",
    "    user_info['last_name'] = last\n",
    "    return user_info\n",
    "\n",
    "# 调用函数来创建有关你的简介  \n",
    "my_profile = build_profile('Counti', 'Zhang', location='NanJing', field='News', age=20)  \n",
    "print(my_profile)"
   ]
  },
  {
   "cell_type": "code",
   "execution_count": 26,
   "id": "1c567857-4b12-455c-be27-18be2ef13513",
   "metadata": {},
   "outputs": [
    {
     "name": "stdout",
     "output_type": "stream",
     "text": [
      "{'color': 'blue', 'tow_package': True, 'manufacturer_name': 'Subaru', 'model': 'Outback'}\n"
     ]
    }
   ],
   "source": [
    "#8.14汽车\n",
    "def make_car(manufacturer, model, **car_info):  \n",
    "    \"\"\"创建一个字典，其中包含我们知道的有关汽车的一切\"\"\"\n",
    "    car_info['manufacturer_name'] = manufacturer\n",
    "    car_info['model'] = model\n",
    "    return car_info\n",
    "  \n",
    "# 调用函数来创建一辆汽车的信息字典  \n",
    "car = make_car('Subaru', 'Outback', color='blue', tow_package=True)  \n",
    "print(car)"
   ]
  },
  {
   "cell_type": "code",
   "execution_count": null,
   "id": "451261a4-68e2-41b7-9c8b-f8029e123ec2",
   "metadata": {},
   "outputs": [],
   "source": []
  }
 ],
 "metadata": {
  "kernelspec": {
   "display_name": "Python 3 (ipykernel)",
   "language": "python",
   "name": "python3"
  },
  "language_info": {
   "codemirror_mode": {
    "name": "ipython",
    "version": 3
   },
   "file_extension": ".py",
   "mimetype": "text/x-python",
   "name": "python",
   "nbconvert_exporter": "python",
   "pygments_lexer": "ipython3",
   "version": "3.11.7"
  }
 },
 "nbformat": 4,
 "nbformat_minor": 5
}
