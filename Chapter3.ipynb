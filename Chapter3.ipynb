{
 "cells": [
  {
   "cell_type": "markdown",
   "id": "5c5e9e8c-ae17-42a7-a433-453027252e9a",
   "metadata": {},
   "source": [
    "# 第三章 列表"
   ]
  },
  {
   "cell_type": "markdown",
   "id": "350dd93f-3c67-40ee-ad65-e8d6f57a684a",
   "metadata": {},
   "source": [
    "## 3.1 列表是什么"
   ]
  },
  {
   "cell_type": "code",
   "execution_count": 3,
   "id": "0073cd09-ff21-48bc-9dfb-f366f4d837e9",
   "metadata": {},
   "outputs": [
    {
     "name": "stdout",
     "output_type": "stream",
     "text": [
      "['trek', 'redline', 'giant']\n"
     ]
    }
   ],
   "source": [
    "#在 Python 中，用方括号[]表示列表，用逗号分隔其中的元素\n",
    "bikes=['trek','redline','giant']\n",
    "print(bikes)"
   ]
  },
  {
   "cell_type": "code",
   "execution_count": 1,
   "id": "4f7c7e56-fbaf-4167-9279-5b93e9aad11a",
   "metadata": {},
   "outputs": [
    {
     "name": "stdout",
     "output_type": "stream",
     "text": [
      "['trek', 'cannondale', 'redline', 'specialized']\n"
     ]
    }
   ],
   "source": [
    "bicycles = ['trek', 'cannondale', 'redline', 'specialized'] \n",
    "print(bicycles)"
   ]
  },
  {
   "cell_type": "markdown",
   "id": "3c515b14-afd1-4658-b317-e49a2672fb81",
   "metadata": {},
   "source": [
    "### 3.1.1 3.1.2 访问列表元素、列表索引"
   ]
  },
  {
   "cell_type": "code",
   "execution_count": 2,
   "id": "072a777a-3ff2-4e79-86f4-e37088f20d61",
   "metadata": {},
   "outputs": [
    {
     "name": "stdout",
     "output_type": "stream",
     "text": [
      "trek\n",
      "giant giant\n"
     ]
    }
   ],
   "source": [
    "#索引从0开始，负数索引从-1开始\n",
    "bikes=['trek','redline','giant']\n",
    "print(bikes[0])\n",
    "print(bikes[2],bikes[-1])"
   ]
  },
  {
   "cell_type": "markdown",
   "id": "55781518-4def-4b92-a7c8-f14a5fa46cab",
   "metadata": {},
   "source": [
    "### 3.1.3 使用列表中的各个值"
   ]
  },
  {
   "cell_type": "code",
   "execution_count": 5,
   "id": "e8e65d37-b871-404b-bc14-1f76a31332a7",
   "metadata": {},
   "outputs": [
    {
     "name": "stdout",
     "output_type": "stream",
     "text": [
      "My first bicycle was a Trek.\n"
     ]
    }
   ],
   "source": [
    "bicycles = ['trek', 'cannondale', 'redline', 'specialized'] \n",
    "message=f\"My first bicycle was a {bicycles[0].title()}.\"\n",
    "print(message)"
   ]
  },
  {
   "cell_type": "markdown",
   "id": "0a994db3-ee69-400e-bdb4-7530a1c03ce2",
   "metadata": {},
   "source": [
    "### 3.2.1 修改列表元素"
   ]
  },
  {
   "cell_type": "code",
   "execution_count": 7,
   "id": "54bb3dc5-191f-41ee-ad39-76acd64e0789",
   "metadata": {},
   "outputs": [
    {
     "name": "stdout",
     "output_type": "stream",
     "text": [
      "['honda', 'yamaha', 'suzuki']\n",
      "['ducati', 'yamaha', 'suzuki']\n"
     ]
    }
   ],
   "source": [
    "motorcycles=['honda','yamaha','suzuki']\n",
    "print(motorcycles)\n",
    "motorcycles[0]='ducati'\n",
    "print(motorcycles)"
   ]
  },
  {
   "cell_type": "markdown",
   "id": "a6424066-0ced-4b86-89a5-887616907e00",
   "metadata": {},
   "source": [
    "### 3.2.2 添加列表元素"
   ]
  },
  {
   "cell_type": "code",
   "execution_count": 10,
   "id": "096a13f2-460a-4838-b736-45d68ef36a6f",
   "metadata": {},
   "outputs": [
    {
     "name": "stdout",
     "output_type": "stream",
     "text": [
      "['trek', 'redline']\n"
     ]
    }
   ],
   "source": [
    "#1st.append(val):在列表的末尾添加新元素\n",
    "#1st.insert(idx,val):在列表的指定位置添加新元素\n",
    "bikes=[]\n",
    "bikes.append('redline')\n",
    "bikes.insert(0,'trek')\n",
    "print(bikes)"
   ]
  },
  {
   "cell_type": "markdown",
   "id": "adaa89fe-d7ff-45b5-b29c-edc33806df56",
   "metadata": {},
   "source": [
    "### 3.2.3 从列表中删除元素"
   ]
  },
  {
   "cell_type": "code",
   "execution_count": 11,
   "id": "ea807d40-4a1f-45c6-ae5a-92ab2421e6dc",
   "metadata": {},
   "outputs": [
    {
     "name": "stdout",
     "output_type": "stream",
     "text": [
      "['trek', 'redline']\n"
     ]
    }
   ],
   "source": [
    "#del 1st[idx]:删除列表中指定索引的元素\n",
    "bikes=['giant','trek','redline']\n",
    "del bikes[0]\n",
    "print(bikes)"
   ]
  },
  {
   "cell_type": "code",
   "execution_count": 14,
   "id": "095dd189-671c-427c-a985-821f7fef6623",
   "metadata": {},
   "outputs": [
    {
     "name": "stdout",
     "output_type": "stream",
     "text": [
      "redline\n",
      "['trek']\n",
      "giant\n"
     ]
    }
   ],
   "source": [
    "#1st.pop([idx]) -> val:删除并返回列表中指定索引（默认末尾）元素，弹出（pop）的值能被接着使用\n",
    "bikes=['giant','trek','redline']\n",
    "print(bikes.pop())\n",
    "popped_bike=bikes.pop(0)\n",
    "print(bikes)\n",
    "print(popped_bike)"
   ]
  },
  {
   "cell_type": "code",
   "execution_count": 9,
   "id": "f26bae4d-e1c5-4ee8-b73f-ae1c50b9ec58",
   "metadata": {},
   "outputs": [
    {
     "name": "stdout",
     "output_type": "stream",
     "text": [
      "['honda', 'yamaha', 'suzuki']\n",
      "['honda', 'yamaha']\n",
      "suzuki\n"
     ]
    }
   ],
   "source": [
    "motorcycles = ['honda', 'yamaha', 'suzuki']\n",
    "print(motorcycles)\n",
    "\n",
    "popped_motorcycle = motorcycles.pop()\n",
    "print(motorcycles)\n",
    "print(popped_motorcycle)"
   ]
  },
  {
   "cell_type": "code",
   "execution_count": 11,
   "id": "0a07a4cc-8cef-40b5-975d-b6fcfe6ff86d",
   "metadata": {},
   "outputs": [
    {
     "name": "stdout",
     "output_type": "stream",
     "text": [
      "The last motorcycle I owned was a Suzuki.\n"
     ]
    }
   ],
   "source": [
    "motorcycles = ['honda', 'yamaha', 'suzuki']\n",
    "\n",
    "last_owned = motorcycles.pop()\n",
    "print(f\"The last motorcycle I owned was a {last_owned.title()}.\")"
   ]
  },
  {
   "cell_type": "code",
   "execution_count": 13,
   "id": "3bedc6a9-3c1f-47a6-af43-5f8fe21d7ae3",
   "metadata": {},
   "outputs": [
    {
     "name": "stdout",
     "output_type": "stream",
     "text": [
      "The first motorcycle I owned was a Honda.\n"
     ]
    }
   ],
   "source": [
    "motorcycles = ['honda', 'yamaha', 'suzuki']\n",
    "\n",
    "first_owned = motorcycles.pop(0)\n",
    "print(f\"The first motorcycle I owned was a {first_owned.title()}.\")"
   ]
  },
  {
   "cell_type": "code",
   "execution_count": 15,
   "id": "8b21f2a1-a600-43bf-9832-6db582ddc391",
   "metadata": {},
   "outputs": [
    {
     "name": "stdout",
     "output_type": "stream",
     "text": [
      "['honda', 'yamaha', 'suzuki']\n",
      "\n",
      "A Ducati is too expensive for me.\n"
     ]
    }
   ],
   "source": [
    "#1st.remove(val):删除列表中匹配到的第一个指定元素（即不清楚元素位置在哪时）\n",
    "motorcycles=['honda','yamaha','suzuki','ducati']\n",
    "too_expensive='ducati'\n",
    "motorcycles.remove(too_expensive)\n",
    "print(motorcycles)\n",
    "print(f\"\\nA {too_expensive.title()} is too expensive for me.\")"
   ]
  },
  {
   "cell_type": "markdown",
   "id": "1579a0c2-b566-4f1c-90ba-725123be591a",
   "metadata": {},
   "source": [
    "## 3.3 管理列表"
   ]
  },
  {
   "cell_type": "markdown",
   "id": "1a433005-3d75-4361-8b24-7b7a29997f7a",
   "metadata": {},
   "source": [
    "### 3.3.1 排序"
   ]
  },
  {
   "cell_type": "code",
   "execution_count": 18,
   "id": "7c434c43-7d88-4ca1-bb51-b9e057091d76",
   "metadata": {},
   "outputs": [
    {
     "name": "stdout",
     "output_type": "stream",
     "text": [
      "[1, 2, 4, 6, 9]\n",
      "[9, 6, 1, 4, 2]\n",
      "[1, 2, 4, 6, 9]\n",
      "[9, 6, 4, 2, 1]\n"
     ]
    }
   ],
   "source": [
    "#1st.sort():永久修改原列表，对其中的元素进行排序\n",
    "#sorted(1st)->1st:返回排序后的列表的副本\n",
    "nums=[9,6,1,4,2]\n",
    "print(sorted(nums))\n",
    "print(nums)#原列表不变\n",
    "#列表排序（默认正序）\n",
    "nums.sort()\n",
    "print(nums)\n",
    "#列表排序（指定倒序）\n",
    "nums.sort(reverse=True)\n",
    "print(nums)"
   ]
  },
  {
   "cell_type": "markdown",
   "id": "e6d5a472-0436-405c-9b8f-37bd9ed0c0ba",
   "metadata": {},
   "source": [
    "### 3.3.2 反转"
   ]
  },
  {
   "cell_type": "code",
   "execution_count": 19,
   "id": "e6534d16-87ba-42ed-979e-6c5e56ae0813",
   "metadata": {},
   "outputs": [
    {
     "name": "stdout",
     "output_type": "stream",
     "text": [
      "[2, 4, 1, 6, 9]\n"
     ]
    }
   ],
   "source": [
    "#1st.reverse():永久修改原列表，对其中的元素进行翻转\n",
    "nums=[9,6,1,4,2]\n",
    "nums.reverse()#翻转列表\n",
    "print(nums)"
   ]
  },
  {
   "cell_type": "markdown",
   "id": "609910dc-0953-4cf6-998d-ab5b28cbf089",
   "metadata": {},
   "source": [
    "### 3.3.3 获取长度"
   ]
  },
  {
   "cell_type": "code",
   "execution_count": 20,
   "id": "9101f955-11f9-43b6-acac-8234355a2da6",
   "metadata": {},
   "outputs": [
    {
     "name": "stdout",
     "output_type": "stream",
     "text": [
      "4\n"
     ]
    }
   ],
   "source": [
    "#len(1st)->num:获取列表元素个数\n",
    "cars=['bmw','audi','toyota','subaru']\n",
    "print(len(cars))"
   ]
  },
  {
   "cell_type": "markdown",
   "id": "1da01bfb-219e-4fe8-a47e-362a2776cea5",
   "metadata": {},
   "source": [
    "## 3.4 避免索引错误"
   ]
  },
  {
   "cell_type": "code",
   "execution_count": 21,
   "id": "6fe18330-2109-4ebf-8ce0-77512e58946c",
   "metadata": {},
   "outputs": [
    {
     "ename": "IndexError",
     "evalue": "list index out of range",
     "output_type": "error",
     "traceback": [
      "\u001b[1;31m---------------------------------------------------------------------------\u001b[0m",
      "\u001b[1;31mIndexError\u001b[0m                                Traceback (most recent call last)",
      "Cell \u001b[1;32mIn[21], line 3\u001b[0m\n\u001b[0;32m      1\u001b[0m \u001b[38;5;66;03m#差一错误\u001b[39;00m\n\u001b[0;32m      2\u001b[0m motorcycles\u001b[38;5;241m=\u001b[39m[\u001b[38;5;124m'\u001b[39m\u001b[38;5;124mhonda\u001b[39m\u001b[38;5;124m'\u001b[39m,\u001b[38;5;124m'\u001b[39m\u001b[38;5;124myamaha\u001b[39m\u001b[38;5;124m'\u001b[39m,\u001b[38;5;124m'\u001b[39m\u001b[38;5;124msuzuki\u001b[39m\u001b[38;5;124m'\u001b[39m]\n\u001b[1;32m----> 3\u001b[0m \u001b[38;5;28mprint\u001b[39m(motorcycles[\u001b[38;5;241m3\u001b[39m])\n",
      "\u001b[1;31mIndexError\u001b[0m: list index out of range"
     ]
    }
   ],
   "source": [
    "#差一错误\n",
    "motorcycles=['honda','yamaha','suzuki']\n",
    "print(motorcycles[3])"
   ]
  },
  {
   "cell_type": "markdown",
   "id": "f87e966f-19a6-4148-834e-d14bb7465baa",
   "metadata": {},
   "source": [
    "# 练习"
   ]
  },
  {
   "cell_type": "code",
   "execution_count": 3,
   "id": "8551d013-611d-4c9d-bc65-85fae7edb75b",
   "metadata": {},
   "outputs": [
    {
     "name": "stdout",
     "output_type": "stream",
     "text": [
      "Alice\n",
      "Bob\n",
      "Charlie\n",
      "David\n",
      "Alice Bob Charlie David\n"
     ]
    }
   ],
   "source": [
    "#3.1姓名 \n",
    "names = [\"Alice\", \"Bob\", \"Charlie\", \"David\"]   \n",
    "for name in names:  \n",
    "    print(name)\n",
    "\n",
    "print(names[0],names[1],names[2],names[3])"
   ]
  },
  {
   "cell_type": "code",
   "execution_count": 7,
   "id": "2ed28471-29b4-477e-82d1-a3da84dc86bd",
   "metadata": {},
   "outputs": [
    {
     "name": "stdout",
     "output_type": "stream",
     "text": [
      "['Billie Eilish', 'Troye Sivan', 'Dua Lipa', 'Doja Cat']\n"
     ]
    }
   ],
   "source": [
    "names = [\"billie Eilish\", \"troye sivan\", \"dua lipa\", \"doja cat\"]  \n",
    "names_with_title_case = [name.title() for name in names]   \n",
    "print(names_with_title_case)"
   ]
  },
  {
   "cell_type": "code",
   "execution_count": 5,
   "id": "0b8a117c-d199-419e-8d67-3a2615e38796",
   "metadata": {},
   "outputs": [
    {
     "name": "stdout",
     "output_type": "stream",
     "text": [
      "Hello, alice!\n",
      "Hello, Bob!\n",
      "Hello, Charlie!\n",
      "Hello, David!\n",
      "Hi Alice, do you litsen Billie's new album?\n"
     ]
    }
   ],
   "source": [
    "#3.2问候语\n",
    "names = [\"alice\", \"Bob\", \"Charlie\", \"David\"]  \n",
    "  \n",
    "for name in names:  \n",
    "    print(f\"Hello, {name}!\")\n",
    "\n",
    "message = f\"Hi {names[0].title()}, do you litsen Billie's new album?\"\n",
    "print(message)"
   ]
  },
  {
   "cell_type": "code",
   "execution_count": 8,
   "id": "802cd4cf-91c8-4092-aee8-bc85b03bb5cd",
   "metadata": {},
   "outputs": [
    {
     "name": "stdout",
     "output_type": "stream",
     "text": [
      "Hello, Billie Eilish\n",
      "Hello, Troye Sivan\n",
      "Hello, Dua Lipa\n",
      "Hello, Doja Cat\n"
     ]
    }
   ],
   "source": [
    "names = [\"billie Eilish\", \"troye sivan\", \"dua lipa\", \"doja cat\"]  \n",
    "names_with_title_case = [name.title() for name in names]  \n",
    "messages = [f\"Hello, {name}\" for name in names_with_title_case]  \n",
    "\n",
    "for message in messages:  \n",
    "    print(message)"
   ]
  },
  {
   "cell_type": "code",
   "execution_count": 6,
   "id": "a8d0c5c0-d47f-41ea-a316-2a41dee521f8",
   "metadata": {},
   "outputs": [
    {
     "name": "stdout",
     "output_type": "stream",
     "text": [
      "I would like to own a Honda motorcycle.\n",
      "I would like to own a Toyota car.\n",
      "I would like to own a Electric scooter.\n",
      "I would like to own a Bicycle.\n"
     ]
    }
   ],
   "source": [
    "#3.3\n",
    "commute_ways = [\"Honda motorcycle\", \"Toyota car\", \"Electric scooter\", \"Bicycle\"]  \n",
    "\n",
    "for way in commute_ways:  \n",
    "    print(f\"I would like to own a {way}.\")"
   ]
  },
  {
   "cell_type": "code",
   "execution_count": 16,
   "id": "98974d33-ce9e-4946-b505-59c9e5db265b",
   "metadata": {},
   "outputs": [
    {
     "name": "stdout",
     "output_type": "stream",
     "text": [
      "Dear Billie Eilish, you are invited to dinner with me.\n",
      "Dear Troye Sivan, you are invited to dinner with me.\n",
      "Dear Dua Lipa, you are invited to dinner with me.\n"
     ]
    }
   ],
   "source": [
    "#3.4嘉宾名单\n",
    "guests = [\"billie Eilish\", \"troye sivan\", \"dua lipa\"]\n",
    "for guest in guests:  \n",
    "    print(f\"Dear {guest.title()}, you are invited to dinner with me.\")"
   ]
  },
  {
   "cell_type": "code",
   "execution_count": 19,
   "id": "3ebbf504-e5b3-42e7-a2dc-4cb77c401dd2",
   "metadata": {},
   "outputs": [
    {
     "name": "stdout",
     "output_type": "stream",
     "text": [
      "Unfortunately, Troye Sivan cannot make it.\n",
      "Dear Billie Eilish, you are invited to dinner with me.\n",
      "Dear Dua Lipa, you are invited to dinner with me.\n",
      "Dear Lorde, you are invited to dinner with me.\n"
     ]
    }
   ],
   "source": [
    "#3.5修改嘉宾名单\n",
    "guests = [\"billie Eilish\", \"troye sivan\", \"dua lipa\"]\n",
    "print(\"Unfortunately, Troye Sivan cannot make it.\")  \n",
    "guests.remove(\"troye sivan\")  # 删除无法赴约的嘉宾  \n",
    "guests.append(\"lorde\")       # 添加新嘉宾  \n",
    "for guest in guests:  \n",
    "    print(f\"Dear {guest.title()}, you are invited to dinner with me.\")"
   ]
  },
  {
   "cell_type": "code",
   "execution_count": 20,
   "id": "1093e763-b591-47ae-8e0a-c71e1e23906c",
   "metadata": {},
   "outputs": [
    {
     "name": "stdout",
     "output_type": "stream",
     "text": [
      "I've found a bigger table!\n",
      "Dear Lana Del Rel, you are invited to dinner with me.\n",
      "Dear Billie Eilish, you are invited to dinner with me.\n",
      "Dear Lady Gaga, you are invited to dinner with me.\n",
      "Dear Dua Lipa, you are invited to dinner with me.\n",
      "Dear Lorde, you are invited to dinner with me.\n",
      "Dear Taylor Swift, you are invited to dinner with me.\n"
     ]
    }
   ],
   "source": [
    "#3.6添加嘉宾  \n",
    "guests = [\"billie Eilish\",  \"dua lipa\",\"lorde\"]\n",
    "print(\"I've found a bigger table!\")  \n",
    "guests.insert(0, \"lana del rel\")      # 在名单开头添加嘉宾  \n",
    "guests.insert(len(guests)//2, \"lady gaga\")  # 在名单中间添加嘉宾  \n",
    "guests.append(\"taylor swift\")           # 在名单末尾添加嘉宾  \n",
    "\n",
    "for guest in guests:  \n",
    "    print(f\"Dear {guest.title()}, you are invited to dinner with me.\")  "
   ]
  },
  {
   "cell_type": "code",
   "execution_count": 21,
   "id": "d9a92b8b-784f-48b6-ac21-595592609098",
   "metadata": {},
   "outputs": [
    {
     "name": "stdout",
     "output_type": "stream",
     "text": [
      "I'm sorry, but I can only invite two guests now.\n",
      "I'm sorry, Taylor Swift, but I can't invite you to dinner this time.\n",
      "I'm sorry, Lorde, but I can't invite you to dinner this time.\n",
      "I'm sorry, Dua Lipa, but I can't invite you to dinner this time.\n",
      "I'm sorry, Lady Gaga, but I can't invite you to dinner this time.\n",
      "Dear Lana Del Rel, you are still invited to dinner with me.\n",
      "Dear Billie Eilish, you are still invited to dinner with me.\n",
      "[]\n"
     ]
    }
   ],
   "source": [
    "#3.7缩短名单  \n",
    "print(\"I'm sorry, but I can only invite two guests now.\")  \n",
    "  \n",
    "while len(guests) > 2:  \n",
    "    guest_to_remove = guests.pop()  \n",
    "    print(f\"I'm sorry, {guest_to_remove.title()}, but I can't invite you to dinner this time.\")  \n",
    "  \n",
    "for guest in guests:  \n",
    "    print(f\"Dear {guest.title()}, you are still invited to dinner with me.\")  \n",
    "   \n",
    "del guests[:]  \n",
    "  \n",
    "print(guests)"
   ]
  },
  {
   "cell_type": "code",
   "execution_count": 22,
   "id": "21a1152f-2ba9-404e-a42d-42fd4e93646f",
   "metadata": {},
   "outputs": [
    {
     "name": "stdout",
     "output_type": "stream",
     "text": [
      "['paris', 'tokyo', 'sydney', 'newyork', 'la']\n",
      "['la', 'newyork', 'paris', 'sydney', 'tokyo']\n",
      "['paris', 'tokyo', 'sydney', 'newyork', 'la']\n",
      "['tokyo', 'sydney', 'paris', 'newyork', 'la']\n",
      "['paris', 'tokyo', 'sydney', 'newyork', 'la']\n",
      "['la', 'newyork', 'sydney', 'tokyo', 'paris']\n",
      "['paris', 'tokyo', 'sydney', 'newyork', 'la']\n",
      "['la', 'newyork', 'paris', 'sydney', 'tokyo']\n",
      "['tokyo', 'sydney', 'paris', 'newyork', 'la']\n"
     ]
    }
   ],
   "source": [
    "#3.8放眼世界\n",
    "\n",
    "travel_destinations = [\"paris\", \"tokyo\", \"sydney\", \"newyork\", \"la\"]  \n",
    "\n",
    "print(travel_destinations)  \n",
    "  \n",
    "# 使用 sorted() 按字母顺序打印这个列表  \n",
    "print(sorted(travel_destinations))  \n",
    "  \n",
    "# 再次打印该列表，核实排列顺序未变  \n",
    "print(travel_destinations)  \n",
    "  \n",
    "# 使用 sorted() 按与字母顺序相反的顺序打印这个列表  \n",
    "print(sorted(travel_destinations, reverse=True))  \n",
    "  \n",
    "# 再次打印该列表，核实排列顺序未变  \n",
    "print(travel_destinations)  \n",
    "  \n",
    "# 使用 reverse() 修改列表元素的排列顺序  \n",
    "travel_destinations.reverse()  \n",
    "print(travel_destinations)  \n",
    "  \n",
    "# 使用 reverse() 再次修改列表元素的排列顺序  \n",
    "travel_destinations.reverse()  \n",
    "print(travel_destinations)  \n",
    "  \n",
    "# 使用 sort() 修改该列表，使其元素按字母顺序排列  \n",
    "travel_destinations.sort()  \n",
    "print(travel_destinations)  \n",
    "  \n",
    "# 使用 sort() 修改该列表，使其元素按与字母顺序相反的顺序排列  \n",
    "travel_destinations.sort(reverse=True)  \n",
    "print(travel_destinations)"
   ]
  },
  {
   "cell_type": "code",
   "execution_count": 25,
   "id": "448f5784-593c-4715-b8bd-61499a1008e1",
   "metadata": {},
   "outputs": [
    {
     "name": "stdout",
     "output_type": "stream",
     "text": [
      "I've invited 3 guests to have dinner with me.\n"
     ]
    }
   ],
   "source": [
    "#3.9晚餐嘉宾\n",
    "guests = [\"billie Eilish\",\"dua lipa\",\"lorde\"]   \n",
    "# 使用 len() 打印一条消息，指出邀请了多少位嘉宾  \n",
    "print(f\"I've invited {len(guests)} guests to have dinner with me.\")"
   ]
  },
  {
   "cell_type": "code",
   "execution_count": null,
   "id": "c05592e0-fe96-4472-be0e-9a59a28b42ee",
   "metadata": {},
   "outputs": [],
   "source": [
    "# 创建一个包含不同元素的列表  \n",
    "my_list = [\"喜马拉雅山\", \"尼罗河\", \"中国\", \"伦敦\", \"法语\", \"披萨\"]  \n",
    "  \n",
    "# 打印列表的长度  \n",
    "print(f\"列表长度: {len(my_list)}\")  \n",
    "  \n",
    "# 打印列表中的最大和最小元素  \n",
    "print(f\"最大元素: {max(my_list)}\")  \n",
    "print(f\"最小元素: {min(my_list)}\")  \n",
    "  \n",
    "# 使用 sum() 对一个数字列表求和（这里不适用，因为不是数字列表）  \n",
    "# 如果列表是数字，可以这样使用：print(sum(my_numeric_list))  \n",
    "  \n",
    "# 使用 sort() 修改列表元素的排列顺序  \n",
    "my_list.sort()  \n",
    "print(f\"按字母顺序排列的列表: {my_list}\")  \n",
    "  \n",
    "# 使用 sorted() 按字母顺序打印列表，不修改原列表  \n",
    "print(f\"按字母顺序排列的列表（不修改原列表）: {sorted(my_list)}\")  \n",
    "  \n",
    "# 使用 reverse() 修改列表元素的排列顺序  \n",
    "my_list.reverse()  \n",
    "print(f\"按反向字母顺序排列的列表: {my_list}\")  \n",
    "  \n",
    "# 使用 append() 在列表末尾添加元素  \n",
    "my_list.append(\"德语\")  \n",
    "print(f\"添加元素后的列表: {my_list}\")  \n",
    "  \n",
    "# 使用 insert() 在指定位置插入元素  \n",
    "my_list.insert(2, \"汉堡\")  \n",
    "print(f\"在指定位置插入元素后的列表: {my_list}\")  \n",
    "  \n",
    "# 使用 remove() 删除列表中的元素  \n",
    "my_list.remove(\"披萨\")  \n",
    "print(f\"删除元素后的列表: {my_list}\")  \n",
    "  \n",
    "# 使用 pop() 删除并返回列表中的元素  \n",
    "removed_element = my_list.pop()  \n",
    "print(f\"删除并返回的元素: {removed_element}\")  \n",
    "print(f\"删除元素后的列表: {my_list}\")  \n",
    "  \n",
    "# 使用 index() 查找列表中元素的索引  \n",
    "element_index = my_list.index(\"中国\")  \n",
    "print(f\"元素 '中国' 的索引: {element_index}\")  \n",
    "  \n",
    "# 使用 count() 统计列表中元素的出现次数  \n",
    "element_count = my_list.count(\"伦敦\")  \n",
    "print(f\"元素 '伦敦' 出现的次数: {element_count}\")  \n",
    "  \n",
    "# 使用 extend() 将另一个列表的元素添加到当前列表  \n",
    "another_list = [\"意大利\", \"西班牙\"]  \n",
    "my_list.extend(another_list)  \n",
    "print(f\"扩展后的列表: {my_list}\")  \n",
    "  \n",
    "# 使用 copy() 创建列表的副本  \n",
    "list_copy = my_list.copy()  \n",
    "print(f\"列表的副本: {list_copy}\")  \n",
    "  \n",
    "# 使用 clear() 清空列表  \n",
    "my_list.clear()  \n",
    "print(f\"清空后的列表: {my_list}\")"
   ]
  }
 ],
 "metadata": {
  "kernelspec": {
   "display_name": "Python 3 (ipykernel)",
   "language": "python",
   "name": "python3"
  },
  "language_info": {
   "codemirror_mode": {
    "name": "ipython",
    "version": 3
   },
   "file_extension": ".py",
   "mimetype": "text/x-python",
   "name": "python",
   "nbconvert_exporter": "python",
   "pygments_lexer": "ipython3",
   "version": "3.11.7"
  }
 },
 "nbformat": 4,
 "nbformat_minor": 5
}
