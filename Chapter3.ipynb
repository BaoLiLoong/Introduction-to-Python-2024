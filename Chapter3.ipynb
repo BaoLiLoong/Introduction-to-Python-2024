{
 "cells": [
  {
   "cell_type": "markdown",
   "id": "5c5e9e8c-ae17-42a7-a433-453027252e9a",
   "metadata": {},
   "source": [
    "# 第三章 列表"
   ]
  },
  {
   "cell_type": "markdown",
   "id": "350dd93f-3c67-40ee-ad65-e8d6f57a684a",
   "metadata": {},
   "source": [
    "## 3.1 列表是什么"
   ]
  },
  {
   "cell_type": "code",
   "execution_count": 3,
   "id": "0073cd09-ff21-48bc-9dfb-f366f4d837e9",
   "metadata": {},
   "outputs": [
    {
     "name": "stdout",
     "output_type": "stream",
     "text": [
      "['trek', 'redline', 'giant']\n"
     ]
    }
   ],
   "source": [
    "bikes=['trek','redline','giant']\n",
    "print(bikes)"
   ]
  },
  {
   "cell_type": "code",
   "execution_count": 1,
   "id": "4f7c7e56-fbaf-4167-9279-5b93e9aad11a",
   "metadata": {},
   "outputs": [
    {
     "name": "stdout",
     "output_type": "stream",
     "text": [
      "['trek', 'cannondale', 'redline', 'specialized']\n"
     ]
    }
   ],
   "source": [
    "bicycles = ['trek', 'cannondale', 'redline', 'specialized'] \n",
    "print(bicycles)"
   ]
  },
  {
   "cell_type": "markdown",
   "id": "3c515b14-afd1-4658-b317-e49a2672fb81",
   "metadata": {},
   "source": [
    "### 3.1.1 3.1.2 访问列表元素、列表索引"
   ]
  },
  {
   "cell_type": "code",
   "execution_count": 2,
   "id": "072a777a-3ff2-4e79-86f4-e37088f20d61",
   "metadata": {},
   "outputs": [
    {
     "name": "stdout",
     "output_type": "stream",
     "text": [
      "trek\n",
      "giant giant\n"
     ]
    }
   ],
   "source": [
    "#索引从0开始，负数索引从-1开始\n",
    "bikes=['trek','redline','giant']\n",
    "print(bikes[0])\n",
    "print(bikes[2],bikes[-1])"
   ]
  },
  {
   "cell_type": "markdown",
   "id": "55781518-4def-4b92-a7c8-f14a5fa46cab",
   "metadata": {},
   "source": [
    "### 3.1.3 使用列表中的各个值"
   ]
  },
  {
   "cell_type": "code",
   "execution_count": 5,
   "id": "e8e65d37-b871-404b-bc14-1f76a31332a7",
   "metadata": {},
   "outputs": [
    {
     "name": "stdout",
     "output_type": "stream",
     "text": [
      "My first bicycle was a Trek.\n"
     ]
    }
   ],
   "source": [
    "bicycles = ['trek', 'cannondale', 'redline', 'specialized'] \n",
    "message=f\"My first bicycle was a {bicycles[0].title()}.\"\n",
    "print(message)"
   ]
  },
  {
   "cell_type": "markdown",
   "id": "0a994db3-ee69-400e-bdb4-7530a1c03ce2",
   "metadata": {},
   "source": [
    "### 3.2.1 修改列表元素"
   ]
  },
  {
   "cell_type": "code",
   "execution_count": 7,
   "id": "54bb3dc5-191f-41ee-ad39-76acd64e0789",
   "metadata": {},
   "outputs": [
    {
     "name": "stdout",
     "output_type": "stream",
     "text": [
      "['honda', 'yamaha', 'suzuki']\n",
      "['ducati', 'yamaha', 'suzuki']\n"
     ]
    }
   ],
   "source": [
    "motorcycles=['honda','yamaha','suzuki']\n",
    "print(motorcycles)\n",
    "motorcycles[0]='ducati'\n",
    "print(motorcycles)"
   ]
  },
  {
   "cell_type": "markdown",
   "id": "a6424066-0ced-4b86-89a5-887616907e00",
   "metadata": {},
   "source": [
    "### 3.2.2 添加列表元素"
   ]
  },
  {
   "cell_type": "code",
   "execution_count": 10,
   "id": "096a13f2-460a-4838-b736-45d68ef36a6f",
   "metadata": {},
   "outputs": [
    {
     "name": "stdout",
     "output_type": "stream",
     "text": [
      "['trek', 'redline']\n"
     ]
    }
   ],
   "source": [
    "#1st.append(val):在列表的末尾添加新元素\n",
    "#1st.insert(idx,val):在列表的指定位置添加新元素\n",
    "bikes=[]\n",
    "bikes.append('redline')\n",
    "bikes.insert(0,'trek')\n",
    "print(bikes)"
   ]
  },
  {
   "cell_type": "markdown",
   "id": "adaa89fe-d7ff-45b5-b29c-edc33806df56",
   "metadata": {},
   "source": [
    "### 3.2.3 从列表中删除元素"
   ]
  },
  {
   "cell_type": "code",
   "execution_count": 11,
   "id": "ea807d40-4a1f-45c6-ae5a-92ab2421e6dc",
   "metadata": {},
   "outputs": [
    {
     "name": "stdout",
     "output_type": "stream",
     "text": [
      "['trek', 'redline']\n"
     ]
    }
   ],
   "source": [
    "#del 1st[idx]:删除列表中指定索引的元素\n",
    "bikes=['giant','trek','redline']\n",
    "del bikes[0]\n",
    "print(bikes)"
   ]
  },
  {
   "cell_type": "code",
   "execution_count": 14,
   "id": "095dd189-671c-427c-a985-821f7fef6623",
   "metadata": {},
   "outputs": [
    {
     "name": "stdout",
     "output_type": "stream",
     "text": [
      "redline\n",
      "['trek']\n",
      "giant\n"
     ]
    }
   ],
   "source": [
    "#1st.pop([idx]) -> val:删除并返回列表中指定索引（默认末尾）元素，弹出（pop）的值能被接着使用\n",
    "bikes=['giant','trek','redline']\n",
    "print(bikes.pop())\n",
    "popped_bike=bikes.pop(0)\n",
    "print(bikes)\n",
    "print(popped_bike)"
   ]
  },
  {
   "cell_type": "code",
   "execution_count": 15,
   "id": "8b21f2a1-a600-43bf-9832-6db582ddc391",
   "metadata": {},
   "outputs": [
    {
     "name": "stdout",
     "output_type": "stream",
     "text": [
      "['honda', 'yamaha', 'suzuki']\n",
      "\n",
      "A Ducati is too expensive for me.\n"
     ]
    }
   ],
   "source": [
    "#1st.remove(val):删除列表中匹配到的第一个指定元素\n",
    "motorcycles=['honda','yamaha','suzuki','ducati']\n",
    "too_expensive='ducati'\n",
    "motorcycles.remove(too_expensive)\n",
    "print(motorcycles)\n",
    "print(f\"\\nA {too_expensive.title()} is too expensive for me.\")"
   ]
  },
  {
   "cell_type": "markdown",
   "id": "1579a0c2-b566-4f1c-90ba-725123be591a",
   "metadata": {},
   "source": [
    "## 3.3 管理列表"
   ]
  },
  {
   "cell_type": "markdown",
   "id": "1a433005-3d75-4361-8b24-7b7a29997f7a",
   "metadata": {},
   "source": [
    "### 3.3.1 排序"
   ]
  },
  {
   "cell_type": "code",
   "execution_count": 18,
   "id": "7c434c43-7d88-4ca1-bb51-b9e057091d76",
   "metadata": {},
   "outputs": [
    {
     "name": "stdout",
     "output_type": "stream",
     "text": [
      "[1, 2, 4, 6, 9]\n",
      "[9, 6, 1, 4, 2]\n",
      "[1, 2, 4, 6, 9]\n",
      "[9, 6, 4, 2, 1]\n"
     ]
    }
   ],
   "source": [
    "#1st.sort():永久修改原列表，对其中的元素进行排序\n",
    "#sorted(1st)->1st:返回排序后的列表的副本\n",
    "nums=[9,6,1,4,2]\n",
    "print(sorted(nums))\n",
    "print(nums)#原列表不变\n",
    "#列表排序（默认正序）\n",
    "nums.sort()\n",
    "print(nums)\n",
    "#列表排序（指定倒序）\n",
    "nums.sort(reverse=True)\n",
    "print(nums)"
   ]
  },
  {
   "cell_type": "markdown",
   "id": "e6d5a472-0436-405c-9b8f-37bd9ed0c0ba",
   "metadata": {},
   "source": [
    "### 3.3.2 反转"
   ]
  },
  {
   "cell_type": "code",
   "execution_count": 19,
   "id": "e6534d16-87ba-42ed-979e-6c5e56ae0813",
   "metadata": {},
   "outputs": [
    {
     "name": "stdout",
     "output_type": "stream",
     "text": [
      "[2, 4, 1, 6, 9]\n"
     ]
    }
   ],
   "source": [
    "#1st.reverse():永久修改原列表，对其中的元素进行翻转\n",
    "nums=[9,6,1,4,2]\n",
    "nums.reverse()#翻转列表\n",
    "print(nums)"
   ]
  },
  {
   "cell_type": "markdown",
   "id": "609910dc-0953-4cf6-998d-ab5b28cbf089",
   "metadata": {},
   "source": [
    "### 3.3.3 获取长度"
   ]
  },
  {
   "cell_type": "code",
   "execution_count": 20,
   "id": "9101f955-11f9-43b6-acac-8234355a2da6",
   "metadata": {},
   "outputs": [
    {
     "name": "stdout",
     "output_type": "stream",
     "text": [
      "4\n"
     ]
    }
   ],
   "source": [
    "#len(1st)->num:获取列表元素个数\n",
    "cars=['bmw','audi','toyota','subaru']\n",
    "print(len(cars))"
   ]
  },
  {
   "cell_type": "markdown",
   "id": "1da01bfb-219e-4fe8-a47e-362a2776cea5",
   "metadata": {},
   "source": [
    "## 3.4 避免索引错误"
   ]
  },
  {
   "cell_type": "code",
   "execution_count": 21,
   "id": "6fe18330-2109-4ebf-8ce0-77512e58946c",
   "metadata": {},
   "outputs": [
    {
     "ename": "IndexError",
     "evalue": "list index out of range",
     "output_type": "error",
     "traceback": [
      "\u001b[1;31m---------------------------------------------------------------------------\u001b[0m",
      "\u001b[1;31mIndexError\u001b[0m                                Traceback (most recent call last)",
      "Cell \u001b[1;32mIn[21], line 3\u001b[0m\n\u001b[0;32m      1\u001b[0m \u001b[38;5;66;03m#差一错误\u001b[39;00m\n\u001b[0;32m      2\u001b[0m motorcycles\u001b[38;5;241m=\u001b[39m[\u001b[38;5;124m'\u001b[39m\u001b[38;5;124mhonda\u001b[39m\u001b[38;5;124m'\u001b[39m,\u001b[38;5;124m'\u001b[39m\u001b[38;5;124myamaha\u001b[39m\u001b[38;5;124m'\u001b[39m,\u001b[38;5;124m'\u001b[39m\u001b[38;5;124msuzuki\u001b[39m\u001b[38;5;124m'\u001b[39m]\n\u001b[1;32m----> 3\u001b[0m \u001b[38;5;28mprint\u001b[39m(motorcycles[\u001b[38;5;241m3\u001b[39m])\n",
      "\u001b[1;31mIndexError\u001b[0m: list index out of range"
     ]
    }
   ],
   "source": [
    "#差一错误\n",
    "motorcycles=['honda','yamaha','suzuki']\n",
    "print(motorcycles[3])"
   ]
  },
  {
   "cell_type": "code",
   "execution_count": null,
   "id": "17f5e518-b9cc-42e2-a7f4-35356653fd15",
   "metadata": {},
   "outputs": [],
   "source": []
  }
 ],
 "metadata": {
  "kernelspec": {
   "display_name": "Python 3 (ipykernel)",
   "language": "python",
   "name": "python3"
  },
  "language_info": {
   "codemirror_mode": {
    "name": "ipython",
    "version": 3
   },
   "file_extension": ".py",
   "mimetype": "text/x-python",
   "name": "python",
   "nbconvert_exporter": "python",
   "pygments_lexer": "ipython3",
   "version": "3.11.7"
  }
 },
 "nbformat": 4,
 "nbformat_minor": 5
}
