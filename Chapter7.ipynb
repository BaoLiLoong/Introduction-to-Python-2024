{
 "cells": [
  {
   "cell_type": "markdown",
   "id": "bec8f51b-348b-428f-bfd1-8f22c55f1719",
   "metadata": {},
   "source": [
    "# 第七章 用户输入和while循环"
   ]
  },
  {
   "cell_type": "markdown",
   "id": "7232e50e-2a59-4197-a2bf-cbbbc9e291bc",
   "metadata": {},
   "source": [
    "## 7.1 input()函数的工作原理"
   ]
  },
  {
   "cell_type": "code",
   "execution_count": 1,
   "id": "04c2ee7b-ad83-4d72-8068-79a82b21fa37",
   "metadata": {},
   "outputs": [
    {
     "name": "stdin",
     "output_type": "stream",
     "text": [
      "Tell me something, and I will repeat it back to you:  Where is BE3?\n"
     ]
    },
    {
     "name": "stdout",
     "output_type": "stream",
     "text": [
      "Where is BE3?\n"
     ]
    }
   ],
   "source": [
    "# input() 函数接受一个参数，即要向用户显示的提示（prompt），让用户知道该输入什么样的信息。\n",
    "message = input(\"Tell me something, and I will repeat it back to you: \")\n",
    "print(message)"
   ]
  },
  {
   "cell_type": "markdown",
   "id": "628b5e62-cfe2-4648-9dec-c85b4120be5c",
   "metadata": {},
   "source": [
    "### 7.1.1 编辑清晰的提示"
   ]
  },
  {
   "cell_type": "code",
   "execution_count": 2,
   "id": "edd130ba-797a-484a-a5c3-77176abeed15",
   "metadata": {},
   "outputs": [
    {
     "name": "stdin",
     "output_type": "stream",
     "text": [
      "Please enter your name:  Counti\n"
     ]
    },
    {
     "name": "stdout",
     "output_type": "stream",
     "text": [
      "\n",
      "Hello, Counti!\n"
     ]
    }
   ],
   "source": [
    "name = input(\"Please enter your name: \")\n",
    "print(f\"\\nHello, {name}!\")"
   ]
  },
  {
   "cell_type": "code",
   "execution_count": 3,
   "id": "a8a0dd64-243b-44b9-9d6c-6fdd2b0c1ee4",
   "metadata": {},
   "outputs": [
    {
     "name": "stdin",
     "output_type": "stream",
     "text": [
      "If you share your name, we can personalize the messages you see.\n",
      "What is your first name?  Counti\n"
     ]
    },
    {
     "name": "stdout",
     "output_type": "stream",
     "text": [
      "\n",
      "Hello, Counti!\n"
     ]
    }
   ],
   "source": [
    "prompt = \"If you share your name, we can personalize the messages you see.\"\n",
    "prompt += \"\\nWhat is your first name? \"\n",
    "\n",
    "name = input(prompt)\n",
    "print(f\"\\nHello, {name}!\")"
   ]
  },
  {
   "cell_type": "markdown",
   "id": "acbd5cf0-e659-4706-b4aa-7a947ec4d37e",
   "metadata": {},
   "source": [
    "### 7.1.2 使用int()来获取数值输入"
   ]
  },
  {
   "cell_type": "code",
   "execution_count": 4,
   "id": "380ba420-0f36-4b7d-b62b-d7b15dc0e280",
   "metadata": {},
   "outputs": [
    {
     "name": "stdin",
     "output_type": "stream",
     "text": [
      "How old are you?  20\n"
     ]
    },
    {
     "name": "stdout",
     "output_type": "stream",
     "text": [
      "20\n"
     ]
    }
   ],
   "source": [
    "age = input(\"How old are you? \")\n",
    "print(age)"
   ]
  },
  {
   "cell_type": "code",
   "execution_count": 5,
   "id": "0b72e959-b438-421d-90de-176c12ce489b",
   "metadata": {
    "scrolled": true
   },
   "outputs": [
    {
     "ename": "TypeError",
     "evalue": "'>=' not supported between instances of 'str' and 'int'",
     "output_type": "error",
     "traceback": [
      "\u001b[1;31m---------------------------------------------------------------------------\u001b[0m",
      "\u001b[1;31mTypeError\u001b[0m                                 Traceback (most recent call last)",
      "Cell \u001b[1;32mIn[5], line 1\u001b[0m\n\u001b[1;32m----> 1\u001b[0m age \u001b[38;5;241m>\u001b[39m\u001b[38;5;241m=\u001b[39m \u001b[38;5;241m18\u001b[39m\n",
      "\u001b[1;31mTypeError\u001b[0m: '>=' not supported between instances of 'str' and 'int'"
     ]
    }
   ],
   "source": [
    "age >= 18"
   ]
  },
  {
   "cell_type": "code",
   "execution_count": 6,
   "id": "43bc0ddd-1a11-437c-9179-a0da15ad6639",
   "metadata": {},
   "outputs": [
    {
     "data": {
      "text/plain": [
       "True"
      ]
     },
     "execution_count": 6,
     "metadata": {},
     "output_type": "execute_result"
    }
   ],
   "source": [
    "age = int(age)\n",
    "age >= 18"
   ]
  },
  {
   "cell_type": "code",
   "execution_count": 7,
   "id": "856c5db6-0bc5-44c4-bb23-988c84953ed3",
   "metadata": {},
   "outputs": [
    {
     "name": "stdin",
     "output_type": "stream",
     "text": [
      "How tall are you, in inches?  60\n"
     ]
    },
    {
     "name": "stdout",
     "output_type": "stream",
     "text": [
      "\n",
      "You're tall enough to ride!\n"
     ]
    }
   ],
   "source": [
    "height = input(\"How tall are you, in inches? \")\n",
    "height = int(height)\n",
    "\n",
    "if height >= 48:\n",
    "    print(\"\\nYou're tall enough to ride!\")\n",
    "else:\n",
    "    print(\"\\nYou'll be able to ride when you're a little older.\")"
   ]
  },
  {
   "cell_type": "markdown",
   "id": "a15fa778-bb7b-4b5d-805f-de52cafd5654",
   "metadata": {},
   "source": [
    "### 7.1.3 求模运算符"
   ]
  },
  {
   "cell_type": "code",
   "execution_count": 8,
   "id": "389dc612-b527-4b01-8a22-8258aff5f741",
   "metadata": {},
   "outputs": [
    {
     "data": {
      "text/plain": [
       "1"
      ]
     },
     "execution_count": 8,
     "metadata": {},
     "output_type": "execute_result"
    }
   ],
   "source": [
    "4 % 3"
   ]
  },
  {
   "cell_type": "code",
   "execution_count": 10,
   "id": "d6bfaf3b-6001-4e9a-bda4-e4de86de5632",
   "metadata": {},
   "outputs": [
    {
     "data": {
      "text/plain": [
       "2"
      ]
     },
     "execution_count": 10,
     "metadata": {},
     "output_type": "execute_result"
    }
   ],
   "source": [
    "5 % 3"
   ]
  },
  {
   "cell_type": "code",
   "execution_count": 11,
   "id": "957daeb8-f070-401f-85e7-c23d8e564b87",
   "metadata": {},
   "outputs": [
    {
     "data": {
      "text/plain": [
       "0"
      ]
     },
     "execution_count": 11,
     "metadata": {},
     "output_type": "execute_result"
    }
   ],
   "source": [
    "6 % 3"
   ]
  },
  {
   "cell_type": "code",
   "execution_count": 12,
   "id": "85464c6d-93b6-4790-8e9a-1cc0017196c4",
   "metadata": {},
   "outputs": [
    {
     "data": {
      "text/plain": [
       "1"
      ]
     },
     "execution_count": 12,
     "metadata": {},
     "output_type": "execute_result"
    }
   ],
   "source": [
    "7 % 3"
   ]
  },
  {
   "cell_type": "code",
   "execution_count": 13,
   "id": "44ae6ea4-1473-434a-95f2-0cc8cf657efa",
   "metadata": {},
   "outputs": [
    {
     "name": "stdin",
     "output_type": "stream",
     "text": [
      "Enter a number, and I'll tell you if it's even or odd:  17\n"
     ]
    },
    {
     "name": "stdout",
     "output_type": "stream",
     "text": [
      "\n",
      "The number 17 is odd.\n"
     ]
    }
   ],
   "source": [
    "number = input(\"Enter a number, and I'll tell you if it's even or odd: \")\n",
    "number = int(number)\n",
    "\n",
    "if number % 2 == 0:\n",
    "    print(f\"\\nThe number {number} is even.\")\n",
    "else:\n",
    "    print(f\"\\nThe number {number} is odd.\")"
   ]
  },
  {
   "cell_type": "markdown",
   "id": "91b83bc5-fef1-478e-9c80-ac5c74daa5a8",
   "metadata": {},
   "source": [
    "## 7.2 while循环简介"
   ]
  },
  {
   "cell_type": "code",
   "execution_count": null,
   "id": "b6f1bd0e-0acf-4bb5-95a5-080c152edccd",
   "metadata": {},
   "outputs": [],
   "source": [
    "# for 循环用于针对集合中的每个元素执行一个代码块，而 while 循环则不断地运行，直到指定的条件不再满足为止。"
   ]
  },
  {
   "cell_type": "markdown",
   "id": "062fdf67-47b5-48a4-8034-35bb2040b7f2",
   "metadata": {},
   "source": [
    "### 7.2.1 使用while循环"
   ]
  },
  {
   "cell_type": "code",
   "execution_count": 17,
   "id": "39bcd5c7-1586-4dcd-a99f-b2d64813591c",
   "metadata": {},
   "outputs": [
    {
     "name": "stdout",
     "output_type": "stream",
     "text": [
      "1\n",
      "2\n",
      "3\n",
      "4\n",
      "5\n"
     ]
    }
   ],
   "source": [
    "current_number = 1\n",
    "while current_number <= 5:\n",
    "    print(current_number)\n",
    "    current_number += 1 # current_number = current_number + 1 的简写 自赋值"
   ]
  },
  {
   "cell_type": "markdown",
   "id": "1dfe669a-b94e-413a-b31a-5eaee5b2ce05",
   "metadata": {},
   "source": [
    "### 7.2.1 让用户选择何时退出"
   ]
  },
  {
   "cell_type": "code",
   "execution_count": 1,
   "id": "5bacead2-e414-43b5-afc7-42922ffc52d9",
   "metadata": {},
   "outputs": [
    {
     "name": "stdin",
     "output_type": "stream",
     "text": [
      "\n",
      "Tell me something, and I will repeat it back to you:\n",
      "Enter 'quit' to end the program.  Where is Billie Eilish's new album?\n"
     ]
    },
    {
     "name": "stdout",
     "output_type": "stream",
     "text": [
      "Where is Billie Eilish's new album?\n"
     ]
    },
    {
     "name": "stdin",
     "output_type": "stream",
     "text": [
      "\n",
      "Tell me something, and I will repeat it back to you:\n",
      "Enter 'quit' to end the program.  I can't wait now.\n"
     ]
    },
    {
     "name": "stdout",
     "output_type": "stream",
     "text": [
      "I can't wait now.\n"
     ]
    },
    {
     "name": "stdin",
     "output_type": "stream",
     "text": [
      "\n",
      "Tell me something, and I will repeat it back to you:\n",
      "Enter 'quit' to end the program.  quit\n"
     ]
    },
    {
     "name": "stdout",
     "output_type": "stream",
     "text": [
      "quit\n"
     ]
    }
   ],
   "source": [
    "prompt = \"\\nTell me something, and I will repeat it back to you:\"\n",
    "prompt += \"\\nEnter 'quit' to end the program. \"\n",
    "\n",
    "message = \"\"\n",
    "while message != 'quit':\n",
    "    message = input(prompt)\n",
    "    print(message)"
   ]
  },
  {
   "cell_type": "code",
   "execution_count": 2,
   "id": "8aa579dc-2eb5-4d54-b706-2c49e140a8ca",
   "metadata": {},
   "outputs": [
    {
     "name": "stdin",
     "output_type": "stream",
     "text": [
      "\n",
      "Tell me something, and I will repeat it back to you:\n",
      "Enter 'quit' to end the program.  Happier than ever.\n"
     ]
    },
    {
     "name": "stdout",
     "output_type": "stream",
     "text": [
      "Happier than ever.\n"
     ]
    },
    {
     "name": "stdin",
     "output_type": "stream",
     "text": [
      "\n",
      "Tell me something, and I will repeat it back to you:\n",
      "Enter 'quit' to end the program.  Therefore I Am.\n"
     ]
    },
    {
     "name": "stdout",
     "output_type": "stream",
     "text": [
      "Therefore I Am.\n"
     ]
    },
    {
     "name": "stdin",
     "output_type": "stream",
     "text": [
      "\n",
      "Tell me something, and I will repeat it back to you:\n",
      "Enter 'quit' to end the program.  quit\n"
     ]
    }
   ],
   "source": [
    "prompt = \"\\nTell me something, and I will repeat it back to you:\"\n",
    "prompt += \"\\nEnter 'quit' to end the program. \"\n",
    "\n",
    "message = \"\"\n",
    "while message != 'quit':\n",
    "    message = input(prompt)\n",
    "   \n",
    "    if message != 'quit':\n",
    "        print(message)"
   ]
  },
  {
   "cell_type": "code",
   "execution_count": 3,
   "id": "8b0bcee2-beed-4727-8da8-989457378ff5",
   "metadata": {},
   "outputs": [
    {
     "data": {
      "text/plain": [
       "False"
      ]
     },
     "execution_count": 3,
     "metadata": {},
     "output_type": "execute_result"
    }
   ],
   "source": [
    "1!=1"
   ]
  },
  {
   "cell_type": "code",
   "execution_count": 4,
   "id": "6c298079-762a-4ddf-9cd5-fbfd0583ee74",
   "metadata": {},
   "outputs": [
    {
     "data": {
      "text/plain": [
       "True"
      ]
     },
     "execution_count": 4,
     "metadata": {},
     "output_type": "execute_result"
    }
   ],
   "source": [
    "1!=2"
   ]
  },
  {
   "cell_type": "markdown",
   "id": "d42a6685-9edd-44a6-97df-8dc4f81858df",
   "metadata": {},
   "source": [
    "### 7.2.3 使用标志"
   ]
  },
  {
   "cell_type": "code",
   "execution_count": 5,
   "id": "1ab84b72-c636-40e9-a943-2f928a60e53e",
   "metadata": {},
   "outputs": [
    {
     "name": "stdin",
     "output_type": "stream",
     "text": [
      "\n",
      "Tell me something, and I will repeat it back to you:\n",
      "Enter 'quit' to end the program.  Airplane Mode.\n"
     ]
    },
    {
     "name": "stdout",
     "output_type": "stream",
     "text": [
      "Airplane Mode.\n"
     ]
    },
    {
     "name": "stdin",
     "output_type": "stream",
     "text": [
      "\n",
      "Tell me something, and I will repeat it back to you:\n",
      "Enter 'quit' to end the program.  Open up the door.\n"
     ]
    },
    {
     "name": "stdout",
     "output_type": "stream",
     "text": [
      "Open up the door.\n"
     ]
    },
    {
     "name": "stdin",
     "output_type": "stream",
     "text": [
      "\n",
      "Tell me something, and I will repeat it back to you:\n",
      "Enter 'quit' to end the program.  quit\n"
     ]
    }
   ],
   "source": [
    "prompt = \"\\nTell me something, and I will repeat it back to you:\"\n",
    "prompt += \"\\nEnter 'quit' to end the program. \"\n",
    "\n",
    "active = True\n",
    "while active:\n",
    "    message = input(prompt)\n",
    "   \n",
    "    if message == 'quit':\n",
    "        active = False\n",
    "    else:\n",
    "        print(message)"
   ]
  },
  {
   "cell_type": "markdown",
   "id": "bb6e02c1-631a-4b16-8588-506f11bb14d0",
   "metadata": {},
   "source": [
    "### 7.2.4 使用break退出循环"
   ]
  },
  {
   "cell_type": "code",
   "execution_count": 2,
   "id": "f66b8858-52fa-48f9-bb14-dfd45118c12d",
   "metadata": {},
   "outputs": [
    {
     "name": "stdin",
     "output_type": "stream",
     "text": [
      "\n",
      "Please enter the name of a city you have visited:\n",
      "(Enter 'quit' when you are finished.)  YangZhou\n"
     ]
    },
    {
     "name": "stdout",
     "output_type": "stream",
     "text": [
      "I'd love to go to Yangzhou!\n"
     ]
    },
    {
     "name": "stdin",
     "output_type": "stream",
     "text": [
      "\n",
      "Please enter the name of a city you have visited:\n",
      "(Enter 'quit' when you are finished.)  quit\n"
     ]
    }
   ],
   "source": [
    "prompt = \"\\nPlease enter the name of a city you have visited:\"\n",
    "prompt += \"\\n(Enter 'quit' when you are finished.) \"\n",
    "\n",
    "while True:\n",
    "    city = input(prompt)\n",
    "    \n",
    "    if city == 'quit':\n",
    "        break #立即退出循环\n",
    "    else:\n",
    "        print(f\"I'd love to go to {city.title()}!\")"
   ]
  },
  {
   "cell_type": "markdown",
   "id": "ab6ffba4-53d8-43e6-a48b-51d195b33a96",
   "metadata": {},
   "source": [
    "### 7.2.5 在循环中使用continue"
   ]
  },
  {
   "cell_type": "code",
   "execution_count": 1,
   "id": "89add36c-0afc-4e58-b9ff-10c3afa7c108",
   "metadata": {},
   "outputs": [
    {
     "name": "stdout",
     "output_type": "stream",
     "text": [
      "1\n",
      "3\n",
      "5\n",
      "7\n",
      "9\n"
     ]
    }
   ],
   "source": [
    "current_number = 0\n",
    "while current_number < 10:\n",
    "    current_number += 1\n",
    "    if current_number % 2 == 0:\n",
    "        continue #跳过当前循环，回到循环开头\n",
    "    \n",
    "    print(current_number)"
   ]
  },
  {
   "cell_type": "code",
   "execution_count": 3,
   "id": "59fb59d7-46ac-43c5-9f08-55288af350c3",
   "metadata": {},
   "outputs": [
    {
     "name": "stdout",
     "output_type": "stream",
     "text": [
      "1\n",
      "3\n",
      "5\n"
     ]
    }
   ],
   "source": [
    "current_number = 0\n",
    "while True:\n",
    "    if current_number > 5:\n",
    "        break\n",
    "    current_number += 1\n",
    "    if current_number % 2 == 0:\n",
    "        continue\n",
    "    print(current_number)"
   ]
  },
  {
   "cell_type": "markdown",
   "id": "fa615889-6aea-4091-a714-a21d6104d8a7",
   "metadata": {},
   "source": [
    "### 7.2.6 避免无限循环"
   ]
  },
  {
   "cell_type": "code",
   "execution_count": null,
   "id": "a4097695-6de7-46de-8e2e-2d6772213919",
   "metadata": {},
   "outputs": [],
   "source": [
    "x = 1\n",
    "while x <= 5:\n",
    "    print(x)\n",
    "    x += 1"
   ]
  },
  {
   "cell_type": "markdown",
   "id": "c8146e80-ec0f-43b9-a11b-cc5e8ece1982",
   "metadata": {},
   "source": [
    "## 7.3 使用while循环处理列表和字典"
   ]
  },
  {
   "cell_type": "markdown",
   "id": "f3dcb973-ded8-408f-a363-013dd788e0d4",
   "metadata": {},
   "source": [
    "### 7.3.1 在列表之间移动元素"
   ]
  },
  {
   "cell_type": "code",
   "execution_count": 2,
   "id": "c5a3c934-7cc2-411a-83b5-dfc56503c4f1",
   "metadata": {},
   "outputs": [
    {
     "name": "stdout",
     "output_type": "stream",
     "text": [
      "Verifying user: Candace\n",
      "Verifying user: Brian\n",
      "Verifying user: Alice\n",
      "\n",
      "The following users have been confirmed:\n",
      "Candace\n",
      "Brian\n",
      "Alice\n"
     ]
    }
   ],
   "source": [
    "# 首先，创建一个待验证用户列表\n",
    "# 和一个用于存储已验证用户的空列表\n",
    "unconfirmed_users = ['alice', 'brian', 'candace']\n",
    "confirmed_users = []\n",
    "\n",
    "# 验证每个用户，直到没有未验证用户为止\n",
    "# 将每个经过验证的用户都移到已验证用户列表中\n",
    "while unconfirmed_users:\n",
    "    current_user = unconfirmed_users.pop()\n",
    "    \n",
    "    print(f\"Verifying user: {current_user.title()}\")\n",
    "    confirmed_users.append(current_user)\n",
    "\n",
    "# 显示所有的已验证用户\n",
    "print(\"\\nThe following users have been confirmed:\")\n",
    "for confirmed_user in confirmed_users:\n",
    "    print(confirmed_user.title())"
   ]
  },
  {
   "cell_type": "markdown",
   "id": "473de84f-cc45-42d1-bcd6-d98f95c937a6",
   "metadata": {},
   "source": [
    "### 7.3.2 删除特定值的所有列表元素"
   ]
  },
  {
   "cell_type": "code",
   "execution_count": 3,
   "id": "a5d0ef48-2fd4-4f79-b88a-8f7729f00811",
   "metadata": {},
   "outputs": [
    {
     "name": "stdout",
     "output_type": "stream",
     "text": [
      "['dog', 'cat', 'dog', 'goldfish', 'cat', 'rabbit', 'cat']\n",
      "['dog', 'dog', 'goldfish', 'rabbit']\n"
     ]
    }
   ],
   "source": [
    "pets = ['dog', 'cat', 'dog', 'goldfish', 'cat', 'rabbit', 'cat']\n",
    "print(pets)\n",
    "\n",
    "while 'cat' in pets:\n",
    "    pets.remove('cat')\n",
    "\n",
    "print(pets)"
   ]
  },
  {
   "cell_type": "markdown",
   "id": "2b30c521-48e0-45c9-9b10-e67163e52e47",
   "metadata": {},
   "source": [
    "### 7.3.3 使用用户输入填充字典"
   ]
  },
  {
   "cell_type": "code",
   "execution_count": 4,
   "id": "aeea93a3-7d7d-4f19-9f12-577ae4354741",
   "metadata": {},
   "outputs": [
    {
     "name": "stdin",
     "output_type": "stream",
     "text": [
      "\n",
      "What is your name?  Counti\n",
      "Which mountain would you like to climb someday?  LuShan\n",
      "Would you like to let another person respond? (yes/no)  yes\n",
      "\n",
      "What is your name?  Jerry\n",
      "Which mountain would you like to climb someday?  WuGong\n",
      "Would you like to let another person respond? (yes/no)  no\n"
     ]
    },
    {
     "name": "stdout",
     "output_type": "stream",
     "text": [
      "\n",
      "--- Poll Results ---\n",
      "Counti would like to climb LuShan.\n",
      "Jerry would like to climb WuGong.\n"
     ]
    }
   ],
   "source": [
    "responses = {}\n",
    "# 设置一个标志，指出调查是否继续\n",
    "polling_active = True\n",
    "\n",
    "while polling_active:\n",
    "    # 提示输入被调查者的名字和回答\n",
    "    name = input(\"\\nWhat is your name? \")\n",
    "    response = input(\"Which mountain would you like to climb someday? \")\n",
    "    \n",
    "    # 将回答存储在字典中\n",
    "    responses[name] = response\n",
    "\n",
    "    # 看看是否还有人要参与调查\n",
    "    repeat = input(\"Would you like to let another person respond? (yes/no) \")\n",
    "    if repeat == 'no':\n",
    "        polling_active = False\n",
    "\n",
    "# 调查结束，显示结果\n",
    "print(\"\\n--- Poll Results ---\")\n",
    "for name, response in responses.items():\n",
    "    print(f\"{name} would like to climb {response}.\")"
   ]
  },
  {
   "cell_type": "markdown",
   "id": "5a8f76ce-f7dc-4678-b235-4976673e4dae",
   "metadata": {},
   "source": [
    "## 练习"
   ]
  },
  {
   "cell_type": "code",
   "execution_count": 1,
   "id": "eba2eb0b-cc22-42e9-8fdb-b33f452e925a",
   "metadata": {},
   "outputs": [
    {
     "name": "stdin",
     "output_type": "stream",
     "text": [
      "Which type of car do you want? BMW\n"
     ]
    },
    {
     "name": "stdout",
     "output_type": "stream",
     "text": [
      "Let me see if I can find you a BMW.\n"
     ]
    }
   ],
   "source": [
    "#7.1 汽车租赁\n",
    "car_type = input(\"Which type of car do you want?\")  \n",
    "print(f\"Let me see if I can find you a {car_type}.\")"
   ]
  },
  {
   "cell_type": "code",
   "execution_count": 2,
   "id": "b6908866-3865-4ef4-aa7c-0245f1c2e46d",
   "metadata": {},
   "outputs": [
    {
     "name": "stdin",
     "output_type": "stream",
     "text": [
      "How many people are having meals here? 5\n"
     ]
    },
    {
     "name": "stdout",
     "output_type": "stream",
     "text": [
      "Welcome!\n"
     ]
    }
   ],
   "source": [
    "#7.2 餐馆订位  \n",
    "num_people = int(input(\"How many people are having meals here?\"))  \n",
    "if num_people > 8:  \n",
    "    print(\"Sorry, there is not a table for you.\")  \n",
    "else:  \n",
    "    print(\"Welcome!\")"
   ]
  },
  {
   "cell_type": "code",
   "execution_count": 3,
   "id": "ee91551d-17ff-4aa1-a635-721d0fbcdece",
   "metadata": {},
   "outputs": [
    {
     "name": "stdin",
     "output_type": "stream",
     "text": [
      "please put in a number ： 9\n"
     ]
    },
    {
     "name": "stdout",
     "output_type": "stream",
     "text": [
      "9 不是 10 的整数倍。\n"
     ]
    }
   ],
   "source": [
    "#7.3 10 的整数倍  \n",
    "number = int(input(\"please put in a number ：\"))  \n",
    "\n",
    "if number % 10 == 0:  \n",
    "    print(f\"{number} 是 10 的整数倍。\")  \n",
    "else:  \n",
    "    print(f\"{number} 不是 10 的整数倍。\")"
   ]
  },
  {
   "cell_type": "code",
   "execution_count": 4,
   "id": "f9082c46-33be-4fc9-aa44-e321c8e41976",
   "metadata": {},
   "outputs": [
    {
     "name": "stdin",
     "output_type": "stream",
     "text": [
      "Please enter toppings of pizza you want('quit' to end): cheese\n"
     ]
    },
    {
     "name": "stdout",
     "output_type": "stream",
     "text": [
      " We are going to add:cheese\n"
     ]
    },
    {
     "name": "stdin",
     "output_type": "stream",
     "text": [
      "Please enter toppings of pizza you want('quit' to end): tomato\n"
     ]
    },
    {
     "name": "stdout",
     "output_type": "stream",
     "text": [
      " We are going to add:tomato\n"
     ]
    },
    {
     "name": "stdin",
     "output_type": "stream",
     "text": [
      "Please enter toppings of pizza you want('quit' to end): sausage\n"
     ]
    },
    {
     "name": "stdout",
     "output_type": "stream",
     "text": [
      " We are going to add:sausage\n"
     ]
    },
    {
     "name": "stdin",
     "output_type": "stream",
     "text": [
      "Please enter toppings of pizza you want('quit' to end): quit\n"
     ]
    }
   ],
   "source": [
    "#7.4 比萨配料  \n",
    "while True:  \n",
    "    topping = input(\"Please enter toppings of pizza you want('quit' to end):\")  \n",
    "    if topping.lower() == 'quit':  \n",
    "        break  \n",
    "    print(f\" We are going to add:{topping}\")"
   ]
  },
  {
   "cell_type": "code",
   "execution_count": 5,
   "id": "615bb720-a3b5-4f5b-aa71-184c52e7bf78",
   "metadata": {},
   "outputs": [
    {
     "name": "stdin",
     "output_type": "stream",
     "text": [
      "How old are you： 20\n"
     ]
    },
    {
     "name": "stdout",
     "output_type": "stream",
     "text": [
      "15 dollars\n"
     ]
    },
    {
     "name": "stdin",
     "output_type": "stream",
     "text": [
      "Is there anyone else to buy tickets（y/n）？ n\n"
     ]
    }
   ],
   "source": [
    "#7.5 电影票  \n",
    "while True:  \n",
    "    age = int(input(\"How old are you：\"))  \n",
    "    if age < 3:  \n",
    "        print(\"free\")  \n",
    "    elif age <= 12:  \n",
    "        print(\"10 dollars\")  \n",
    "    else:  \n",
    "        print(\"15 dollars\")  \n",
    "      \n",
    "    if input(\"Is there anyone else to buy tickets（y/n）？\").lower() != 'y':  \n",
    "        break"
   ]
  },
  {
   "cell_type": "code",
   "execution_count": 7,
   "id": "2ce1a622-5d60-459f-bdbb-7ba834bc05e3",
   "metadata": {},
   "outputs": [
    {
     "name": "stdin",
     "output_type": "stream",
     "text": [
      "Please enter toppings of pizza you want('quit' to end): cheese\n"
     ]
    },
    {
     "name": "stdout",
     "output_type": "stream",
     "text": [
      "We are going to add:cheese.\n"
     ]
    },
    {
     "name": "stdin",
     "output_type": "stream",
     "text": [
      "Please enter toppings of pizza you want('quit' to end): quit\n"
     ]
    }
   ],
   "source": [
    "#7.6 使用 while 循环和条件测试  \n",
    "active = True  \n",
    "while active:  \n",
    "    topping = input(\"Please enter toppings of pizza you want('quit' to end):\")  \n",
    "    if topping.lower() == 'quit':  \n",
    "        active = False  \n",
    "    else:  \n",
    "        print(f\"We are going to add:{topping}.\")"
   ]
  },
  {
   "cell_type": "code",
   "execution_count": 8,
   "id": "455f3633-02e4-48ce-b58f-9c238897efc4",
   "metadata": {},
   "outputs": [
    {
     "name": "stdin",
     "output_type": "stream",
     "text": [
      "Please enter toppings of pizza you want('quit' to end): cheese\n"
     ]
    },
    {
     "name": "stdout",
     "output_type": "stream",
     "text": [
      "We are going to add:cheese.\n"
     ]
    },
    {
     "name": "stdin",
     "output_type": "stream",
     "text": [
      "Please enter toppings of pizza you want('quit' to end): quit\n"
     ]
    }
   ],
   "source": [
    "#7.6 使用变量来控制循环  \n",
    "active = True  \n",
    "while active:  \n",
    "    topping = input(\"Please enter toppings of pizza you want('quit' to end):\")  \n",
    "    if topping.lower() == 'quit':  \n",
    "        active = False  \n",
    "    else:  \n",
    "        print(f\"We are going to add:{topping}.\")"
   ]
  },
  {
   "cell_type": "code",
   "execution_count": 9,
   "id": "7c92d2c3-c942-4ce8-92d5-203efc4d5a1b",
   "metadata": {},
   "outputs": [
    {
     "name": "stdin",
     "output_type": "stream",
     "text": [
      "Please enter toppings of pizza you want('quit' to end): cheese\n"
     ]
    },
    {
     "name": "stdout",
     "output_type": "stream",
     "text": [
      "We are going to add:cheese.cheese.\n"
     ]
    },
    {
     "name": "stdin",
     "output_type": "stream",
     "text": [
      "Please enter toppings of pizza you want('quit' to end): quit\n"
     ]
    }
   ],
   "source": [
    "#7.6 使用 break 语句退出循环  \n",
    "while True:  \n",
    "    topping = input(\"Please enter toppings of pizza you want('quit' to end):\")  \n",
    "    if topping.lower() == 'quit':  \n",
    "        break  \n",
    "    print(f\"We are going to add:{topping}.{topping}.\")"
   ]
  },
  {
   "cell_type": "code",
   "execution_count": 1,
   "id": "0cd611a3-e1c2-4a7f-a5d3-c0bf89761918",
   "metadata": {},
   "outputs": [
    {
     "name": "stdout",
     "output_type": "stream",
     "text": [
      "I made your tuna sandwich.\n",
      "I made your ham sandwich.\n",
      "I made your cheese sandwich.\n",
      "I made your chicken sandwich.\n",
      "I made your turkey sandwich.\n",
      "All sandwiches are finished:\n",
      "tuna\n",
      "ham\n",
      "cheese\n",
      "chicken\n",
      "turkey\n"
     ]
    }
   ],
   "source": [
    "#7.8 熟食店\n",
    "sandwich_orders = ['tuna', 'ham', 'cheese', 'chicken', 'turkey']  \n",
    "finished_sandwiches = []  \n",
    "  \n",
    "for sandwich in sandwich_orders:  \n",
    "    print(f\"I made your {sandwich} sandwich.\")  \n",
    "    finished_sandwiches.append(sandwich)  \n",
    "  \n",
    "print(\"All sandwiches are finished:\")  \n",
    "for sandwich in finished_sandwiches:  \n",
    "    print(sandwich)"
   ]
  },
  {
   "cell_type": "code",
   "execution_count": 2,
   "id": "c01eca48-27c7-4b18-9cdb-c9321df048a3",
   "metadata": {},
   "outputs": [
    {
     "name": "stdout",
     "output_type": "stream",
     "text": [
      "We're sorry, we're out of pastrami!\n",
      "I made your tuna sandwich.\n",
      "I made your ham sandwich.\n",
      "I made your cheese sandwich.\n",
      "I made your turkey sandwich.\n",
      "All sandwiches (except pastrami) are finished:\n",
      "tuna\n",
      "ham\n",
      "cheese\n",
      "turkey\n"
     ]
    }
   ],
   "source": [
    "#7.9 五香烟熏牛肉卖完了\n",
    "sandwich_orders = ['tuna', 'pastrami', 'ham', 'cheese', 'pastrami', 'turkey', 'pastrami']  \n",
    "finished_sandwiches = []  \n",
    "  \n",
    "print(\"We're sorry, we're out of pastrami!\")  \n",
    "  \n",
    "while 'pastrami' in sandwich_orders:  \n",
    "    sandwich_orders.remove('pastrami')  \n",
    "  \n",
    "for sandwich in sandwich_orders:  \n",
    "    print(f\"I made your {sandwich} sandwich.\")  \n",
    "    finished_sandwiches.append(sandwich)  \n",
    "  \n",
    "print(\"All sandwiches (except pastrami) are finished:\")  \n",
    "for sandwich in finished_sandwiches:  \n",
    "    print(sandwich)  \n",
    "  \n",
    "assert 'pastrami' not in finished_sandwiches, \"Pastrami should not be in the finished sandwiches list.\""
   ]
  },
  {
   "cell_type": "code",
   "execution_count": 6,
   "id": "3583d8c7-cb2f-4d9a-b6db-6ab53213302f",
   "metadata": {},
   "outputs": [
    {
     "name": "stdin",
     "output_type": "stream",
     "text": [
      "\n",
      "What is your name? Counti\n",
      "If you could visit one place in the world, where would you go?  LA\n",
      "Would you like to let another person respond? (yes/no) yes\n",
      "\n",
      "What is your name? Jerry\n",
      "If you could visit one place in the world, where would you go?  XinJiang\n",
      "Would you like to let another person respond? (yes/no) no\n"
     ]
    },
    {
     "name": "stdout",
     "output_type": "stream",
     "text": [
      "\n",
      "--- Poll Results ---\n",
      "Counti's dream vacation spot is: LA\n",
      "Jerry's dream vacation spot is: XinJiang\n"
     ]
    }
   ],
   "source": [
    "#7.10 梦想中的度假胜地\n",
    "responses ={}\n",
    "polling_active = True\n",
    "\n",
    "while polling_active:\n",
    "    name = input(\"\\nWhat is your name?\")\n",
    "    dream_vacation = input(\"If you could visit one place in the world, where would you go? \")  \n",
    "\n",
    "    responses[name] = dream_vacation\n",
    "\n",
    "    repeat = input(\"Would you like to let another person respond? (yes/no)\")\n",
    "    if repeat == 'no':\n",
    "        polling_active = False\n",
    "\n",
    "print(\"\\n--- Poll Results ---\")\n",
    "for name, dream_vacation in responses.items():\n",
    "    print(f\"{name}'s dream vacation spot is: {dream_vacation}\")  "
   ]
  }
 ],
 "metadata": {
  "kernelspec": {
   "display_name": "Python 3 (ipykernel)",
   "language": "python",
   "name": "python3"
  },
  "language_info": {
   "codemirror_mode": {
    "name": "ipython",
    "version": 3
   },
   "file_extension": ".py",
   "mimetype": "text/x-python",
   "name": "python",
   "nbconvert_exporter": "python",
   "pygments_lexer": "ipython3",
   "version": "3.11.7"
  }
 },
 "nbformat": 4,
 "nbformat_minor": 5
}
