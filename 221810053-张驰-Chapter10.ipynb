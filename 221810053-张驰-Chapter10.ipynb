{
 "cells": [
  {
   "cell_type": "markdown",
   "id": "5b70702b-b597-4d48-bc89-f0afaf833510",
   "metadata": {},
   "source": [
    "# 第十章 文件和异常"
   ]
  },
  {
   "cell_type": "markdown",
   "id": "afcc0e71-37e2-4794-9986-ed0282164c65",
   "metadata": {},
   "source": [
    "## 10.1 读取文件"
   ]
  },
  {
   "cell_type": "markdown",
   "id": "3ab27f2a-1e3f-4084-9aa7-7887cd36cedb",
   "metadata": {},
   "source": [
    "### 10.1.1读取文件的全部内容"
   ]
  },
  {
   "cell_type": "code",
   "execution_count": 1,
   "id": "2c62817a-54d6-46b2-8626-8d4e8a246a48",
   "metadata": {},
   "outputs": [
    {
     "name": "stdout",
     "output_type": "stream",
     "text": [
      "3.1415926535\n",
      "  8979323846\n",
      "  2643383279\n"
     ]
    }
   ],
   "source": [
    "from pathlib import Path\n",
    "path = Path('pi_digits.txt')\n",
    "contents = path.read_text()\n",
    "print(contents)"
   ]
  },
  {
   "cell_type": "code",
   "execution_count": 2,
   "id": "2a9ae6ed-0f3a-48eb-82ba-894e2ebcf7f7",
   "metadata": {},
   "outputs": [
    {
     "name": "stdout",
     "output_type": "stream",
     "text": [
      "3.1415926535\n",
      "  8979323846\n",
      "  2643383279\n"
     ]
    }
   ],
   "source": [
    "from pathlib import Path\n",
    "path = Path('pi_digits.txt')\n",
    "contents = path.read_text()\n",
    "contents = contents.rstrip()\n",
    "print(contents)"
   ]
  },
  {
   "cell_type": "code",
   "execution_count": 3,
   "id": "da032303-d005-4734-8b0b-4c42569af228",
   "metadata": {},
   "outputs": [
    {
     "name": "stdout",
     "output_type": "stream",
     "text": [
      "3.1415926535\n",
      "  8979323846\n",
      "  2643383279\n"
     ]
    }
   ],
   "source": [
    "from pathlib import Path\n",
    "path = Path('pi_digits.txt')\n",
    "contents = path.read_text().rstrip()\n",
    "print(contents)"
   ]
  },
  {
   "cell_type": "markdown",
   "id": "c361b84d-6049-440d-99e6-45fdf600e86a",
   "metadata": {},
   "source": [
    "### 10.1.2 相对文件路径和绝对文件路径"
   ]
  },
  {
   "cell_type": "code",
   "execution_count": 4,
   "id": "8db741a4-1b42-43fe-a9f4-b9078fd4d455",
   "metadata": {},
   "outputs": [],
   "source": [
    "#相对路径\n",
    "path = Path('text_files/filename.txt')\n",
    "#绝对路径\n",
    "path = Path('/home/eric/data_files/text_files/filename.txt')"
   ]
  },
  {
   "cell_type": "markdown",
   "id": "f4e1e91a-885f-4abf-b47e-7c7d63d15f8e",
   "metadata": {},
   "source": [
    "### 10.1.3 访问文件中的各行"
   ]
  },
  {
   "cell_type": "code",
   "execution_count": 5,
   "id": "dca30d3c-72b9-40ad-9b46-ad43f7ddec24",
   "metadata": {},
   "outputs": [
    {
     "name": "stdout",
     "output_type": "stream",
     "text": [
      "3.1415926535\n",
      "  8979323846\n",
      "  2643383279\n"
     ]
    }
   ],
   "source": [
    "from pathlib import Path\n",
    "path = Path('pi_digits.txt')\n",
    "lines = contents.splitlines()\n",
    "for line in lines:\n",
    "    print(line)"
   ]
  },
  {
   "cell_type": "markdown",
   "id": "893d10c6-123d-4c52-9a3a-f0a2c1afd7a5",
   "metadata": {},
   "source": [
    "### 10.1.4 使用文件的内容"
   ]
  },
  {
   "cell_type": "code",
   "execution_count": 6,
   "id": "39326356-40db-458a-a9ee-78bdf18d22d1",
   "metadata": {},
   "outputs": [
    {
     "name": "stdout",
     "output_type": "stream",
     "text": [
      "3.1415926535  8979323846  2643383279\n",
      "36\n"
     ]
    }
   ],
   "source": [
    "from pathlib import Path\n",
    "\n",
    "path = Path('pi_digits.txt')\n",
    "contents = path.read_text()\n",
    "\n",
    "lines = contents.splitlines()\n",
    "pi_string = ''\n",
    "for line in lines:\n",
    "    pi_string += line\n",
    "\n",
    "print(pi_string)\n",
    "print(len(pi_string))"
   ]
  },
  {
   "cell_type": "code",
   "execution_count": 7,
   "id": "3d7e16b2-134b-41ed-8853-492e09198e7f",
   "metadata": {},
   "outputs": [
    {
     "name": "stdout",
     "output_type": "stream",
     "text": [
      "3.141592653589793238462643383279\n",
      "32\n"
     ]
    }
   ],
   "source": [
    "from pathlib import Path\n",
    "\n",
    "path = Path('pi_digits.txt')\n",
    "contents = path.read_text()\n",
    "\n",
    "lines = contents.splitlines()\n",
    "pi_string = ''\n",
    "for line in lines:\n",
    "    pi_string += line.lstrip()\n",
    "\n",
    "print(pi_string)\n",
    "print(len(pi_string))"
   ]
  },
  {
   "cell_type": "markdown",
   "id": "f1d5ab6a-55ed-4f54-9057-f2a77296fb3d",
   "metadata": {},
   "source": [
    "### 10.1.5 包含100万位的大型文件"
   ]
  },
  {
   "cell_type": "markdown",
   "id": "dcf44630-52ee-47a2-b7d1-86a8096095d8",
   "metadata": {},
   "source": [
    "### 10.1.6 圆周率中包含你的生日吗"
   ]
  },
  {
   "cell_type": "code",
   "execution_count": null,
   "id": "8c639793-db52-4122-a1c4-6aa21da6c389",
   "metadata": {},
   "outputs": [],
   "source": [
    "from pathlib import Path\n",
    "\n",
    "path = Path('pi_million_digits.txt')\n",
    "contents = path.read_text()\n",
    "\n",
    "lines = contents.splitlines()\n",
    "pi_string = ''\n",
    "for line in lines:\n",
    "    pi_string += line.lstrip()\n",
    "\n",
    "print(f\"{pi_string[:52]}...\")\n",
    "print(len(pi_string))"
   ]
  },
  {
   "cell_type": "code",
   "execution_count": null,
   "id": "5a41f9dc-2b86-40eb-8202-a7a1916616d5",
   "metadata": {},
   "outputs": [],
   "source": [
    "from pathlib import Path\n",
    "\n",
    "path = Path('pi_million_digits.txt')\n",
    "contents = path.read_text()\n",
    "\n",
    "lines = contents.splitlines()\n",
    "pi_string = ''\n",
    "for line in lines:\n",
    "    pi_string += line.lstrip()\n",
    "\n",
    "birthday = input(\"Enter your birthday, in the form mmddyy: \")\n",
    "if birthday in pi_string:\n",
    "    print(\"Your birthday appears in the first million digits of pi!\")\n",
    "else:\n",
    "    print(\"Your birthday does not appear in the first million digits of pi.\")"
   ]
  },
  {
   "cell_type": "markdown",
   "id": "37392f93-d2dc-4ae3-86c9-b89a0e470d2c",
   "metadata": {},
   "source": [
    "## 10.2 写入文件"
   ]
  },
  {
   "cell_type": "markdown",
   "id": "22d30e0c-4af3-4401-93bc-d5149c74a4c9",
   "metadata": {},
   "source": [
    "### 10.2.1 写入一行"
   ]
  },
  {
   "cell_type": "code",
   "execution_count": 9,
   "id": "1a26135c-9fe7-4c2b-801f-2818b454d0e6",
   "metadata": {},
   "outputs": [
    {
     "data": {
      "text/plain": [
       "19"
      ]
     },
     "execution_count": 9,
     "metadata": {},
     "output_type": "execute_result"
    }
   ],
   "source": [
    "from pathlib import Path\n",
    "path = Path('programming.txt')\n",
    "path.write_text(\"I love programming.\")"
   ]
  },
  {
   "cell_type": "markdown",
   "id": "14228dbb-cfe5-4e11-92fb-8aa402c76af6",
   "metadata": {},
   "source": [
    "### 10.2.2 写入多行"
   ]
  },
  {
   "cell_type": "code",
   "execution_count": 10,
   "id": "212cab4e-71a1-4969-ab8a-f3744a8ba368",
   "metadata": {},
   "outputs": [
    {
     "data": {
      "text/plain": [
       "78"
      ]
     },
     "execution_count": 10,
     "metadata": {},
     "output_type": "execute_result"
    }
   ],
   "source": [
    "from pathlib import Path \n",
    "\n",
    "contents = \"I love programming.\\n\"\n",
    "contents += \"I love creating new games.\\n\"\n",
    "contents += \"I also love working with data.\\n\"\n",
    "\n",
    "path = Path('programming.txt')\n",
    "path.write_text(contents)"
   ]
  },
  {
   "cell_type": "markdown",
   "id": "ced34c52-7b22-492c-a8e2-a10e93f07075",
   "metadata": {},
   "source": [
    "## 10.3 异常"
   ]
  },
  {
   "cell_type": "markdown",
   "id": "8e830732-4628-44e9-a9fd-c26fad1fe8fd",
   "metadata": {},
   "source": [
    "### 10.3.1 处理ZeroDivisionError异常"
   ]
  },
  {
   "cell_type": "code",
   "execution_count": 11,
   "id": "a61f9dd6-5b38-4efe-b89c-0af1cd9ac762",
   "metadata": {},
   "outputs": [
    {
     "ename": "ZeroDivisionError",
     "evalue": "division by zero",
     "output_type": "error",
     "traceback": [
      "\u001b[1;31m---------------------------------------------------------------------------\u001b[0m",
      "\u001b[1;31mZeroDivisionError\u001b[0m                         Traceback (most recent call last)",
      "Cell \u001b[1;32mIn[11], line 1\u001b[0m\n\u001b[1;32m----> 1\u001b[0m \u001b[38;5;28mprint\u001b[39m(\u001b[38;5;241m5\u001b[39m\u001b[38;5;241m/\u001b[39m\u001b[38;5;241m0\u001b[39m)\n",
      "\u001b[1;31mZeroDivisionError\u001b[0m: division by zero"
     ]
    }
   ],
   "source": [
    "print(5/0)"
   ]
  },
  {
   "cell_type": "markdown",
   "id": "ab94d044-0293-4e82-8b72-1b9fd6f1630e",
   "metadata": {},
   "source": [
    "### 10.3.2 使用try-except代码块"
   ]
  },
  {
   "cell_type": "code",
   "execution_count": 12,
   "id": "a6c430b2-0164-4d93-a14a-234ec926cd20",
   "metadata": {},
   "outputs": [
    {
     "name": "stdout",
     "output_type": "stream",
     "text": [
      "You can't divide by zero!\n"
     ]
    }
   ],
   "source": [
    "try:\n",
    "    print(5/0)\n",
    "except ZeroDivisionError:\n",
    "    print(\"You can't divide by zero!\")"
   ]
  },
  {
   "cell_type": "markdown",
   "id": "4f38186a-d7be-49ab-907a-419bb13a262c",
   "metadata": {},
   "source": [
    "### 10.3.3 使用异常避免崩溃"
   ]
  },
  {
   "cell_type": "code",
   "execution_count": 13,
   "id": "2a0c1dcd-a12d-4d37-ad75-87286eef607f",
   "metadata": {},
   "outputs": [
    {
     "name": "stdout",
     "output_type": "stream",
     "text": [
      "Give me two numbers, and I'll divide them.\n",
      "Enter 'q' to quit.\n"
     ]
    },
    {
     "name": "stdin",
     "output_type": "stream",
     "text": [
      "\n",
      "First number: 7\n",
      "Second number: 4\n"
     ]
    },
    {
     "name": "stdout",
     "output_type": "stream",
     "text": [
      "1.75\n"
     ]
    },
    {
     "name": "stdin",
     "output_type": "stream",
     "text": [
      "\n",
      "First number: 7\n",
      "Second number: 0\n"
     ]
    },
    {
     "ename": "ZeroDivisionError",
     "evalue": "division by zero",
     "output_type": "error",
     "traceback": [
      "\u001b[1;31m---------------------------------------------------------------------------\u001b[0m",
      "\u001b[1;31mZeroDivisionError\u001b[0m                         Traceback (most recent call last)",
      "Cell \u001b[1;32mIn[13], line 11\u001b[0m\n\u001b[0;32m      9\u001b[0m \u001b[38;5;28;01mif\u001b[39;00m second_number \u001b[38;5;241m==\u001b[39m \u001b[38;5;124m'\u001b[39m\u001b[38;5;124mq\u001b[39m\u001b[38;5;124m'\u001b[39m:\n\u001b[0;32m     10\u001b[0m     \u001b[38;5;28;01mbreak\u001b[39;00m\n\u001b[1;32m---> 11\u001b[0m answer \u001b[38;5;241m=\u001b[39m \u001b[38;5;28mint\u001b[39m(first_number)\u001b[38;5;241m/\u001b[39m\u001b[38;5;28mint\u001b[39m(second_number)\n\u001b[0;32m     12\u001b[0m \u001b[38;5;28mprint\u001b[39m(answer)\n",
      "\u001b[1;31mZeroDivisionError\u001b[0m: division by zero"
     ]
    }
   ],
   "source": [
    "print(\"Give me two numbers, and I'll divide them.\")\n",
    "print(\"Enter 'q' to quit.\")\n",
    "\n",
    "while True:\n",
    "    first_number = input(\"\\nFirst number:\")\n",
    "    if first_number == 'q':\n",
    "        break\n",
    "    second_number = input(\"Second number:\")\n",
    "    if second_number == 'q':\n",
    "        break\n",
    "    answer = int(first_number)/int(second_number)\n",
    "    print(answer)"
   ]
  },
  {
   "cell_type": "markdown",
   "id": "beda3235-dc9a-49f0-b9d2-463b60ced997",
   "metadata": {},
   "source": [
    "### 10.3.4 else代码块"
   ]
  },
  {
   "cell_type": "code",
   "execution_count": 14,
   "id": "d1efb255-b8cd-48b5-ab4e-6e3422cb0470",
   "metadata": {},
   "outputs": [
    {
     "name": "stdout",
     "output_type": "stream",
     "text": [
      "Give me two numbers, and I'll divide them.\n",
      "Enter 'q' to quit.\n"
     ]
    },
    {
     "name": "stdin",
     "output_type": "stream",
     "text": [
      "\n",
      "First number: 7\n",
      "Second number: 0\n"
     ]
    },
    {
     "name": "stdout",
     "output_type": "stream",
     "text": [
      "You can't divide by 0!\n"
     ]
    },
    {
     "name": "stdin",
     "output_type": "stream",
     "text": [
      "\n",
      "First number: 7\n",
      "Second number: 4\n"
     ]
    },
    {
     "name": "stdout",
     "output_type": "stream",
     "text": [
      "1.75\n"
     ]
    },
    {
     "name": "stdin",
     "output_type": "stream",
     "text": [
      "\n",
      "First number: q\n"
     ]
    }
   ],
   "source": [
    "print(\"Give me two numbers, and I'll divide them.\")\n",
    "print(\"Enter 'q' to quit.\")\n",
    "\n",
    "while True:\n",
    "    first_number = input(\"\\nFirst number:\")\n",
    "    if first_number == 'q':\n",
    "        break\n",
    "    second_number = input(\"Second number:\")\n",
    "    if second_number == 'q':\n",
    "        break\n",
    "    try:\n",
    "        answer = int(first_number)/int(second_number)\n",
    "    except ZeroDivisionError:\n",
    "        print(\"You can't divide by 0!\")\n",
    "    else:\n",
    "        print(answer)"
   ]
  },
  {
   "cell_type": "markdown",
   "id": "f4d71333-f4db-45ba-9154-e030b5437813",
   "metadata": {},
   "source": [
    "### 10.3.5 处理FileFoundError异常"
   ]
  },
  {
   "cell_type": "code",
   "execution_count": null,
   "id": "bf9bfa01-52e3-490d-af47-6569361d0b1d",
   "metadata": {},
   "outputs": [],
   "source": [
    "from pathlib import Path \n",
    "\n",
    "path = Path('alice.txt')\n",
    "contents = path.read_text(encoding='utf-8')"
   ]
  },
  {
   "cell_type": "code",
   "execution_count": null,
   "id": "bd50916b-5ec2-4cc8-b6cc-068f7f44c5e2",
   "metadata": {},
   "outputs": [],
   "source": [
    "from pathlib import Path \n",
    "\n",
    "path = Path('alice.txt')\n",
    "try:\n",
    "    contents = path.read_text(encoding='utf-8')\n",
    "except FileNotFoundError:\n",
    "    print(f\"Sorry, the file {path} does not exist.\")"
   ]
  },
  {
   "cell_type": "markdown",
   "id": "14302108-70e8-4f64-96d8-ef548d874f29",
   "metadata": {},
   "source": [
    "### 10.3.6 分析文本"
   ]
  },
  {
   "cell_type": "code",
   "execution_count": null,
   "id": "06301f7d-8cd3-44e4-be30-7833b5cb6bcf",
   "metadata": {},
   "outputs": [],
   "source": [
    "from pathlib import Path\n",
    "\n",
    "path = Path('alice.txt')\n",
    "try:\n",
    "    contents = path.read_text(encoding='utf-8')\n",
    "except FileNotFoundError:\n",
    "    print(f\"Sorry, the file {path} does not exist.\")\n",
    "else:\n",
    "    #计算文件大致包含多少个单词\n",
    "    words = contents.split()\n",
    "    num_words = len(words)\n",
    "    print(f\"The file {path} has about {num_words} words.\")"
   ]
  },
  {
   "cell_type": "markdown",
   "id": "dc8a1822-6c18-469d-a562-86d220c1f2b6",
   "metadata": {},
   "source": [
    "### 10.3.7 使用多个文件"
   ]
  },
  {
   "cell_type": "code",
   "execution_count": 16,
   "id": "c9b9c0bd-00c8-4f1c-9686-ba8bed0e45ce",
   "metadata": {},
   "outputs": [
    {
     "name": "stdout",
     "output_type": "stream",
     "text": [
      "Sorry, the file alice.txt does not exist.\n"
     ]
    }
   ],
   "source": [
    "from pathlib import Path\n",
    "\n",
    "def count_words(path):\n",
    "    \"\"\"计算一个文件大致包含多少个单词\"\"\"\n",
    "    try:\n",
    "        contents = path.read_text(encoding='utf-8')\n",
    "    except FileNotFoundError:\n",
    "        print(f\"Sorry, the file {path} does not exist.\")\n",
    "    else:\n",
    "        #计算文件大致包含多少个单词\n",
    "        words = contents.split()\n",
    "        num_words = len(words)\n",
    "        print(f\"The file {path} has about {num_words} words.\")\n",
    "\n",
    "path = Path('alice.txt')\n",
    "count_words(path)"
   ]
  },
  {
   "cell_type": "code",
   "execution_count": 17,
   "id": "936d74ac-db63-442d-af4c-ec9923d860a7",
   "metadata": {},
   "outputs": [
    {
     "name": "stdout",
     "output_type": "stream",
     "text": [
      "Sorry, the file alice.txt does not exist.\n",
      "Sorry, the file siddhartha.txt does not exist.\n",
      "Sorry, the file moby_dick.txt does not exist.\n",
      "Sorry, the file little_women.txt does not exist.\n"
     ]
    }
   ],
   "source": [
    "from pathlib import Path\n",
    "\n",
    "def count_words(filename):\n",
    "    \"\"\"计算一个文件大致包含多少个单词\"\"\"\n",
    "    try:\n",
    "        contents = path.read_text(encoding='utf-8')\n",
    "    except FileNotFoundError:\n",
    "        print(f\"Sorry, the file {path} does not exist.\")\n",
    "    else:\n",
    "        #计算文件大致包含多少个单词\n",
    "        words = contents.split()\n",
    "        num_words = len(words)\n",
    "        print(f\"The file {path} has about {num_words} words.\")\n",
    "\n",
    "filenames =  ['alice.txt','siddhartha.txt','moby_dick.txt','little_women.txt']\n",
    "for filename in filenames:\n",
    "    path = Path(filename)\n",
    "    count_words(path)"
   ]
  },
  {
   "cell_type": "markdown",
   "id": "bd9ce852-b25c-4a51-ba8f-20e729a29f05",
   "metadata": {},
   "source": [
    "### 10.3.8 静默失败"
   ]
  },
  {
   "cell_type": "code",
   "execution_count": 18,
   "id": "b0ab97e9-cb6c-4ab5-9d03-af513788d1d4",
   "metadata": {},
   "outputs": [],
   "source": [
    "def count_words(path):\n",
    "    \"\"\"计算一个文件大致包含多少个单词\"\"\"\n",
    "    try:\n",
    "        contents = path.read_text(encoding='utf-8')\n",
    "    except FileNotFoundError:\n",
    "        pass\n",
    "    else:\n",
    "         #计算文件大致包含多少个单词\n",
    "        words = contents.split()\n",
    "        num_words = len(words)\n",
    "        print(f\"The file {path} has about {num_words} words.\")\n",
    "\n",
    "filenames =  ['alice.txt','siddhartha.txt','moby_dick.txt','little_women.txt']\n",
    "for filename in filenames:\n",
    "    path = Path(filename)\n",
    "    count_words(path)"
   ]
  },
  {
   "cell_type": "markdown",
   "id": "9da3f010-2c3d-4d8c-aee9-52d943c0c775",
   "metadata": {},
   "source": [
    "## 10.4 存储数据"
   ]
  },
  {
   "cell_type": "markdown",
   "id": "cdd21024-8aa0-4657-bb5c-2673290f85e3",
   "metadata": {},
   "source": [
    "### 10.4.1 使用json.dumps()和json.loads()"
   ]
  },
  {
   "cell_type": "code",
   "execution_count": 19,
   "id": "bc34e964-3a6f-4a4a-9f74-8b5ca175e5c5",
   "metadata": {},
   "outputs": [
    {
     "data": {
      "text/plain": [
       "20"
      ]
     },
     "execution_count": 19,
     "metadata": {},
     "output_type": "execute_result"
    }
   ],
   "source": [
    "from pathlib import Path\n",
    "import json\n",
    "\n",
    "numbers = [2,3,5,7,11,13]\n",
    "\n",
    "path = Path('numbers.json')\n",
    "contents = json.dumps(numbers)\n",
    "path.write_text(contents)"
   ]
  },
  {
   "cell_type": "code",
   "execution_count": 20,
   "id": "4b301413-1627-461c-ac8f-4a58968c4cb3",
   "metadata": {},
   "outputs": [
    {
     "name": "stdout",
     "output_type": "stream",
     "text": [
      "[2, 3, 5, 7, 11, 13]\n"
     ]
    }
   ],
   "source": [
    "from pathlib import Path\n",
    "import json\n",
    "\n",
    "path = Path('numbers.json')\n",
    "contents = path.read_text()\n",
    "numbers = json.loads(contents)\n",
    "\n",
    "print(numbers)"
   ]
  },
  {
   "cell_type": "markdown",
   "id": "0ac94865-b642-46b4-a49d-28c94290dcff",
   "metadata": {},
   "source": [
    "### 10.4.2 保存和读取用户生成的数据"
   ]
  },
  {
   "cell_type": "code",
   "execution_count": 21,
   "id": "8d471697-7087-4f40-ade4-89f3d407acdb",
   "metadata": {},
   "outputs": [
    {
     "name": "stdin",
     "output_type": "stream",
     "text": [
      "What is your name? Counti\n"
     ]
    },
    {
     "name": "stdout",
     "output_type": "stream",
     "text": [
      "We'll remember you when you come back, Counti!\n"
     ]
    }
   ],
   "source": [
    "from pathlib import Path\n",
    "import json\n",
    "\n",
    "username = input(\"What is your name?\")\n",
    "\n",
    "path = Path('username.json')\n",
    "contents = json.dumps(username)\n",
    "path.write_text(contents)\n",
    "\n",
    "print(f\"We'll remember you when you come back, {username}!\")"
   ]
  },
  {
   "cell_type": "code",
   "execution_count": 22,
   "id": "e7243578-440c-40c0-8800-e32c83e85266",
   "metadata": {},
   "outputs": [
    {
     "name": "stdout",
     "output_type": "stream",
     "text": [
      "Welcome back, Counti!\n"
     ]
    }
   ],
   "source": [
    "from pathlib import Path\n",
    "import json\n",
    "\n",
    "path = Path('username.json')\n",
    "contents = path.read_text()\n",
    "username = json.loads(contents)\n",
    "\n",
    "print(f\"Welcome back, {username}!\")"
   ]
  },
  {
   "cell_type": "code",
   "execution_count": 23,
   "id": "219a53de-a31b-442d-9308-982a487a34de",
   "metadata": {},
   "outputs": [
    {
     "name": "stdout",
     "output_type": "stream",
     "text": [
      "Welcome back, Counti!\n"
     ]
    }
   ],
   "source": [
    "from pathlib import Path\n",
    "import json\n",
    "\n",
    "path = Path('username.json')\n",
    "if path.exists():\n",
    "    contents = path.read_text()\n",
    "    username = json.loads(contents)\n",
    "    print(f\"Welcome back, {username}!\")\n",
    "else:\n",
    "    username = input(\"What is your name? \")\n",
    "    contents = json.dumps(username)\n",
    "    path.write_text(contents)\n",
    "    print(f\"We'll remember you when you come back, {username}!\")"
   ]
  },
  {
   "cell_type": "markdown",
   "id": "8706b286-d6fa-4c7e-804c-6bb5ca1467d7",
   "metadata": {},
   "source": [
    "### 10.4.3 重构"
   ]
  },
  {
   "cell_type": "code",
   "execution_count": 24,
   "id": "96ec9ffb-c1c1-41aa-a7ac-0a112144387e",
   "metadata": {},
   "outputs": [
    {
     "name": "stdout",
     "output_type": "stream",
     "text": [
      "Welcome back, Counti!\n"
     ]
    }
   ],
   "source": [
    "from pathlib import Path\n",
    "import json\n",
    "\n",
    "def greet_user():\n",
    "    \"\"\"问候用户，并指出其名字\"\"\"\n",
    "    path = Path('username.json')\n",
    "    if path.exists():\n",
    "        contents = path.read_text()\n",
    "        username = json.loads(contents)\n",
    "        print(f\"Welcome back, {username}!\")\n",
    "    else:\n",
    "        username = input(\"What is your name? \")\n",
    "        contents = json.dumps(username)\n",
    "        path.write_text(contents)\n",
    "        print(f\"We'll remember you when you come back, {username}!\")\n",
    "\n",
    "greet_user()"
   ]
  },
  {
   "cell_type": "code",
   "execution_count": 25,
   "id": "e5c76737-aa43-4540-9a7b-b02cdccee8ab",
   "metadata": {},
   "outputs": [
    {
     "name": "stdout",
     "output_type": "stream",
     "text": [
      "Welcome back, Counti!\n"
     ]
    }
   ],
   "source": [
    "from pathlib import Path\n",
    "import json\n",
    "\n",
    "def get_stored_username(path):\n",
    "    \"\"\"如果存储了用户名，就获取它\"\"\"\n",
    "    if path.exists():\n",
    "        contents = path.read_text()\n",
    "        username = json.loads(contents)\n",
    "        return username\n",
    "    else:\n",
    "        return None\n",
    "\n",
    "def greet_user():\n",
    "    \"\"\"问候用户，并指出其名字\"\"\"\n",
    "    path = Path('username.json')\n",
    "    username = get_stored_username(path)\n",
    "    if username:\n",
    "        print(f\"Welcome back, {username}!\")\n",
    "    else:\n",
    "        username = input(\"What is your name? \")\n",
    "        contents = json.dumps(username)\n",
    "        path.write_text(contents)\n",
    "        print(f\"We'll remember you when you come back, {username}!\")\n",
    "\n",
    "greet_user()"
   ]
  },
  {
   "cell_type": "code",
   "execution_count": 26,
   "id": "ea4fcdc3-cada-48fe-a95a-318862ac70c7",
   "metadata": {},
   "outputs": [
    {
     "name": "stdout",
     "output_type": "stream",
     "text": [
      "Welcome back, Counti!\n"
     ]
    }
   ],
   "source": [
    "from pathlib import Path\n",
    "import json\n",
    "\n",
    "def get_stored_username(path):\n",
    "    \"\"\"如果存储了用户名，就获取它\"\"\"\n",
    "    if path.exists():\n",
    "        contents = path.read_text()\n",
    "        username = json.loads(contents)\n",
    "        return username\n",
    "    else:\n",
    "        return None\n",
    "\n",
    "def get_new_username(path):\n",
    "    \"\"\"提示用户输入用户名\"\"\"\n",
    "    username = input(\"What is your name? \")\n",
    "    contents = json.dumps(username)\n",
    "    path.write_text(contents)\n",
    "    return username\n",
    "\n",
    "def greet_user():\n",
    "    \"\"\"问候用户，并指出其名字\"\"\"\n",
    "    path = Path('username.json')\n",
    "    username = get_stored_username(path)\n",
    "    if username:\n",
    "        print(f\"Welcome back, {username}!\")\n",
    "    else:\n",
    "        username = get_new_username(path)\n",
    "        print(f\"We'll remember you when you come back, {username}!\")\n",
    "\n",
    "greet_user()"
   ]
  },
  {
   "cell_type": "markdown",
   "id": "cc77a40b-c64f-4d65-8ea7-232d87075fc6",
   "metadata": {},
   "source": [
    "## 练习"
   ]
  },
  {
   "cell_type": "code",
   "execution_count": 27,
   "id": "70b065a8-f2ac-4acd-93c0-97b000d71430",
   "metadata": {},
   "outputs": [
    {
     "name": "stdout",
     "output_type": "stream",
     "text": [
      "In Python you can edit your own codes.\n",
      "In Python you can learn specific parts like list, class etc.\n",
      "In Python you can have a feeling of failure.\n",
      "In Python you can edit your own codes.\n",
      "In Python you can learn specific parts like list, class etc.\n",
      "In Python you can have a feeling of failure.\n"
     ]
    }
   ],
   "source": [
    "#10.1 python学习笔记\n",
    "from pathlib import Path\n",
    "\n",
    "path = Path('learning_python.txt')\n",
    "contents = path.read_text().rstrip()\n",
    "\n",
    "print(contents)\n",
    "\n",
    "lines = contents.splitlines()\n",
    "for line in lines:\n",
    "    print(line)"
   ]
  },
  {
   "cell_type": "code",
   "execution_count": 28,
   "id": "b305eefe-f778-4440-91fc-05bb54229fef",
   "metadata": {},
   "outputs": [
    {
     "name": "stdout",
     "output_type": "stream",
     "text": [
      "In C you can edit your own codes.\n",
      "In C you can learn specific parts like list, class etc.\n",
      "In C you can have a feeling of failure.\n"
     ]
    }
   ],
   "source": [
    "#10.2 C语言学习笔记\n",
    "from pathlib import Path \n",
    "\n",
    "path = Path('learning_python.txt')\n",
    "contents = path.read_text()\n",
    "lines = contents.splitlines()\n",
    "\n",
    "for line in lines:\n",
    "    line = line.replace('Python', 'C')\n",
    "    print(line)"
   ]
  },
  {
   "cell_type": "code",
   "execution_count": 29,
   "id": "3ce6548a-fcd3-4507-94b6-ec7c500634ff",
   "metadata": {},
   "outputs": [
    {
     "name": "stdout",
     "output_type": "stream",
     "text": [
      "In C you can edit your own codes.\n",
      "In C you can learn specific parts like list, class etc.\n",
      "In C you can have a feeling of failure.\n"
     ]
    }
   ],
   "source": [
    "#10.3 简化代码\n",
    "from pathlib import Path \n",
    "\n",
    "path = Path('learning_python.txt')\n",
    "contents = path.read_text()\n",
    "\n",
    "for line in contents.splitlines():\n",
    "    line = line.replace('Python', 'C')\n",
    "    print(line)"
   ]
  },
  {
   "cell_type": "code",
   "execution_count": 30,
   "id": "e584b5fa-f7f0-4888-b787-3d2dbc726f31",
   "metadata": {},
   "outputs": [
    {
     "name": "stdin",
     "output_type": "stream",
     "text": [
      "What is your name? Counti\n"
     ]
    },
    {
     "data": {
      "text/plain": [
       "8"
      ]
     },
     "execution_count": 30,
     "metadata": {},
     "output_type": "execute_result"
    }
   ],
   "source": [
    "#10.4 访客\n",
    "from pathlib import Path\n",
    "import json\n",
    "\n",
    "username = input(\"What is your name?\")\n",
    "contents = json.dumps(username)\n",
    "path = Path('guest.txt')\n",
    "path.write_text(contents)"
   ]
  },
  {
   "cell_type": "code",
   "execution_count": 31,
   "id": "73ddb24b-b5b0-41b7-826f-3d9f85241228",
   "metadata": {},
   "outputs": [
    {
     "name": "stdin",
     "output_type": "stream",
     "text": [
      "What is your name? Counti\n",
      "What is your name? Amber\n",
      "What is your name? quit\n"
     ]
    }
   ],
   "source": [
    "#10.5 访客簿 ?\n",
    "from pathlib import Path\n",
    "\n",
    "while True:\n",
    "    content = input(\"What is your name?\")\n",
    "    if content.lower() == 'quit':\n",
    "        break\n",
    "    else:\n",
    "        path = Path('guest_book.txt')\n",
    "        path.write_text(f\"My name is {content}.\")"
   ]
  },
  {
   "cell_type": "code",
   "execution_count": 32,
   "id": "7828e830-f816-4999-98fa-e3bdc74317ab",
   "metadata": {},
   "outputs": [
    {
     "name": "stdin",
     "output_type": "stream",
     "text": [
      "请输入第一个整数： 1\n",
      "请输入第二个整数： 2\n"
     ]
    },
    {
     "name": "stdout",
     "output_type": "stream",
     "text": [
      "两个数的和是： 3\n"
     ]
    }
   ],
   "source": [
    "#10.6 加法运算\n",
    "def get_number_input(prompt):  \n",
    "    while True:  \n",
    "        try:  \n",
    "            return int(input(prompt))  \n",
    "        except ValueError:  \n",
    "            print(\"错误：请输入一个有效的整数。\")  \n",
    "  \n",
    "# 主程序  \n",
    "try:  \n",
    "    num1 = get_number_input(\"请输入第一个整数：\")  \n",
    "    num2 = get_number_input(\"请输入第二个整数：\")  \n",
    "    result = num1 + num2  \n",
    "    print(\"两个数的和是：\", result)  \n",
    "except ValueError as e:  \n",
    "    # 这里实际上不会执行，因为 get_number_input 已经处理了 ValueError  \n",
    "    print(\"发生了一个错误：\", str(e))"
   ]
  },
  {
   "cell_type": "code",
   "execution_count": 33,
   "id": "de255c98-a824-4188-89e6-82fc6f416fa9",
   "metadata": {},
   "outputs": [
    {
     "name": "stdout",
     "output_type": "stream",
     "text": [
      "欢迎使用加法计算器！\n"
     ]
    },
    {
     "name": "stdin",
     "output_type": "stream",
     "text": [
      "请输入第一个整数（输入 'q' 退出）： 1\n",
      "请输入第二个整数（输入 'q' 退出）： 2\n"
     ]
    },
    {
     "name": "stdout",
     "output_type": "stream",
     "text": [
      "两个数的和是： 3\n"
     ]
    },
    {
     "name": "stdin",
     "output_type": "stream",
     "text": [
      "请输入第一个整数（输入 'q' 退出）： 7\n",
      "请输入第二个整数（输入 'q' 退出）： q\n"
     ]
    },
    {
     "name": "stdout",
     "output_type": "stream",
     "text": [
      "退出加法计算器。\n"
     ]
    }
   ],
   "source": [
    "#10.7 加法运算器\n",
    "def get_number_input(prompt):  \n",
    "    while True:  \n",
    "        user_input = input(prompt).strip()  \n",
    "        if user_input.lower() == 'q':  \n",
    "            return None  # 返回 None 表示用户想要退出  \n",
    "        try:  \n",
    "            return int(user_input)  \n",
    "        except ValueError:  \n",
    "            print(\"错误：请输入一个有效的整数或输入 'q' 退出。\")  \n",
    "  \n",
    "# 主程序  \n",
    "print(\"欢迎使用加法计算器！\")  \n",
    "running = True  \n",
    "while running:  \n",
    "    num1 = get_number_input(\"请输入第一个整数（输入 'q' 退出）：\")  \n",
    "    if num1 is None:  \n",
    "        print(\"退出加法计算器。\")  \n",
    "        running = False  \n",
    "    else:  \n",
    "        num2 = get_number_input(\"请输入第二个整数（输入 'q' 退出）：\")  \n",
    "        if num2 is None:  \n",
    "            print(\"退出加法计算器。\")  \n",
    "            running = False  \n",
    "        else:  \n",
    "            result = num1 + num2  \n",
    "            print(\"两个数的和是：\", result)"
   ]
  },
  {
   "cell_type": "code",
   "execution_count": 34,
   "id": "44305030-d8f3-46a5-8e8f-e5ced38f3bb3",
   "metadata": {},
   "outputs": [
    {
     "name": "stdout",
     "output_type": "stream",
     "text": [
      "Sorry, the file cat.txt does not exist.\n"
     ]
    }
   ],
   "source": [
    "#10.8 猫和狗\n",
    "from pathlib import Path \n",
    "\n",
    "path = Path('cat.txt')\n",
    "try:\n",
    "    contents = path.read_text(encoding='utf-8')\n",
    "    print(contents)\n",
    "except FileNotFoundError:\n",
    "    print(f\"Sorry, the file {path} does not exist.\")"
   ]
  },
  {
   "cell_type": "code",
   "execution_count": 35,
   "id": "088b5fba-84bf-4696-bc30-4191463da880",
   "metadata": {},
   "outputs": [
    {
     "name": "stdin",
     "output_type": "stream",
     "text": [
      "What is your favorite number?  7\n"
     ]
    },
    {
     "name": "stdout",
     "output_type": "stream",
     "text": [
      "I know your favorite number! It's 7.\n"
     ]
    }
   ],
   "source": [
    "#10.11 喜欢的数\n",
    "from pathlib import Path\n",
    "import json\n",
    "\n",
    "fav_num = input(\"What is your favorite number? \")\n",
    "path = Path('number.json')\n",
    "contents = json.dumps(fav_num)\n",
    "path.write_text(contents)\n",
    "\n",
    "from pathlib import Path\n",
    "import json\n",
    "\n",
    "path = Path('number.json')\n",
    "contents = path.read_text()\n",
    "fav_num = json.loads(contents)\n",
    "print(f\"I know your favorite number! It's {fav_num}.\")"
   ]
  },
  {
   "cell_type": "code",
   "execution_count": 36,
   "id": "9243aa8c-80e9-408c-91ed-60ff5b09713e",
   "metadata": {},
   "outputs": [
    {
     "name": "stdout",
     "output_type": "stream",
     "text": [
      "I know your favorite number! It's 7.\n"
     ]
    }
   ],
   "source": [
    "#10.12 记住喜欢的数\n",
    "from pathlib import Path\n",
    "import json\n",
    "\n",
    "path = Path('number.json')\n",
    "if path.exists():\n",
    "    contents = path.read_text()\n",
    "    fav_num = json.loads(contents)\n",
    "    print(f\"I know your favorite number! It's {fav_num}.\")\n",
    "else:\n",
    "    fav_num = input(\"What is your favorite number? \")\n",
    "    contents = json.dumps(fav_num)\n",
    "    path.write_text(contents)\n",
    "    print(f\"I know your favorite number! It's {fav_num}.\")"
   ]
  },
  {
   "cell_type": "code",
   "execution_count": null,
   "id": "71b72341-ee54-4725-b506-7edfe07c5290",
   "metadata": {},
   "outputs": [],
   "source": [
    "#10.13 用户字典\n",
    "from pathlib import Path  \n",
    "import json  \n",
    "  \n",
    "def get_stored_user_info(path):  \n",
    "    \"\"\"如果存储了用户信息，就获取它\"\"\"  \n",
    "    if path.exists():  \n",
    "        contents = path.read_text()  \n",
    "        user_info = json.loads(contents)  \n",
    "        return user_info  \n",
    "    else:  \n",
    "        return None  \n",
    "  \n",
    "def get_new_user_info(path):  \n",
    "    \"\"\"提示用户输入用户名、电子邮件和年龄\"\"\"  \n",
    "    username = input(\"What is your name? \")  \n",
    "    email = input(\"What is your email? \")  \n",
    "    age = input(\"What is your age? \")  \n",
    "    user_info = {\"username\": username, \"email\": email, \"age\": age}  \n",
    "    contents = json.dumps(user_info)  \n",
    "    path.write_text(contents)  \n",
    "    return user_info  \n",
    "  \n",
    "def greet_user():  \n",
    "    \"\"\"问候用户，并指出其信息\"\"\"  \n",
    "    path = Path('user_info.json')  \n",
    "    user_info = get_stored_user_info(path)  \n",
    "    if user_info:  \n",
    "        print(f\"Welcome back, {user_info['username']}!\")  \n",
    "        print(f\"We remember your email is {user_info['email']} and you are {user_info['age']} years old.\")  \n",
    "    else:  \n",
    "        user_info = get_new_user_info(path)  \n",
    "        print(f\"We'll remember you when you come back, {user_info['username']}!\")  \n",
    "  \n",
    "greet_user()"
   ]
  },
  {
   "cell_type": "code",
   "execution_count": null,
   "id": "2f5a5faa-3cd1-42e8-aa1a-ae083d7ef977",
   "metadata": {},
   "outputs": [],
   "source": [
    "#10.14 验证用户  \n",
    "def verify_username(path, input_username):  \n",
    "    \"\"\"验证用户名是否正确\"\"\"  \n",
    "    user_info = get_stored_user_info(path)  \n",
    "    if user_info and user_info['username'] == input_username:  \n",
    "        return True  \n",
    "    return False  \n",
    "  \n",
    "def greet_user():  \n",
    "    \"\"\"问候用户，并验证用户名\"\"\"  \n",
    "    path = Path('user_info.json')  \n",
    "    user_info = get_stored_user_info(path)  \n",
    "      \n",
    "    if user_info:  \n",
    "        input_username = input(\"Please enter your username to verify: \")  \n",
    "        if verify_username(path, input_username):  \n",
    "            print(f\"Welcome back, {user_info['username']}!\")  \n",
    "            print(f\"We remember your email is {user_info['email']} and you are {user_info['age']} years old.\")  \n",
    "        else:  \n",
    "            print(\"Incorrect username. Please enter your information again.\")  \n",
    "            user_info = get_new_user_info(path)  \n",
    "            print(f\"We'll remember you when you come back, {user_info['username']}!\")  \n",
    "    else:  \n",
    "        user_info = get_new_user_info(path)  \n",
    "        print(f\"We'll remember you when you come back, {user_info['username']}!\")  \n",
    "  \n",
    "greet_user()"
   ]
  }
 ],
 "metadata": {
  "kernelspec": {
   "display_name": "Python 3 (ipykernel)",
   "language": "python",
   "name": "python3"
  },
  "language_info": {
   "codemirror_mode": {
    "name": "ipython",
    "version": 3
   },
   "file_extension": ".py",
   "mimetype": "text/x-python",
   "name": "python",
   "nbconvert_exporter": "python",
   "pygments_lexer": "ipython3",
   "version": "3.11.7"
  }
 },
 "nbformat": 4,
 "nbformat_minor": 5
}
